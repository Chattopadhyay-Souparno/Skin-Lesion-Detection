{
  "cells": [
    {
      "cell_type": "code",
      "execution_count": null,
      "metadata": {
        "colab": {
          "base_uri": "https://localhost:8080/"
        },
        "id": "UpvphJhXkiNL",
        "outputId": "0fced24b-31b1-4138-9750-81becc78daae"
      },
      "outputs": [
        {
          "name": "stdout",
          "output_type": "stream",
          "text": [
            "Mounted at /content/drive\n"
          ]
        }
      ],
      "source": [
        "from google.colab import drive\n",
        "drive.mount('/content/drive')"
      ]
    },
    {
      "cell_type": "code",
      "execution_count": null,
      "metadata": {
        "colab": {
          "base_uri": "https://localhost:8080/"
        },
        "id": "SG2mzUa7oJHj",
        "outputId": "38900c5c-0146-4b83-9a76-e28d559f9ff7"
      },
      "outputs": [
        {
          "name": "stdout",
          "output_type": "stream",
          "text": [
            "Class-to-Label Mapping for Training Dataset:\n",
            "{'nevus': 0, 'others': 1}\n"
          ]
        },
        {
          "name": "stderr",
          "output_type": "stream",
          "text": [
            "Epoch 1/50: 100%|██████████| 475/475 [03:51<00:00,  2.06it/s]"
          ]
        },
        {
          "name": "stdout",
          "output_type": "stream",
          "text": [
            "Epoch [1/50] Average Training Loss - Swin: 0.4209, RegNetY: 0.4320\n"
          ]
        },
        {
          "name": "stderr",
          "output_type": "stream",
          "text": [
            "\n"
          ]
        },
        {
          "name": "stdout",
          "output_type": "stream",
          "text": [
            "Validation Loss - Swin: 0.3404, RegNetY: 0.3754, Total: 0.7158\n",
            "Validation Accuracy - Swin: 85.01%, RegNetY: 83.59%, Ensemble: 84.69%\n",
            "Best model saved at epoch 1 with ensemble validation accuracy 84.69%\n"
          ]
        },
        {
          "name": "stderr",
          "output_type": "stream",
          "text": [
            "Epoch 2/50: 100%|██████████| 475/475 [02:38<00:00,  3.00it/s]"
          ]
        },
        {
          "name": "stdout",
          "output_type": "stream",
          "text": [
            "Epoch [2/50] Average Training Loss - Swin: 0.3451, RegNetY: 0.3511\n"
          ]
        },
        {
          "name": "stderr",
          "output_type": "stream",
          "text": [
            "\n"
          ]
        },
        {
          "name": "stdout",
          "output_type": "stream",
          "text": [
            "Validation Loss - Swin: 0.3211, RegNetY: 0.3104, Total: 0.6315\n",
            "Validation Accuracy - Swin: 86.56%, RegNetY: 86.85%, Ensemble: 87.43%\n",
            "Best model saved at epoch 2 with ensemble validation accuracy 87.43%\n"
          ]
        },
        {
          "name": "stderr",
          "output_type": "stream",
          "text": [
            "Epoch 3/50: 100%|██████████| 475/475 [02:37<00:00,  3.01it/s]"
          ]
        },
        {
          "name": "stdout",
          "output_type": "stream",
          "text": [
            "Epoch [3/50] Average Training Loss - Swin: 0.3179, RegNetY: 0.3221\n"
          ]
        },
        {
          "name": "stderr",
          "output_type": "stream",
          "text": [
            "\n"
          ]
        },
        {
          "name": "stdout",
          "output_type": "stream",
          "text": [
            "Validation Loss - Swin: 0.2885, RegNetY: 0.3179, Total: 0.6064\n",
            "Validation Accuracy - Swin: 88.22%, RegNetY: 86.93%, Ensemble: 88.36%\n",
            "Best model saved at epoch 3 with ensemble validation accuracy 88.36%\n"
          ]
        },
        {
          "name": "stderr",
          "output_type": "stream",
          "text": [
            "Epoch 4/50: 100%|██████████| 475/475 [02:37<00:00,  3.02it/s]"
          ]
        },
        {
          "name": "stdout",
          "output_type": "stream",
          "text": [
            "Epoch [4/50] Average Training Loss - Swin: 0.2927, RegNetY: 0.2921\n"
          ]
        },
        {
          "name": "stderr",
          "output_type": "stream",
          "text": [
            "\n"
          ]
        },
        {
          "name": "stdout",
          "output_type": "stream",
          "text": [
            "Validation Loss - Swin: 0.2821, RegNetY: 0.2976, Total: 0.5797\n",
            "Validation Accuracy - Swin: 88.86%, RegNetY: 88.12%, Ensemble: 89.07%\n",
            "Best model saved at epoch 4 with ensemble validation accuracy 89.07%\n"
          ]
        },
        {
          "name": "stderr",
          "output_type": "stream",
          "text": [
            "Epoch 5/50: 100%|██████████| 475/475 [02:38<00:00,  3.01it/s]"
          ]
        },
        {
          "name": "stdout",
          "output_type": "stream",
          "text": [
            "Epoch [5/50] Average Training Loss - Swin: 0.2651, RegNetY: 0.2637\n"
          ]
        },
        {
          "name": "stderr",
          "output_type": "stream",
          "text": [
            "\n"
          ]
        },
        {
          "name": "stdout",
          "output_type": "stream",
          "text": [
            "Validation Loss - Swin: 0.3043, RegNetY: 0.2804, Total: 0.5847\n",
            "Validation Accuracy - Swin: 86.64%, RegNetY: 88.67%, Ensemble: 89.09%\n",
            "Best model saved at epoch 5 with ensemble validation accuracy 89.09%\n"
          ]
        },
        {
          "name": "stderr",
          "output_type": "stream",
          "text": [
            "Epoch 6/50: 100%|██████████| 475/475 [02:38<00:00,  3.00it/s]"
          ]
        },
        {
          "name": "stdout",
          "output_type": "stream",
          "text": [
            "Epoch [6/50] Average Training Loss - Swin: 0.2399, RegNetY: 0.2453\n"
          ]
        },
        {
          "name": "stderr",
          "output_type": "stream",
          "text": [
            "\n"
          ]
        },
        {
          "name": "stdout",
          "output_type": "stream",
          "text": [
            "Validation Loss - Swin: 0.2667, RegNetY: 0.2863, Total: 0.5530\n",
            "Validation Accuracy - Swin: 89.09%, RegNetY: 88.17%, Ensemble: 89.52%\n",
            "Best model saved at epoch 6 with ensemble validation accuracy 89.52%\n"
          ]
        },
        {
          "name": "stderr",
          "output_type": "stream",
          "text": [
            "Epoch 7/50: 100%|██████████| 475/475 [02:37<00:00,  3.01it/s]"
          ]
        },
        {
          "name": "stdout",
          "output_type": "stream",
          "text": [
            "Epoch [7/50] Average Training Loss - Swin: 0.2293, RegNetY: 0.2212\n"
          ]
        },
        {
          "name": "stderr",
          "output_type": "stream",
          "text": [
            "\n"
          ]
        },
        {
          "name": "stdout",
          "output_type": "stream",
          "text": [
            "Validation Loss - Swin: 0.2922, RegNetY: 0.3019, Total: 0.5942\n",
            "Validation Accuracy - Swin: 88.49%, RegNetY: 88.04%, Ensemble: 89.57%\n",
            "Best model saved at epoch 7 with ensemble validation accuracy 89.57%\n"
          ]
        },
        {
          "name": "stderr",
          "output_type": "stream",
          "text": [
            "Epoch 8/50: 100%|██████████| 475/475 [02:37<00:00,  3.02it/s]"
          ]
        },
        {
          "name": "stdout",
          "output_type": "stream",
          "text": [
            "Epoch [8/50] Average Training Loss - Swin: 0.2088, RegNetY: 0.2112\n"
          ]
        },
        {
          "name": "stderr",
          "output_type": "stream",
          "text": [
            "\n"
          ]
        },
        {
          "name": "stdout",
          "output_type": "stream",
          "text": [
            "Validation Loss - Swin: 0.2723, RegNetY: 0.2804, Total: 0.5527\n",
            "Validation Accuracy - Swin: 89.01%, RegNetY: 89.33%, Ensemble: 90.46%\n",
            "Best model saved at epoch 8 with ensemble validation accuracy 90.46%\n"
          ]
        },
        {
          "name": "stderr",
          "output_type": "stream",
          "text": [
            "Epoch 9/50: 100%|██████████| 475/475 [02:37<00:00,  3.01it/s]"
          ]
        },
        {
          "name": "stdout",
          "output_type": "stream",
          "text": [
            "Epoch [9/50] Average Training Loss - Swin: 0.1956, RegNetY: 0.1993\n"
          ]
        },
        {
          "name": "stderr",
          "output_type": "stream",
          "text": [
            "\n"
          ]
        },
        {
          "name": "stdout",
          "output_type": "stream",
          "text": [
            "Validation Loss - Swin: 0.2926, RegNetY: 0.3021, Total: 0.5947\n",
            "Validation Accuracy - Swin: 89.30%, RegNetY: 88.04%, Ensemble: 90.09%\n",
            "No improvement in ensemble validation accuracy.\n"
          ]
        },
        {
          "name": "stderr",
          "output_type": "stream",
          "text": [
            "Epoch 10/50: 100%|██████████| 475/475 [02:35<00:00,  3.06it/s]"
          ]
        },
        {
          "name": "stdout",
          "output_type": "stream",
          "text": [
            "Epoch [10/50] Average Training Loss - Swin: 0.1808, RegNetY: 0.1752\n"
          ]
        },
        {
          "name": "stderr",
          "output_type": "stream",
          "text": [
            "\n"
          ]
        },
        {
          "name": "stdout",
          "output_type": "stream",
          "text": [
            "Validation Loss - Swin: 0.2568, RegNetY: 0.2857, Total: 0.5425\n",
            "Validation Accuracy - Swin: 89.83%, RegNetY: 89.67%, Ensemble: 91.39%\n",
            "Best model saved at epoch 10 with ensemble validation accuracy 91.39%\n"
          ]
        },
        {
          "name": "stderr",
          "output_type": "stream",
          "text": [
            "Epoch 11/50: 100%|██████████| 475/475 [02:38<00:00,  3.00it/s]"
          ]
        },
        {
          "name": "stdout",
          "output_type": "stream",
          "text": [
            "Epoch [11/50] Average Training Loss - Swin: 0.1640, RegNetY: 0.1591\n"
          ]
        },
        {
          "name": "stderr",
          "output_type": "stream",
          "text": [
            "\n"
          ]
        },
        {
          "name": "stdout",
          "output_type": "stream",
          "text": [
            "Validation Loss - Swin: 0.3130, RegNetY: 0.2965, Total: 0.6095\n",
            "Validation Accuracy - Swin: 89.12%, RegNetY: 89.09%, Ensemble: 90.25%\n",
            "No improvement in ensemble validation accuracy.\n"
          ]
        },
        {
          "name": "stderr",
          "output_type": "stream",
          "text": [
            "Epoch 12/50: 100%|██████████| 475/475 [02:35<00:00,  3.05it/s]"
          ]
        },
        {
          "name": "stdout",
          "output_type": "stream",
          "text": [
            "Epoch [12/50] Average Training Loss - Swin: 0.1465, RegNetY: 0.1490\n"
          ]
        },
        {
          "name": "stderr",
          "output_type": "stream",
          "text": [
            "\n"
          ]
        },
        {
          "name": "stdout",
          "output_type": "stream",
          "text": [
            "Validation Loss - Swin: 0.2957, RegNetY: 0.2821, Total: 0.5778\n",
            "Validation Accuracy - Swin: 89.46%, RegNetY: 89.67%, Ensemble: 90.91%\n",
            "No improvement in ensemble validation accuracy.\n"
          ]
        },
        {
          "name": "stderr",
          "output_type": "stream",
          "text": [
            "Epoch 13/50: 100%|██████████| 475/475 [02:35<00:00,  3.06it/s]"
          ]
        },
        {
          "name": "stdout",
          "output_type": "stream",
          "text": [
            "Epoch [13/50] Average Training Loss - Swin: 0.1383, RegNetY: 0.1374\n"
          ]
        },
        {
          "name": "stderr",
          "output_type": "stream",
          "text": [
            "\n"
          ]
        },
        {
          "name": "stdout",
          "output_type": "stream",
          "text": [
            "Validation Loss - Swin: 0.2984, RegNetY: 0.3143, Total: 0.6126\n",
            "Validation Accuracy - Swin: 89.81%, RegNetY: 89.12%, Ensemble: 91.23%\n",
            "No improvement in ensemble validation accuracy.\n"
          ]
        },
        {
          "name": "stderr",
          "output_type": "stream",
          "text": [
            "Epoch 14/50: 100%|██████████| 475/475 [02:35<00:00,  3.06it/s]"
          ]
        },
        {
          "name": "stdout",
          "output_type": "stream",
          "text": [
            "Epoch [14/50] Average Training Loss - Swin: 0.1298, RegNetY: 0.1239\n"
          ]
        },
        {
          "name": "stderr",
          "output_type": "stream",
          "text": [
            "\n"
          ]
        },
        {
          "name": "stdout",
          "output_type": "stream",
          "text": [
            "Validation Loss - Swin: 0.2758, RegNetY: 0.3116, Total: 0.5874\n",
            "Validation Accuracy - Swin: 89.94%, RegNetY: 89.33%, Ensemble: 91.28%\n",
            "No improvement in ensemble validation accuracy.\n"
          ]
        },
        {
          "name": "stderr",
          "output_type": "stream",
          "text": [
            "Epoch 15/50: 100%|██████████| 475/475 [02:35<00:00,  3.06it/s]"
          ]
        },
        {
          "name": "stdout",
          "output_type": "stream",
          "text": [
            "Epoch [15/50] Average Training Loss - Swin: 0.1202, RegNetY: 0.1243\n"
          ]
        },
        {
          "name": "stderr",
          "output_type": "stream",
          "text": [
            "\n"
          ]
        },
        {
          "name": "stdout",
          "output_type": "stream",
          "text": [
            "Validation Loss - Swin: 0.2837, RegNetY: 0.3061, Total: 0.5898\n",
            "Validation Accuracy - Swin: 89.83%, RegNetY: 89.62%, Ensemble: 91.10%\n",
            "No improvement in ensemble validation accuracy.\n"
          ]
        },
        {
          "name": "stderr",
          "output_type": "stream",
          "text": [
            "Epoch 16/50: 100%|██████████| 475/475 [02:35<00:00,  3.05it/s]"
          ]
        },
        {
          "name": "stdout",
          "output_type": "stream",
          "text": [
            "Epoch [16/50] Average Training Loss - Swin: 0.1031, RegNetY: 0.1129\n"
          ]
        },
        {
          "name": "stderr",
          "output_type": "stream",
          "text": [
            "\n"
          ]
        },
        {
          "name": "stdout",
          "output_type": "stream",
          "text": [
            "Validation Loss - Swin: 0.3372, RegNetY: 0.3138, Total: 0.6511\n",
            "Validation Accuracy - Swin: 89.91%, RegNetY: 90.20%, Ensemble: 91.54%\n",
            "Best model saved at epoch 16 with ensemble validation accuracy 91.54%\n"
          ]
        },
        {
          "name": "stderr",
          "output_type": "stream",
          "text": [
            "Epoch 17/50: 100%|██████████| 475/475 [02:37<00:00,  3.01it/s]"
          ]
        },
        {
          "name": "stdout",
          "output_type": "stream",
          "text": [
            "Epoch [17/50] Average Training Loss - Swin: 0.1004, RegNetY: 0.1046\n"
          ]
        },
        {
          "name": "stderr",
          "output_type": "stream",
          "text": [
            "\n"
          ]
        },
        {
          "name": "stdout",
          "output_type": "stream",
          "text": [
            "Validation Loss - Swin: 0.2817, RegNetY: 0.3061, Total: 0.5878\n",
            "Validation Accuracy - Swin: 91.33%, RegNetY: 90.41%, Ensemble: 92.10%\n",
            "Best model saved at epoch 17 with ensemble validation accuracy 92.10%\n"
          ]
        },
        {
          "name": "stderr",
          "output_type": "stream",
          "text": [
            "Epoch 18/50: 100%|██████████| 475/475 [02:37<00:00,  3.02it/s]"
          ]
        },
        {
          "name": "stdout",
          "output_type": "stream",
          "text": [
            "Epoch [18/50] Average Training Loss - Swin: 0.0803, RegNetY: 0.0946\n"
          ]
        },
        {
          "name": "stderr",
          "output_type": "stream",
          "text": [
            "\n"
          ]
        },
        {
          "name": "stdout",
          "output_type": "stream",
          "text": [
            "Validation Loss - Swin: 0.3218, RegNetY: 0.3118, Total: 0.6336\n",
            "Validation Accuracy - Swin: 91.02%, RegNetY: 90.67%, Ensemble: 92.44%\n",
            "Best model saved at epoch 18 with ensemble validation accuracy 92.44%\n"
          ]
        },
        {
          "name": "stderr",
          "output_type": "stream",
          "text": [
            "Epoch 19/50: 100%|██████████| 475/475 [02:38<00:00,  3.00it/s]"
          ]
        },
        {
          "name": "stdout",
          "output_type": "stream",
          "text": [
            "Epoch [19/50] Average Training Loss - Swin: 0.0811, RegNetY: 0.0870\n"
          ]
        },
        {
          "name": "stderr",
          "output_type": "stream",
          "text": [
            "\n"
          ]
        },
        {
          "name": "stdout",
          "output_type": "stream",
          "text": [
            "Validation Loss - Swin: 0.2783, RegNetY: 0.3430, Total: 0.6213\n",
            "Validation Accuracy - Swin: 91.62%, RegNetY: 90.38%, Ensemble: 91.97%\n",
            "No improvement in ensemble validation accuracy.\n"
          ]
        },
        {
          "name": "stderr",
          "output_type": "stream",
          "text": [
            "Epoch 20/50: 100%|██████████| 475/475 [02:35<00:00,  3.06it/s]"
          ]
        },
        {
          "name": "stdout",
          "output_type": "stream",
          "text": [
            "Epoch [20/50] Average Training Loss - Swin: 0.0750, RegNetY: 0.0819\n"
          ]
        },
        {
          "name": "stderr",
          "output_type": "stream",
          "text": [
            "\n"
          ]
        },
        {
          "name": "stdout",
          "output_type": "stream",
          "text": [
            "Validation Loss - Swin: 0.2881, RegNetY: 0.3374, Total: 0.6255\n",
            "Validation Accuracy - Swin: 91.23%, RegNetY: 90.62%, Ensemble: 92.02%\n",
            "No improvement in ensemble validation accuracy.\n"
          ]
        },
        {
          "name": "stderr",
          "output_type": "stream",
          "text": [
            "Epoch 21/50: 100%|██████████| 475/475 [02:35<00:00,  3.05it/s]"
          ]
        },
        {
          "name": "stdout",
          "output_type": "stream",
          "text": [
            "Epoch [21/50] Average Training Loss - Swin: 0.0688, RegNetY: 0.0747\n"
          ]
        },
        {
          "name": "stderr",
          "output_type": "stream",
          "text": [
            "\n"
          ]
        },
        {
          "name": "stdout",
          "output_type": "stream",
          "text": [
            "Validation Loss - Swin: 0.3087, RegNetY: 0.3343, Total: 0.6430\n",
            "Validation Accuracy - Swin: 91.07%, RegNetY: 90.49%, Ensemble: 91.83%\n",
            "No improvement in ensemble validation accuracy.\n"
          ]
        },
        {
          "name": "stderr",
          "output_type": "stream",
          "text": [
            "Epoch 22/50: 100%|██████████| 475/475 [02:35<00:00,  3.06it/s]"
          ]
        },
        {
          "name": "stdout",
          "output_type": "stream",
          "text": [
            "Epoch [22/50] Average Training Loss - Swin: 0.0616, RegNetY: 0.0718\n"
          ]
        },
        {
          "name": "stderr",
          "output_type": "stream",
          "text": [
            "\n"
          ]
        },
        {
          "name": "stdout",
          "output_type": "stream",
          "text": [
            "Validation Loss - Swin: 0.3663, RegNetY: 0.3236, Total: 0.6899\n",
            "Validation Accuracy - Swin: 91.02%, RegNetY: 90.78%, Ensemble: 92.18%\n",
            "No improvement in ensemble validation accuracy.\n"
          ]
        },
        {
          "name": "stderr",
          "output_type": "stream",
          "text": [
            "Epoch 23/50: 100%|██████████| 475/475 [02:35<00:00,  3.05it/s]"
          ]
        },
        {
          "name": "stdout",
          "output_type": "stream",
          "text": [
            "Epoch [23/50] Average Training Loss - Swin: 0.0590, RegNetY: 0.0653\n"
          ]
        },
        {
          "name": "stderr",
          "output_type": "stream",
          "text": [
            "\n"
          ]
        },
        {
          "name": "stdout",
          "output_type": "stream",
          "text": [
            "Validation Loss - Swin: 0.3787, RegNetY: 0.3440, Total: 0.7227\n",
            "Validation Accuracy - Swin: 90.73%, RegNetY: 90.83%, Ensemble: 92.02%\n",
            "No improvement in ensemble validation accuracy.\n"
          ]
        },
        {
          "name": "stderr",
          "output_type": "stream",
          "text": [
            "Epoch 24/50: 100%|██████████| 475/475 [02:35<00:00,  3.06it/s]"
          ]
        },
        {
          "name": "stdout",
          "output_type": "stream",
          "text": [
            "Epoch [24/50] Average Training Loss - Swin: 0.0552, RegNetY: 0.0643\n"
          ]
        },
        {
          "name": "stderr",
          "output_type": "stream",
          "text": [
            "\n"
          ]
        },
        {
          "name": "stdout",
          "output_type": "stream",
          "text": [
            "Validation Loss - Swin: 0.4103, RegNetY: 0.3519, Total: 0.7621\n",
            "Validation Accuracy - Swin: 90.57%, RegNetY: 91.04%, Ensemble: 92.02%\n",
            "No improvement in ensemble validation accuracy.\n"
          ]
        },
        {
          "name": "stderr",
          "output_type": "stream",
          "text": [
            "Epoch 25/50: 100%|██████████| 475/475 [02:35<00:00,  3.06it/s]"
          ]
        },
        {
          "name": "stdout",
          "output_type": "stream",
          "text": [
            "Epoch [25/50] Average Training Loss - Swin: 0.0508, RegNetY: 0.0578\n"
          ]
        },
        {
          "name": "stderr",
          "output_type": "stream",
          "text": [
            "\n"
          ]
        },
        {
          "name": "stdout",
          "output_type": "stream",
          "text": [
            "Validation Loss - Swin: 0.3643, RegNetY: 0.3544, Total: 0.7187\n",
            "Validation Accuracy - Swin: 91.41%, RegNetY: 90.44%, Ensemble: 92.54%\n",
            "Best model saved at epoch 25 with ensemble validation accuracy 92.54%\n"
          ]
        },
        {
          "name": "stderr",
          "output_type": "stream",
          "text": [
            "Epoch 26/50: 100%|██████████| 475/475 [02:38<00:00,  3.00it/s]"
          ]
        },
        {
          "name": "stdout",
          "output_type": "stream",
          "text": [
            "Epoch [26/50] Average Training Loss - Swin: 0.0409, RegNetY: 0.0521\n"
          ]
        },
        {
          "name": "stderr",
          "output_type": "stream",
          "text": [
            "\n"
          ]
        },
        {
          "name": "stdout",
          "output_type": "stream",
          "text": [
            "Validation Loss - Swin: 0.4156, RegNetY: 0.3551, Total: 0.7707\n",
            "Validation Accuracy - Swin: 91.07%, RegNetY: 90.99%, Ensemble: 92.44%\n",
            "No improvement in ensemble validation accuracy.\n"
          ]
        },
        {
          "name": "stderr",
          "output_type": "stream",
          "text": [
            "Epoch 27/50: 100%|██████████| 475/475 [02:35<00:00,  3.06it/s]"
          ]
        },
        {
          "name": "stdout",
          "output_type": "stream",
          "text": [
            "Epoch [27/50] Average Training Loss - Swin: 0.0433, RegNetY: 0.0498\n"
          ]
        },
        {
          "name": "stderr",
          "output_type": "stream",
          "text": [
            "\n"
          ]
        },
        {
          "name": "stdout",
          "output_type": "stream",
          "text": [
            "Validation Loss - Swin: 0.3533, RegNetY: 0.3651, Total: 0.7184\n",
            "Validation Accuracy - Swin: 91.44%, RegNetY: 90.94%, Ensemble: 92.57%\n",
            "Best model saved at epoch 27 with ensemble validation accuracy 92.57%\n"
          ]
        },
        {
          "name": "stderr",
          "output_type": "stream",
          "text": [
            "Epoch 28/50: 100%|██████████| 475/475 [02:37<00:00,  3.01it/s]"
          ]
        },
        {
          "name": "stdout",
          "output_type": "stream",
          "text": [
            "Epoch [28/50] Average Training Loss - Swin: 0.0380, RegNetY: 0.0482\n"
          ]
        },
        {
          "name": "stderr",
          "output_type": "stream",
          "text": [
            "\n"
          ]
        },
        {
          "name": "stdout",
          "output_type": "stream",
          "text": [
            "Validation Loss - Swin: 0.3509, RegNetY: 0.3600, Total: 0.7109\n",
            "Validation Accuracy - Swin: 92.04%, RegNetY: 91.02%, Ensemble: 92.65%\n",
            "Best model saved at epoch 28 with ensemble validation accuracy 92.65%\n"
          ]
        },
        {
          "name": "stderr",
          "output_type": "stream",
          "text": [
            "Epoch 29/50: 100%|██████████| 475/475 [02:37<00:00,  3.02it/s]"
          ]
        },
        {
          "name": "stdout",
          "output_type": "stream",
          "text": [
            "Epoch [29/50] Average Training Loss - Swin: 0.0321, RegNetY: 0.0444\n"
          ]
        },
        {
          "name": "stderr",
          "output_type": "stream",
          "text": [
            "\n"
          ]
        },
        {
          "name": "stdout",
          "output_type": "stream",
          "text": [
            "Validation Loss - Swin: 0.3689, RegNetY: 0.3677, Total: 0.7366\n",
            "Validation Accuracy - Swin: 91.44%, RegNetY: 91.15%, Ensemble: 92.52%\n",
            "No improvement in ensemble validation accuracy.\n"
          ]
        },
        {
          "name": "stderr",
          "output_type": "stream",
          "text": [
            "Epoch 30/50: 100%|██████████| 475/475 [02:35<00:00,  3.05it/s]"
          ]
        },
        {
          "name": "stdout",
          "output_type": "stream",
          "text": [
            "Epoch [30/50] Average Training Loss - Swin: 0.0331, RegNetY: 0.0439\n"
          ]
        },
        {
          "name": "stderr",
          "output_type": "stream",
          "text": [
            "\n"
          ]
        },
        {
          "name": "stdout",
          "output_type": "stream",
          "text": [
            "Validation Loss - Swin: 0.3505, RegNetY: 0.3653, Total: 0.7158\n",
            "Validation Accuracy - Swin: 91.65%, RegNetY: 91.28%, Ensemble: 92.86%\n",
            "Best model saved at epoch 30 with ensemble validation accuracy 92.86%\n"
          ]
        },
        {
          "name": "stderr",
          "output_type": "stream",
          "text": [
            "Epoch 31/50: 100%|██████████| 475/475 [02:38<00:00,  3.01it/s]"
          ]
        },
        {
          "name": "stdout",
          "output_type": "stream",
          "text": [
            "Epoch [31/50] Average Training Loss - Swin: 0.0266, RegNetY: 0.0353\n"
          ]
        },
        {
          "name": "stderr",
          "output_type": "stream",
          "text": [
            "\n"
          ]
        },
        {
          "name": "stdout",
          "output_type": "stream",
          "text": [
            "Validation Loss - Swin: 0.3674, RegNetY: 0.3749, Total: 0.7423\n",
            "Validation Accuracy - Swin: 92.10%, RegNetY: 91.33%, Ensemble: 93.02%\n",
            "Best model saved at epoch 31 with ensemble validation accuracy 93.02%\n"
          ]
        },
        {
          "name": "stderr",
          "output_type": "stream",
          "text": [
            "Epoch 32/50: 100%|██████████| 475/475 [02:38<00:00,  3.00it/s]"
          ]
        },
        {
          "name": "stdout",
          "output_type": "stream",
          "text": [
            "Epoch [32/50] Average Training Loss - Swin: 0.0276, RegNetY: 0.0348\n"
          ]
        },
        {
          "name": "stderr",
          "output_type": "stream",
          "text": [
            "\n"
          ]
        },
        {
          "name": "stdout",
          "output_type": "stream",
          "text": [
            "Validation Loss - Swin: 0.4472, RegNetY: 0.4077, Total: 0.8549\n",
            "Validation Accuracy - Swin: 91.20%, RegNetY: 91.39%, Ensemble: 92.60%\n",
            "No improvement in ensemble validation accuracy.\n"
          ]
        },
        {
          "name": "stderr",
          "output_type": "stream",
          "text": [
            "Epoch 33/50: 100%|██████████| 475/475 [02:35<00:00,  3.05it/s]"
          ]
        },
        {
          "name": "stdout",
          "output_type": "stream",
          "text": [
            "Epoch [33/50] Average Training Loss - Swin: 0.0239, RegNetY: 0.0358\n"
          ]
        },
        {
          "name": "stderr",
          "output_type": "stream",
          "text": [
            "\n"
          ]
        },
        {
          "name": "stdout",
          "output_type": "stream",
          "text": [
            "Validation Loss - Swin: 0.4070, RegNetY: 0.3852, Total: 0.7923\n",
            "Validation Accuracy - Swin: 91.89%, RegNetY: 91.02%, Ensemble: 92.57%\n",
            "No improvement in ensemble validation accuracy.\n"
          ]
        },
        {
          "name": "stderr",
          "output_type": "stream",
          "text": [
            "Epoch 34/50: 100%|██████████| 475/475 [02:35<00:00,  3.06it/s]"
          ]
        },
        {
          "name": "stdout",
          "output_type": "stream",
          "text": [
            "Epoch [34/50] Average Training Loss - Swin: 0.0186, RegNetY: 0.0317\n"
          ]
        },
        {
          "name": "stderr",
          "output_type": "stream",
          "text": [
            "\n"
          ]
        },
        {
          "name": "stdout",
          "output_type": "stream",
          "text": [
            "Validation Loss - Swin: 0.4066, RegNetY: 0.3762, Total: 0.7827\n",
            "Validation Accuracy - Swin: 92.20%, RegNetY: 91.39%, Ensemble: 92.73%\n",
            "No improvement in ensemble validation accuracy.\n"
          ]
        },
        {
          "name": "stderr",
          "output_type": "stream",
          "text": [
            "Epoch 35/50: 100%|██████████| 475/475 [02:35<00:00,  3.06it/s]"
          ]
        },
        {
          "name": "stdout",
          "output_type": "stream",
          "text": [
            "Epoch [35/50] Average Training Loss - Swin: 0.0172, RegNetY: 0.0263\n"
          ]
        },
        {
          "name": "stderr",
          "output_type": "stream",
          "text": [
            "\n"
          ]
        },
        {
          "name": "stdout",
          "output_type": "stream",
          "text": [
            "Validation Loss - Swin: 0.4230, RegNetY: 0.3932, Total: 0.8162\n",
            "Validation Accuracy - Swin: 91.91%, RegNetY: 91.31%, Ensemble: 93.02%\n",
            "No improvement in ensemble validation accuracy.\n"
          ]
        },
        {
          "name": "stderr",
          "output_type": "stream",
          "text": [
            "Epoch 36/50: 100%|██████████| 475/475 [02:35<00:00,  3.06it/s]"
          ]
        },
        {
          "name": "stdout",
          "output_type": "stream",
          "text": [
            "Epoch [36/50] Average Training Loss - Swin: 0.0137, RegNetY: 0.0260\n"
          ]
        },
        {
          "name": "stderr",
          "output_type": "stream",
          "text": [
            "\n"
          ]
        },
        {
          "name": "stdout",
          "output_type": "stream",
          "text": [
            "Validation Loss - Swin: 0.4983, RegNetY: 0.4039, Total: 0.9022\n",
            "Validation Accuracy - Swin: 92.20%, RegNetY: 91.41%, Ensemble: 92.91%\n",
            "No improvement in ensemble validation accuracy.\n"
          ]
        },
        {
          "name": "stderr",
          "output_type": "stream",
          "text": [
            "Epoch 37/50: 100%|██████████| 475/475 [02:35<00:00,  3.05it/s]"
          ]
        },
        {
          "name": "stdout",
          "output_type": "stream",
          "text": [
            "Epoch [37/50] Average Training Loss - Swin: 0.0150, RegNetY: 0.0260\n"
          ]
        },
        {
          "name": "stderr",
          "output_type": "stream",
          "text": [
            "\n"
          ]
        },
        {
          "name": "stdout",
          "output_type": "stream",
          "text": [
            "Validation Loss - Swin: 0.4337, RegNetY: 0.4030, Total: 0.8368\n",
            "Validation Accuracy - Swin: 91.86%, RegNetY: 90.83%, Ensemble: 92.62%\n",
            "No improvement in ensemble validation accuracy.\n"
          ]
        },
        {
          "name": "stderr",
          "output_type": "stream",
          "text": [
            "Epoch 38/50: 100%|██████████| 475/475 [02:35<00:00,  3.05it/s]"
          ]
        },
        {
          "name": "stdout",
          "output_type": "stream",
          "text": [
            "Epoch [38/50] Average Training Loss - Swin: 0.0137, RegNetY: 0.0226\n"
          ]
        },
        {
          "name": "stderr",
          "output_type": "stream",
          "text": [
            "\n"
          ]
        },
        {
          "name": "stdout",
          "output_type": "stream",
          "text": [
            "Validation Loss - Swin: 0.4576, RegNetY: 0.4062, Total: 0.8638\n",
            "Validation Accuracy - Swin: 92.20%, RegNetY: 91.46%, Ensemble: 93.05%\n",
            "Best model saved at epoch 38 with ensemble validation accuracy 93.05%\n"
          ]
        },
        {
          "name": "stderr",
          "output_type": "stream",
          "text": [
            "Epoch 39/50: 100%|██████████| 475/475 [02:38<00:00,  3.00it/s]"
          ]
        },
        {
          "name": "stdout",
          "output_type": "stream",
          "text": [
            "Epoch [39/50] Average Training Loss - Swin: 0.0133, RegNetY: 0.0245\n"
          ]
        },
        {
          "name": "stderr",
          "output_type": "stream",
          "text": [
            "\n"
          ]
        },
        {
          "name": "stdout",
          "output_type": "stream",
          "text": [
            "Validation Loss - Swin: 0.4201, RegNetY: 0.4057, Total: 0.8258\n",
            "Validation Accuracy - Swin: 92.07%, RegNetY: 91.57%, Ensemble: 93.05%\n",
            "No improvement in ensemble validation accuracy.\n"
          ]
        },
        {
          "name": "stderr",
          "output_type": "stream",
          "text": [
            "Epoch 40/50: 100%|██████████| 475/475 [02:35<00:00,  3.06it/s]"
          ]
        },
        {
          "name": "stdout",
          "output_type": "stream",
          "text": [
            "Epoch [40/50] Average Training Loss - Swin: 0.0093, RegNetY: 0.0240\n"
          ]
        },
        {
          "name": "stderr",
          "output_type": "stream",
          "text": [
            "\n"
          ]
        },
        {
          "name": "stdout",
          "output_type": "stream",
          "text": [
            "Validation Loss - Swin: 0.4772, RegNetY: 0.4052, Total: 0.8825\n",
            "Validation Accuracy - Swin: 92.02%, RegNetY: 91.46%, Ensemble: 92.97%\n",
            "No improvement in ensemble validation accuracy.\n"
          ]
        },
        {
          "name": "stderr",
          "output_type": "stream",
          "text": [
            "Epoch 41/50: 100%|██████████| 475/475 [02:35<00:00,  3.05it/s]"
          ]
        },
        {
          "name": "stdout",
          "output_type": "stream",
          "text": [
            "Epoch [41/50] Average Training Loss - Swin: 0.0077, RegNetY: 0.0220\n"
          ]
        },
        {
          "name": "stderr",
          "output_type": "stream",
          "text": [
            "\n"
          ]
        },
        {
          "name": "stdout",
          "output_type": "stream",
          "text": [
            "Validation Loss - Swin: 0.4986, RegNetY: 0.4043, Total: 0.9028\n",
            "Validation Accuracy - Swin: 92.07%, RegNetY: 91.10%, Ensemble: 93.15%\n",
            "Best model saved at epoch 41 with ensemble validation accuracy 93.15%\n"
          ]
        },
        {
          "name": "stderr",
          "output_type": "stream",
          "text": [
            "Epoch 42/50: 100%|██████████| 475/475 [02:38<00:00,  3.00it/s]"
          ]
        },
        {
          "name": "stdout",
          "output_type": "stream",
          "text": [
            "Epoch [42/50] Average Training Loss - Swin: 0.0074, RegNetY: 0.0202\n"
          ]
        },
        {
          "name": "stderr",
          "output_type": "stream",
          "text": [
            "\n"
          ]
        },
        {
          "name": "stdout",
          "output_type": "stream",
          "text": [
            "Validation Loss - Swin: 0.5077, RegNetY: 0.3952, Total: 0.9029\n",
            "Validation Accuracy - Swin: 92.49%, RegNetY: 91.49%, Ensemble: 93.20%\n",
            "Best model saved at epoch 42 with ensemble validation accuracy 93.20%\n"
          ]
        },
        {
          "name": "stderr",
          "output_type": "stream",
          "text": [
            "Epoch 43/50: 100%|██████████| 475/475 [02:38<00:00,  3.00it/s]"
          ]
        },
        {
          "name": "stdout",
          "output_type": "stream",
          "text": [
            "Epoch [43/50] Average Training Loss - Swin: 0.0083, RegNetY: 0.0177\n"
          ]
        },
        {
          "name": "stderr",
          "output_type": "stream",
          "text": [
            "\n"
          ]
        },
        {
          "name": "stdout",
          "output_type": "stream",
          "text": [
            "Validation Loss - Swin: 0.5159, RegNetY: 0.4003, Total: 0.9163\n",
            "Validation Accuracy - Swin: 92.33%, RegNetY: 91.41%, Ensemble: 92.86%\n",
            "No improvement in ensemble validation accuracy.\n"
          ]
        },
        {
          "name": "stderr",
          "output_type": "stream",
          "text": [
            "Epoch 44/50: 100%|██████████| 475/475 [02:35<00:00,  3.05it/s]"
          ]
        },
        {
          "name": "stdout",
          "output_type": "stream",
          "text": [
            "Epoch [44/50] Average Training Loss - Swin: 0.0076, RegNetY: 0.0183\n"
          ]
        },
        {
          "name": "stderr",
          "output_type": "stream",
          "text": [
            "\n"
          ]
        },
        {
          "name": "stdout",
          "output_type": "stream",
          "text": [
            "Validation Loss - Swin: 0.4915, RegNetY: 0.4049, Total: 0.8964\n",
            "Validation Accuracy - Swin: 92.36%, RegNetY: 91.36%, Ensemble: 92.94%\n",
            "No improvement in ensemble validation accuracy.\n"
          ]
        },
        {
          "name": "stderr",
          "output_type": "stream",
          "text": [
            "Epoch 45/50: 100%|██████████| 475/475 [02:35<00:00,  3.05it/s]"
          ]
        },
        {
          "name": "stdout",
          "output_type": "stream",
          "text": [
            "Epoch [45/50] Average Training Loss - Swin: 0.0094, RegNetY: 0.0192\n"
          ]
        },
        {
          "name": "stderr",
          "output_type": "stream",
          "text": [
            "\n"
          ]
        },
        {
          "name": "stdout",
          "output_type": "stream",
          "text": [
            "Validation Loss - Swin: 0.4729, RegNetY: 0.4187, Total: 0.8916\n",
            "Validation Accuracy - Swin: 92.04%, RegNetY: 91.49%, Ensemble: 92.97%\n",
            "No improvement in ensemble validation accuracy.\n"
          ]
        },
        {
          "name": "stderr",
          "output_type": "stream",
          "text": [
            "Epoch 46/50: 100%|██████████| 475/475 [02:35<00:00,  3.05it/s]"
          ]
        },
        {
          "name": "stdout",
          "output_type": "stream",
          "text": [
            "Epoch [46/50] Average Training Loss - Swin: 0.0063, RegNetY: 0.0160\n"
          ]
        },
        {
          "name": "stderr",
          "output_type": "stream",
          "text": [
            "\n"
          ]
        },
        {
          "name": "stdout",
          "output_type": "stream",
          "text": [
            "Validation Loss - Swin: 0.4794, RegNetY: 0.4135, Total: 0.8929\n",
            "Validation Accuracy - Swin: 92.23%, RegNetY: 91.39%, Ensemble: 93.02%\n",
            "No improvement in ensemble validation accuracy.\n"
          ]
        },
        {
          "name": "stderr",
          "output_type": "stream",
          "text": [
            "Epoch 47/50: 100%|██████████| 475/475 [02:35<00:00,  3.05it/s]"
          ]
        },
        {
          "name": "stdout",
          "output_type": "stream",
          "text": [
            "Epoch [47/50] Average Training Loss - Swin: 0.0075, RegNetY: 0.0133\n"
          ]
        },
        {
          "name": "stderr",
          "output_type": "stream",
          "text": [
            "\n"
          ]
        },
        {
          "name": "stdout",
          "output_type": "stream",
          "text": [
            "Validation Loss - Swin: 0.4765, RegNetY: 0.4149, Total: 0.8914\n",
            "Validation Accuracy - Swin: 92.31%, RegNetY: 91.54%, Ensemble: 93.07%\n",
            "No improvement in ensemble validation accuracy.\n"
          ]
        },
        {
          "name": "stderr",
          "output_type": "stream",
          "text": [
            "Epoch 48/50: 100%|██████████| 475/475 [02:35<00:00,  3.05it/s]"
          ]
        },
        {
          "name": "stdout",
          "output_type": "stream",
          "text": [
            "Epoch [48/50] Average Training Loss - Swin: 0.0068, RegNetY: 0.0162\n"
          ]
        },
        {
          "name": "stderr",
          "output_type": "stream",
          "text": [
            "\n"
          ]
        },
        {
          "name": "stdout",
          "output_type": "stream",
          "text": [
            "Validation Loss - Swin: 0.4781, RegNetY: 0.4194, Total: 0.8974\n",
            "Validation Accuracy - Swin: 92.33%, RegNetY: 91.49%, Ensemble: 92.99%\n",
            "No improvement in ensemble validation accuracy.\n"
          ]
        },
        {
          "name": "stderr",
          "output_type": "stream",
          "text": [
            "Epoch 49/50: 100%|██████████| 475/475 [02:35<00:00,  3.06it/s]"
          ]
        },
        {
          "name": "stdout",
          "output_type": "stream",
          "text": [
            "Epoch [49/50] Average Training Loss - Swin: 0.0063, RegNetY: 0.0177\n"
          ]
        },
        {
          "name": "stderr",
          "output_type": "stream",
          "text": [
            "\n"
          ]
        },
        {
          "name": "stdout",
          "output_type": "stream",
          "text": [
            "Validation Loss - Swin: 0.4773, RegNetY: 0.4120, Total: 0.8893\n",
            "Validation Accuracy - Swin: 92.33%, RegNetY: 91.57%, Ensemble: 93.18%\n",
            "No improvement in ensemble validation accuracy.\n"
          ]
        },
        {
          "name": "stderr",
          "output_type": "stream",
          "text": [
            "Epoch 50/50: 100%|██████████| 475/475 [02:35<00:00,  3.05it/s]"
          ]
        },
        {
          "name": "stdout",
          "output_type": "stream",
          "text": [
            "Epoch [50/50] Average Training Loss - Swin: 0.0076, RegNetY: 0.0186\n"
          ]
        },
        {
          "name": "stderr",
          "output_type": "stream",
          "text": [
            "\n"
          ]
        },
        {
          "name": "stdout",
          "output_type": "stream",
          "text": [
            "Validation Loss - Swin: 0.4769, RegNetY: 0.4088, Total: 0.8856\n",
            "Validation Accuracy - Swin: 92.31%, RegNetY: 91.44%, Ensemble: 93.20%\n",
            "No improvement in ensemble validation accuracy.\n",
            "Training completed.\n"
          ]
        },
        {
          "name": "stderr",
          "output_type": "stream",
          "text": [
            "<ipython-input-4-e0a10f372afb>:228: FutureWarning: You are using `torch.load` with `weights_only=False` (the current default value), which uses the default pickle module implicitly. It is possible to construct malicious pickle data which will execute arbitrary code during unpickling (See https://github.com/pytorch/pytorch/blob/main/SECURITY.md#untrusted-models for more details). In a future release, the default value for `weights_only` will be flipped to `True`. This limits the functions that could be executed during unpickling. Arbitrary objects will no longer be allowed to be loaded via this mode unless they are explicitly allowlisted by the user via `torch.serialization.add_safe_globals`. We recommend you start setting `weights_only=True` for any use case where you don't have full control of the loaded file. Please open an issue on GitHub for any issues related to this experimental feature.\n",
            "  checkpoint = torch.load('best_model.pth')\n"
          ]
        },
        {
          "name": "stdout",
          "output_type": "stream",
          "text": [
            "Final Validation Accuracy - Swin: 92.49%, RegNetY: 91.49%, Ensemble: 93.20%\n",
            "Confusion Matrix:\n",
            "[[1822  109]\n",
            " [ 149 1716]]\n"
          ]
        }
      ],
      "source": [
        "# Install necessary libraries (if not already installed)\n",
        "# !pip install --upgrade albumentations timm\n",
        "\n",
        "import os\n",
        "import torch\n",
        "import torch.nn as nn\n",
        "from torchvision.datasets import ImageFolder\n",
        "from torch.utils.data import DataLoader\n",
        "import timm\n",
        "from sklearn.metrics import confusion_matrix\n",
        "import numpy as np\n",
        "from tqdm import tqdm\n",
        "import multiprocessing\n",
        "\n",
        "import albumentations as A\n",
        "from albumentations.pytorch import ToTensorV2\n",
        "from PIL import Image\n",
        "\n",
        "# Define data directories\n",
        "train_dir = '/content/drive/MyDrive/train/'\n",
        "val_dir = '/content/drive/MyDrive/val/val/'\n",
        "\n",
        "# Robust data augmentation\n",
        "train_transforms = A.Compose([\n",
        "    A.Resize(224, 224),\n",
        "    A.OneOf([\n",
        "        A.RandomBrightnessContrast(),\n",
        "        A.ColorJitter(),\n",
        "        A.InvertImg(),\n",
        "    ], p=0.8),\n",
        "    A.OneOf([\n",
        "        A.HorizontalFlip(),\n",
        "        A.VerticalFlip(),\n",
        "        A.RandomRotate90(),\n",
        "        A.ShiftScaleRotate(shift_limit=0.1, scale_limit=0.1, rotate_limit=45),\n",
        "        A.Affine(shear=(-30, 30)),\n",
        "        A.Rotate(limit=45),\n",
        "        A.CoarseDropout(max_holes=8, max_height=8, max_width=8, fill_value=0, p=0.5),\n",
        "        A.Transpose(),\n",
        "    ], p=0.8),\n",
        "    A.Normalize(mean=(0.485, 0.456, 0.406),\n",
        "                std=(0.229, 0.224, 0.225)),\n",
        "    ToTensorV2(),\n",
        "])\n",
        "\n",
        "val_transforms = A.Compose([\n",
        "    A.Resize(224, 224),\n",
        "    A.Normalize(mean=(0.485, 0.456, 0.406),\n",
        "                std=(0.229, 0.224, 0.225)),\n",
        "    ToTensorV2(),\n",
        "])\n",
        "\n",
        "# Custom dataset to use Albumentations\n",
        "class CustomImageDataset(torch.utils.data.Dataset):\n",
        "    def __init__(self, root_dir, transform=None):\n",
        "        self.dataset = ImageFolder(root=root_dir)\n",
        "        self.transform = transform\n",
        "\n",
        "    def __getitem__(self, idx):\n",
        "        img_path, label = self.dataset.samples[idx]\n",
        "        image = np.array(Image.open(img_path).convert('RGB'))\n",
        "        if self.transform:\n",
        "            transformed = self.transform(image=image)\n",
        "            image = transformed['image']\n",
        "        return image, label\n",
        "\n",
        "    def __len__(self):\n",
        "        return len(self.dataset)\n",
        "\n",
        "# Load datasets\n",
        "train_dataset = CustomImageDataset(root_dir=train_dir, transform=train_transforms)\n",
        "val_dataset = CustomImageDataset(root_dir=val_dir, transform=val_transforms)\n",
        "\n",
        "# Verify class-to-label mapping\n",
        "print(\"Class-to-Label Mapping for Training Dataset:\")\n",
        "print(train_dataset.dataset.class_to_idx)\n",
        "\n",
        "# DataLoaders\n",
        "num_workers = multiprocessing.cpu_count() - 1\n",
        "train_loader = DataLoader(train_dataset, batch_size=32, shuffle=True, num_workers=num_workers, pin_memory=True)\n",
        "val_loader = DataLoader(val_dataset, batch_size=32, shuffle=False, num_workers=num_workers, pin_memory=True)\n",
        "\n",
        "# Define models with dropout\n",
        "device = torch.device('cuda' if torch.cuda.is_available() else 'cpu')\n",
        "\n",
        "# Swin Transformer Model with Dropout and Weight Decay\n",
        "model_swin = timm.create_model('swin_base_patch4_window7_224', pretrained=True, num_classes=2, drop_rate=0.2)\n",
        "model_swin = model_swin.to(device)\n",
        "\n",
        "# RegNetY Model with Dropout and Weight Decay\n",
        "model_regnet = timm.create_model('regnety_032', pretrained=True, num_classes=2, drop_rate=0.2)\n",
        "model_regnet = model_regnet.to(device)\n",
        "\n",
        "# Define loss and optimizer with weight decay\n",
        "criterion = nn.CrossEntropyLoss()\n",
        "optimizer_swin = torch.optim.AdamW(model_swin.parameters(), lr=1e-4, weight_decay=1e-5)\n",
        "optimizer_regnet = torch.optim.AdamW(model_regnet.parameters(), lr=1e-4, weight_decay=1e-5)\n",
        "\n",
        "# Learning rate scheduler - Cosine Annealing\n",
        "scheduler_swin = torch.optim.lr_scheduler.CosineAnnealingLR(optimizer_swin, T_max=50)\n",
        "scheduler_regnet = torch.optim.lr_scheduler.CosineAnnealingLR(optimizer_regnet, T_max=50)\n",
        "\n",
        "# Training parameters\n",
        "num_epochs = 50\n",
        "\n",
        "# For weighted ensemble\n",
        "best_val_accuracy_swin = 0\n",
        "best_val_accuracy_regnet = 0\n",
        "best_val_accuracy_ensemble = 0\n",
        "\n",
        "for epoch in range(num_epochs):\n",
        "    model_swin.train()\n",
        "    model_regnet.train()\n",
        "    running_loss_swin = 0.0\n",
        "    running_loss_regnet = 0.0\n",
        "\n",
        "    # Training loop\n",
        "    for images, labels in tqdm(train_loader, desc=f'Epoch {epoch+1}/{num_epochs}'):\n",
        "        images = images.to(device, non_blocking=True)\n",
        "        labels = labels.to(device, non_blocking=True)\n",
        "\n",
        "        # Zero the parameter gradients\n",
        "        optimizer_swin.zero_grad()\n",
        "        optimizer_regnet.zero_grad()\n",
        "\n",
        "        # Forward pass\n",
        "        outputs_swin = model_swin(images)\n",
        "        outputs_regnet = model_regnet(images)\n",
        "\n",
        "        # Compute loss\n",
        "        loss_swin = criterion(outputs_swin, labels)\n",
        "        loss_regnet = criterion(outputs_regnet, labels)\n",
        "        total_loss = loss_swin + loss_regnet\n",
        "\n",
        "        # Backward pass and optimization\n",
        "        total_loss.backward()\n",
        "        optimizer_swin.step()\n",
        "        optimizer_regnet.step()\n",
        "\n",
        "        running_loss_swin += loss_swin.item()\n",
        "        running_loss_regnet += loss_regnet.item()\n",
        "\n",
        "    # Calculate average training losses\n",
        "    avg_loss_swin = running_loss_swin / len(train_loader)\n",
        "    avg_loss_regnet = running_loss_regnet / len(train_loader)\n",
        "    avg_total_loss = avg_loss_swin + avg_loss_regnet\n",
        "    print(f'Epoch [{epoch+1}/{num_epochs}] Average Training Loss - Swin: {avg_loss_swin:.4f}, RegNetY: {avg_loss_regnet:.4f}')\n",
        "\n",
        "    # Validation loop\n",
        "    model_swin.eval()\n",
        "    model_regnet.eval()\n",
        "    val_loss_swin = 0.0\n",
        "    val_loss_regnet = 0.0\n",
        "    correct_swin = 0\n",
        "    correct_regnet = 0\n",
        "    correct_ensemble = 0\n",
        "    total = 0\n",
        "    all_labels = []\n",
        "    all_preds = []\n",
        "    with torch.no_grad():\n",
        "        for images, labels in val_loader:\n",
        "            images = images.to(device, non_blocking=True)\n",
        "            labels = labels.to(device, non_blocking=True)\n",
        "            outputs_swin = model_swin(images)\n",
        "            outputs_regnet = model_regnet(images)\n",
        "\n",
        "            # Compute validation loss\n",
        "            loss_swin = criterion(outputs_swin, labels)\n",
        "            loss_regnet = criterion(outputs_regnet, labels)\n",
        "            val_loss_swin += loss_swin.item()\n",
        "            val_loss_regnet += loss_regnet.item()\n",
        "\n",
        "            # Individual model predictions\n",
        "            _, predicted_swin = torch.max(outputs_swin.data, 1)\n",
        "            _, predicted_regnet = torch.max(outputs_regnet.data, 1)\n",
        "\n",
        "            # Ensemble by averaging the outputs\n",
        "            outputs = (outputs_swin + outputs_regnet) / 2\n",
        "            _, predicted = torch.max(outputs.data, 1)\n",
        "\n",
        "            total += labels.size(0)\n",
        "            correct_swin += (predicted_swin == labels).sum().item()\n",
        "            correct_regnet += (predicted_regnet == labels).sum().item()\n",
        "            correct_ensemble += (predicted == labels).sum().item()\n",
        "\n",
        "            all_labels.extend(labels.cpu().numpy())\n",
        "            all_preds.extend(predicted.cpu().numpy())\n",
        "\n",
        "    # Calculate average validation losses and accuracy\n",
        "    avg_val_loss_swin = val_loss_swin / len(val_loader)\n",
        "    avg_val_loss_regnet = val_loss_regnet / len(val_loader)\n",
        "    avg_val_loss = avg_val_loss_swin + avg_val_loss_regnet\n",
        "    val_accuracy_swin = 100 * correct_swin / total\n",
        "    val_accuracy_regnet = 100 * correct_regnet / total\n",
        "    val_accuracy_ensemble = 100 * correct_ensemble / total\n",
        "    print(f'Validation Loss - Swin: {avg_val_loss_swin:.4f}, RegNetY: {avg_val_loss_regnet:.4f}, Total: {avg_val_loss:.4f}')\n",
        "    print(f'Validation Accuracy - Swin: {val_accuracy_swin:.2f}%, RegNetY: {val_accuracy_regnet:.2f}%, Ensemble: {val_accuracy_ensemble:.2f}%')\n",
        "\n",
        "    # Update learning rate schedulers\n",
        "    scheduler_swin.step()\n",
        "    scheduler_regnet.step()\n",
        "\n",
        "    # Save the model based on best ensemble validation accuracy\n",
        "    if val_accuracy_ensemble > best_val_accuracy_ensemble:\n",
        "        best_val_accuracy_ensemble = val_accuracy_ensemble\n",
        "        # Save the best model\n",
        "        torch.save({\n",
        "            'epoch': epoch + 1,\n",
        "            'model_swin_state_dict': model_swin.state_dict(),\n",
        "            'model_regnet_state_dict': model_regnet.state_dict(),\n",
        "            'optimizer_swin_state_dict': optimizer_swin.state_dict(),\n",
        "            'optimizer_regnet_state_dict': optimizer_regnet.state_dict(),\n",
        "            'val_accuracy_ensemble': best_val_accuracy_ensemble,\n",
        "            'best_val_accuracy_swin': val_accuracy_swin,\n",
        "            'best_val_accuracy_regnet': val_accuracy_regnet,\n",
        "        }, 'best_model.pth')\n",
        "        print(f'Best model saved at epoch {epoch+1} with ensemble validation accuracy {best_val_accuracy_ensemble:.2f}%')\n",
        "\n",
        "        # Update best validation accuracies\n",
        "        best_val_accuracy_swin = val_accuracy_swin\n",
        "        best_val_accuracy_regnet = val_accuracy_regnet\n",
        "    else:\n",
        "        print('No improvement in ensemble validation accuracy.')\n",
        "\n",
        "print('Training completed.')\n",
        "\n",
        "# Load the best model\n",
        "checkpoint = torch.load('best_model.pth')\n",
        "model_swin.load_state_dict(checkpoint['model_swin_state_dict'])\n",
        "model_regnet.load_state_dict(checkpoint['model_regnet_state_dict'])\n",
        "best_val_accuracy_swin = checkpoint['best_val_accuracy_swin']\n",
        "best_val_accuracy_regnet = checkpoint['best_val_accuracy_regnet']\n",
        "\n",
        "# Evaluate on the validation set\n",
        "model_swin.eval()\n",
        "model_regnet.eval()\n",
        "all_labels = []\n",
        "all_preds = []\n",
        "correct_swin = 0\n",
        "correct_regnet = 0\n",
        "correct_ensemble = 0\n",
        "total = 0\n",
        "with torch.no_grad():\n",
        "    for images, labels in val_loader:\n",
        "        images = images.to(device, non_blocking=True)\n",
        "        labels = labels.to(device, non_blocking=True)\n",
        "        outputs_swin = model_swin(images)\n",
        "        outputs_regnet = model_regnet(images)\n",
        "\n",
        "        # Individual model predictions\n",
        "        _, predicted_swin = torch.max(outputs_swin.data, 1)\n",
        "        _, predicted_regnet = torch.max(outputs_regnet.data, 1)\n",
        "\n",
        "        # Ensemble by weighted averaging based on best validation accuracies\n",
        "        weight_swin = best_val_accuracy_swin / (best_val_accuracy_swin + best_val_accuracy_regnet)\n",
        "        weight_regnet = best_val_accuracy_regnet / (best_val_accuracy_swin + best_val_accuracy_regnet)\n",
        "        outputs = (weight_swin * outputs_swin + weight_regnet * outputs_regnet)\n",
        "\n",
        "        _, predicted = torch.max(outputs.data, 1)\n",
        "\n",
        "        total += labels.size(0)\n",
        "        correct_swin += (predicted_swin == labels).sum().item()\n",
        "        correct_regnet += (predicted_regnet == labels).sum().item()\n",
        "        correct_ensemble += (predicted == labels).sum().item()\n",
        "\n",
        "        all_labels.extend(labels.cpu().numpy())\n",
        "        all_preds.extend(predicted.cpu().numpy())\n",
        "\n",
        "# Compute final accuracies\n",
        "final_accuracy_swin = 100 * correct_swin / total\n",
        "final_accuracy_regnet = 100 * correct_regnet / total\n",
        "final_accuracy_ensemble = 100 * correct_ensemble / total\n",
        "print(f'Final Validation Accuracy - Swin: {final_accuracy_swin:.2f}%, RegNetY: {final_accuracy_regnet:.2f}%, Ensemble: {final_accuracy_ensemble:.2f}%')\n",
        "\n",
        "# Compute confusion matrix\n",
        "cm = confusion_matrix(all_labels, all_preds)\n",
        "print('Confusion Matrix:')\n",
        "print(cm)\n"
      ]
    },
    {
      "cell_type": "code",
      "execution_count": null,
      "metadata": {
        "colab": {
          "base_uri": "https://localhost:8080/"
        },
        "id": "5m_9yofwqw04",
        "outputId": "0b298f7f-a703-4e0f-d31c-c2496be7b8b5"
      },
      "outputs": [
        {
          "name": "stderr",
          "output_type": "stream",
          "text": [
            "/usr/local/lib/python3.10/dist-packages/albumentations/__init__.py:24: UserWarning: A new version of Albumentations is available: 1.4.22 (you have 1.4.20). Upgrade using: pip install -U albumentations. To disable automatic update checks, set the environment variable NO_ALBUMENTATIONS_UPDATE to 1.\n",
            "  check_for_updates()\n"
          ]
        },
        {
          "name": "stdout",
          "output_type": "stream",
          "text": [
            "Class-to-Label Mapping for Validation Dataset:\n",
            "{'nevus': 0, 'others': 1}\n"
          ]
        },
        {
          "name": "stderr",
          "output_type": "stream",
          "text": [
            "<ipython-input-2-800efa4e6411>:70: FutureWarning: You are using `torch.load` with `weights_only=False` (the current default value), which uses the default pickle module implicitly. It is possible to construct malicious pickle data which will execute arbitrary code during unpickling (See https://github.com/pytorch/pytorch/blob/main/SECURITY.md#untrusted-models for more details). In a future release, the default value for `weights_only` will be flipped to `True`. This limits the functions that could be executed during unpickling. Arbitrary objects will no longer be allowed to be loaded via this mode unless they are explicitly allowlisted by the user via `torch.serialization.add_safe_globals`. We recommend you start setting `weights_only=True` for any use case where you don't have full control of the loaded file. Please open an issue on GitHub for any issues related to this experimental feature.\n",
            "  checkpoint = torch.load(checkpoint_path, map_location=device)\n"
          ]
        },
        {
          "name": "stdout",
          "output_type": "stream",
          "text": [
            "Using weights for ensemble - Swin: 0.5027, RegNetY: 0.4973\n"
          ]
        },
        {
          "name": "stderr",
          "output_type": "stream",
          "text": [
            "Evaluating: 100%|██████████| 119/119 [03:41<00:00,  1.86s/it]"
          ]
        },
        {
          "name": "stdout",
          "output_type": "stream",
          "text": [
            "\n",
            "Final Validation Accuracy:\n",
            " - Swin Transformer: 92.49%\n",
            " - RegNetY: 91.49%\n",
            " - Ensemble: 93.20%\n",
            "\n",
            "Confusion Matrix for Ensemble:\n",
            "[[1822  109]\n",
            " [ 149 1716]]\n",
            "\n",
            "Cohen's Kappa Score for Ensemble: 0.8640\n"
          ]
        },
        {
          "name": "stderr",
          "output_type": "stream",
          "text": [
            "\n"
          ]
        }
      ],
      "source": [
        "# Import necessary libraries\n",
        "import os\n",
        "import torch\n",
        "import torch.nn as nn\n",
        "from torchvision.datasets import ImageFolder\n",
        "from torch.utils.data import DataLoader\n",
        "import timm\n",
        "from sklearn.metrics import confusion_matrix, cohen_kappa_score\n",
        "import numpy as np\n",
        "from tqdm import tqdm\n",
        "import multiprocessing\n",
        "\n",
        "import albumentations as A\n",
        "from albumentations.pytorch import ToTensorV2\n",
        "from PIL import Image\n",
        "\n",
        "# Define data directories\n",
        "train_dir = '/content/drive/MyDrive/train/'\n",
        "val_dir = '/content/drive/MyDrive/val/val/'\n",
        "\n",
        "# Data augmentation for validation (usually minimal)\n",
        "val_transforms = A.Compose([\n",
        "    A.Resize(224, 224),\n",
        "    A.Normalize(mean=(0.485, 0.456, 0.406),\n",
        "                std=(0.229, 0.224, 0.225)),\n",
        "    ToTensorV2(),\n",
        "])\n",
        "\n",
        "# Custom dataset to use Albumentations\n",
        "class CustomImageDataset(torch.utils.data.Dataset):\n",
        "    def __init__(self, root_dir, transform=None):\n",
        "        self.dataset = ImageFolder(root=root_dir)\n",
        "        self.transform = transform\n",
        "\n",
        "    def __getitem__(self, idx):\n",
        "        img_path, label = self.dataset.samples[idx]\n",
        "        image = np.array(Image.open(img_path).convert('RGB'))\n",
        "        if self.transform:\n",
        "            transformed = self.transform(image=image)\n",
        "            image = transformed['image']\n",
        "        return image, label\n",
        "\n",
        "    def __len__(self):\n",
        "        return len(self.dataset)\n",
        "\n",
        "# Load datasets\n",
        "val_dataset = CustomImageDataset(root_dir=val_dir, transform=val_transforms)\n",
        "\n",
        "# Verify class-to-label mapping\n",
        "print(\"Class-to-Label Mapping for Validation Dataset:\")\n",
        "print(val_dataset.dataset.class_to_idx)\n",
        "\n",
        "# DataLoader\n",
        "num_workers = multiprocessing.cpu_count() - 1\n",
        "val_loader = DataLoader(val_dataset, batch_size=32, shuffle=False, num_workers=num_workers, pin_memory=True)\n",
        "\n",
        "# Define models with dropout\n",
        "device = torch.device('cuda' if torch.cuda.is_available() else 'cpu')\n",
        "\n",
        "# Swin Transformer Model\n",
        "model_swin = timm.create_model('swin_base_patch4_window7_224', pretrained=False, num_classes=2, drop_rate=0.2)\n",
        "model_swin = model_swin.to(device)\n",
        "\n",
        "# RegNetY Model\n",
        "model_regnet = timm.create_model('regnety_032', pretrained=False, num_classes=2, drop_rate=0.2)\n",
        "model_regnet = model_regnet.to(device)\n",
        "\n",
        "# Load the best model checkpoint\n",
        "checkpoint_path = '/content/drive/MyDrive/Model/best_model.pth'  # Update this path if necessary\n",
        "checkpoint = torch.load(checkpoint_path, map_location=device)\n",
        "model_swin.load_state_dict(checkpoint['model_swin_state_dict'])\n",
        "model_regnet.load_state_dict(checkpoint['model_regnet_state_dict'])\n",
        "\n",
        "# Move models to evaluation mode\n",
        "model_swin.eval()\n",
        "model_regnet.eval()\n",
        "\n",
        "# Initialize variables to track metrics\n",
        "all_labels = []\n",
        "all_preds_ensemble = []\n",
        "all_preds_swin = []\n",
        "all_preds_regnet = []\n",
        "correct_swin = 0\n",
        "correct_regnet = 0\n",
        "correct_ensemble = 0\n",
        "total = 0\n",
        "\n",
        "# Retrieve best validation accuracies for weighted ensemble\n",
        "best_val_accuracy_swin = checkpoint.get('best_val_accuracy_swin', 0)\n",
        "best_val_accuracy_regnet = checkpoint.get('best_val_accuracy_regnet', 0)\n",
        "\n",
        "# Ensure that the sum of weights is not zero\n",
        "weight_sum = best_val_accuracy_swin + best_val_accuracy_regnet\n",
        "if weight_sum == 0:\n",
        "    weight_swin = weight_regnet = 0.5\n",
        "else:\n",
        "    weight_swin = best_val_accuracy_swin / weight_sum\n",
        "    weight_regnet = best_val_accuracy_regnet / weight_sum\n",
        "\n",
        "print(f'Using weights for ensemble - Swin: {weight_swin:.4f}, RegNetY: {weight_regnet:.4f}')\n",
        "\n",
        "# Evaluation loop\n",
        "with torch.no_grad():\n",
        "    for images, labels in tqdm(val_loader, desc='Evaluating'):\n",
        "        images = images.to(device, non_blocking=True)\n",
        "        labels = labels.to(device, non_blocking=True)\n",
        "\n",
        "        # Forward pass\n",
        "        outputs_swin = model_swin(images)\n",
        "        outputs_regnet = model_regnet(images)\n",
        "\n",
        "        # Individual model predictions\n",
        "        _, predicted_swin = torch.max(outputs_swin.data, 1)\n",
        "        _, predicted_regnet = torch.max(outputs_regnet.data, 1)\n",
        "\n",
        "        # Ensemble by weighted averaging based on best validation accuracies\n",
        "        outputs_ensemble = (weight_swin * outputs_swin + weight_regnet * outputs_regnet)\n",
        "        _, predicted_ensemble = torch.max(outputs_ensemble.data, 1)\n",
        "\n",
        "        # Update total and correct counts\n",
        "        total += labels.size(0)\n",
        "        correct_swin += (predicted_swin == labels).sum().item()\n",
        "        correct_regnet += (predicted_regnet == labels).sum().item()\n",
        "        correct_ensemble += (predicted_ensemble == labels).sum().item()\n",
        "\n",
        "        # Collect all labels and predictions for metrics\n",
        "        all_labels.extend(labels.cpu().numpy())\n",
        "        all_preds_swin.extend(predicted_swin.cpu().numpy())\n",
        "        all_preds_regnet.extend(predicted_regnet.cpu().numpy())\n",
        "        all_preds_ensemble.extend(predicted_ensemble.cpu().numpy())\n",
        "\n",
        "# Compute final accuracies\n",
        "final_accuracy_swin = 100 * correct_swin / total\n",
        "final_accuracy_regnet = 100 * correct_regnet / total\n",
        "final_accuracy_ensemble = 100 * correct_ensemble / total\n",
        "\n",
        "print(f'\\nFinal Validation Accuracy:')\n",
        "print(f' - Swin Transformer: {final_accuracy_swin:.2f}%')\n",
        "print(f' - RegNetY: {final_accuracy_regnet:.2f}%')\n",
        "print(f' - Ensemble: {final_accuracy_ensemble:.2f}%')\n",
        "\n",
        "# Compute confusion matrix for ensemble\n",
        "cm = confusion_matrix(all_labels, all_preds_ensemble)\n",
        "print('\\nConfusion Matrix for Ensemble:')\n",
        "print(cm)\n",
        "\n",
        "# Compute Cohen's Kappa score for ensemble\n",
        "kappa = cohen_kappa_score(all_labels, all_preds_ensemble)\n",
        "print(f'\\nCohen\\'s Kappa Score for Ensemble: {kappa:.4f}')\n"
      ]
    },
    {
      "cell_type": "markdown",
      "metadata": {
        "id": "hmwPbKFSVOKa"
      },
      "source": [
        "# Hybrid Model"
      ]
    },
    {
      "cell_type": "code",
      "execution_count": null,
      "metadata": {
        "colab": {
          "background_save": true,
          "base_uri": "https://localhost:8080/",
          "height": 1000,
          "referenced_widgets": [
            "3381a1efe483454f88d993ad0ebebdbf",
            "1304d97997ff44c3a288228d7a669475",
            "a5305d45896b4025bfcd104adf0a425f",
            "db4059cddc48480991919994cc026ffc",
            "d00b92cf621549c0abd10a1337f76def",
            "f418b91ce9a447a6b339a43ac0c782ba",
            "95f225eddf3e42108f470dd02217def7",
            "111aea9e5f6e4adeacaaa85d7fe3ee65",
            "bc9c61f087a548eea568fef7868adbf1",
            "27751c07d7d045bc85160f5c45ab316f",
            "04017b48d5c34dabb4e03056a1ff33ab",
            "3710c8b77101421b8418633967bd3cf9",
            "40c2b8f7b890452fa29ca835eec4fe6f",
            "82834df8a00848178c670df36d4bbc6b",
            "0151542038d3417e84795e41759bf489",
            "fbb6480f6509416ca03ff1a1a07f879c",
            "c0b016b93b4244f6a7bcefa6dd374a79",
            "4e952d41d05e4ae0968b878094a77d78",
            "2be7937cec7742b3950e61321fbd5669",
            "6b723c40fc4845e88b2946956810c5a8",
            "ba52121123eb43a59e185043fd5ede7d",
            "4a4e1cad089d4da6b3c8d0d8e45cb30f"
          ]
        },
        "id": "thF9xCQfqYBs",
        "outputId": "b27479fd-b3ee-491f-b618-9d6cb1165d46"
      },
      "outputs": [
        {
          "name": "stdout",
          "output_type": "stream",
          "text": [
            "Class-to-Label Mapping for Training Dataset:\n",
            "{'nevus': 0, 'others': 1}\n"
          ]
        },
        {
          "name": "stderr",
          "output_type": "stream",
          "text": [
            "/usr/local/lib/python3.10/dist-packages/huggingface_hub/utils/_auth.py:94: UserWarning: \n",
            "The secret `HF_TOKEN` does not exist in your Colab secrets.\n",
            "To authenticate with the Hugging Face Hub, create a token in your settings tab (https://huggingface.co/settings/tokens), set it as secret in your Google Colab and restart your session.\n",
            "You will be able to reuse this secret in all of your notebooks.\n",
            "Please note that authentication is recommended but still optional to access public models or datasets.\n",
            "  warnings.warn(\n"
          ]
        },
        {
          "data": {
            "application/vnd.jupyter.widget-view+json": {
              "model_id": "3381a1efe483454f88d993ad0ebebdbf",
              "version_major": 2,
              "version_minor": 0
            },
            "text/plain": [
              "model.safetensors:   0%|          | 0.00/353M [00:00<?, ?B/s]"
            ]
          },
          "metadata": {},
          "output_type": "display_data"
        },
        {
          "name": "stderr",
          "output_type": "stream",
          "text": [
            "/usr/local/lib/python3.10/dist-packages/timm/models/_factory.py:117: UserWarning: Mapping deprecated model name tf_efficientnet_b7_ns to current tf_efficientnet_b7.ns_jft_in1k.\n",
            "  model = create_fn(\n"
          ]
        },
        {
          "data": {
            "application/vnd.jupyter.widget-view+json": {
              "model_id": "3710c8b77101421b8418633967bd3cf9",
              "version_major": 2,
              "version_minor": 0
            },
            "text/plain": [
              "model.safetensors:   0%|          | 0.00/267M [00:00<?, ?B/s]"
            ]
          },
          "metadata": {},
          "output_type": "display_data"
        },
        {
          "name": "stderr",
          "output_type": "stream",
          "text": [
            "Epoch 1/50: 100%|██████████| 475/475 [15:50<00:00,  2.00s/it]"
          ]
        },
        {
          "name": "stdout",
          "output_type": "stream",
          "text": [
            "Epoch [1/50] Average Training Loss - Swin: 0.4224, EfficientNet: 0.7795\n"
          ]
        },
        {
          "name": "stderr",
          "output_type": "stream",
          "text": [
            "\n"
          ]
        },
        {
          "name": "stdout",
          "output_type": "stream",
          "text": [
            "Validation Loss - Swin: 0.4102, EfficientNet: 0.4121\n",
            "Validation Accuracy - Swin: 81.22%, EfficientNet: 80.82%, Ensemble: 83.54%\n",
            "Best model saved at epoch 1 with ensemble validation accuracy 83.54%\n"
          ]
        },
        {
          "name": "stderr",
          "output_type": "stream",
          "text": [
            "Epoch 2/50: 100%|██████████| 475/475 [03:42<00:00,  2.14it/s]"
          ]
        },
        {
          "name": "stdout",
          "output_type": "stream",
          "text": [
            "Epoch [2/50] Average Training Loss - Swin: 0.3485, EfficientNet: 0.4790\n"
          ]
        },
        {
          "name": "stderr",
          "output_type": "stream",
          "text": [
            "\n"
          ]
        },
        {
          "name": "stdout",
          "output_type": "stream",
          "text": [
            "Validation Loss - Swin: 0.3026, EfficientNet: 0.3844\n",
            "Validation Accuracy - Swin: 87.07%, EfficientNet: 83.32%, Ensemble: 86.38%\n",
            "Best model saved at epoch 2 with ensemble validation accuracy 86.38%\n"
          ]
        },
        {
          "name": "stderr",
          "output_type": "stream",
          "text": [
            "Epoch 3/50: 100%|██████████| 475/475 [03:39<00:00,  2.16it/s]"
          ]
        },
        {
          "name": "stdout",
          "output_type": "stream",
          "text": [
            "Epoch [3/50] Average Training Loss - Swin: 0.3141, EfficientNet: 0.4211\n"
          ]
        },
        {
          "name": "stderr",
          "output_type": "stream",
          "text": [
            "\n"
          ]
        },
        {
          "name": "stdout",
          "output_type": "stream",
          "text": [
            "Validation Loss - Swin: 0.2926, EfficientNet: 0.3562\n",
            "Validation Accuracy - Swin: 87.46%, EfficientNet: 84.54%, Ensemble: 87.49%\n",
            "Best model saved at epoch 3 with ensemble validation accuracy 87.49%\n"
          ]
        },
        {
          "name": "stderr",
          "output_type": "stream",
          "text": [
            "Epoch 4/50: 100%|██████████| 475/475 [03:42<00:00,  2.14it/s]"
          ]
        },
        {
          "name": "stdout",
          "output_type": "stream",
          "text": [
            "Epoch [4/50] Average Training Loss - Swin: 0.2769, EfficientNet: 0.3793\n"
          ]
        },
        {
          "name": "stderr",
          "output_type": "stream",
          "text": [
            "\n"
          ]
        },
        {
          "name": "stdout",
          "output_type": "stream",
          "text": [
            "Validation Loss - Swin: 0.2971, EfficientNet: 0.3481\n",
            "Validation Accuracy - Swin: 87.88%, EfficientNet: 84.30%, Ensemble: 88.04%\n",
            "Best model saved at epoch 4 with ensemble validation accuracy 88.04%\n"
          ]
        },
        {
          "name": "stderr",
          "output_type": "stream",
          "text": [
            "Epoch 5/50: 100%|██████████| 475/475 [03:42<00:00,  2.14it/s]"
          ]
        },
        {
          "name": "stdout",
          "output_type": "stream",
          "text": [
            "Epoch [5/50] Average Training Loss - Swin: 0.2451, EfficientNet: 0.3479\n"
          ]
        },
        {
          "name": "stderr",
          "output_type": "stream",
          "text": [
            "\n"
          ]
        },
        {
          "name": "stdout",
          "output_type": "stream",
          "text": [
            "Validation Loss - Swin: 0.2769, EfficientNet: 0.3289\n",
            "Validation Accuracy - Swin: 88.20%, EfficientNet: 86.51%, Ensemble: 88.78%\n",
            "Best model saved at epoch 5 with ensemble validation accuracy 88.78%\n"
          ]
        },
        {
          "name": "stderr",
          "output_type": "stream",
          "text": [
            "Epoch 6/50: 100%|██████████| 475/475 [03:42<00:00,  2.14it/s]"
          ]
        },
        {
          "name": "stdout",
          "output_type": "stream",
          "text": [
            "Epoch [6/50] Average Training Loss - Swin: 0.2084, EfficientNet: 0.3119\n"
          ]
        },
        {
          "name": "stderr",
          "output_type": "stream",
          "text": [
            "\n"
          ]
        },
        {
          "name": "stdout",
          "output_type": "stream",
          "text": [
            "Validation Loss - Swin: 0.2655, EfficientNet: 0.3368\n",
            "Validation Accuracy - Swin: 89.91%, EfficientNet: 86.88%, Ensemble: 89.81%\n",
            "Best model saved at epoch 6 with ensemble validation accuracy 89.81%\n"
          ]
        },
        {
          "name": "stderr",
          "output_type": "stream",
          "text": [
            "Epoch 7/50: 100%|██████████| 475/475 [03:42<00:00,  2.14it/s]"
          ]
        },
        {
          "name": "stdout",
          "output_type": "stream",
          "text": [
            "Epoch [7/50] Average Training Loss - Swin: 0.1716, EfficientNet: 0.2838\n"
          ]
        },
        {
          "name": "stderr",
          "output_type": "stream",
          "text": [
            "\n"
          ]
        },
        {
          "name": "stdout",
          "output_type": "stream",
          "text": [
            "Validation Loss - Swin: 0.2475, EfficientNet: 0.3173\n",
            "Validation Accuracy - Swin: 90.52%, EfficientNet: 86.96%, Ensemble: 90.41%\n",
            "Best model saved at epoch 7 with ensemble validation accuracy 90.41%\n"
          ]
        },
        {
          "name": "stderr",
          "output_type": "stream",
          "text": [
            "Epoch 8/50: 100%|██████████| 475/475 [03:42<00:00,  2.14it/s]"
          ]
        },
        {
          "name": "stdout",
          "output_type": "stream",
          "text": [
            "Epoch [8/50] Average Training Loss - Swin: 0.1335, EfficientNet: 0.2567\n"
          ]
        },
        {
          "name": "stderr",
          "output_type": "stream",
          "text": [
            "\n"
          ]
        },
        {
          "name": "stdout",
          "output_type": "stream",
          "text": [
            "Validation Loss - Swin: 0.2661, EfficientNet: 0.3084\n",
            "Validation Accuracy - Swin: 90.65%, EfficientNet: 87.41%, Ensemble: 91.02%\n",
            "Best model saved at epoch 8 with ensemble validation accuracy 91.02%\n"
          ]
        },
        {
          "name": "stderr",
          "output_type": "stream",
          "text": [
            "Epoch 9/50: 100%|██████████| 475/475 [03:42<00:00,  2.14it/s]"
          ]
        },
        {
          "name": "stdout",
          "output_type": "stream",
          "text": [
            "Epoch [9/50] Average Training Loss - Swin: 0.1134, EfficientNet: 0.2338\n"
          ]
        },
        {
          "name": "stderr",
          "output_type": "stream",
          "text": [
            "\n"
          ]
        },
        {
          "name": "stdout",
          "output_type": "stream",
          "text": [
            "Validation Loss - Swin: 0.2631, EfficientNet: 0.3085\n",
            "Validation Accuracy - Swin: 91.07%, EfficientNet: 87.51%, Ensemble: 91.33%\n",
            "Best model saved at epoch 9 with ensemble validation accuracy 91.33%\n"
          ]
        },
        {
          "name": "stderr",
          "output_type": "stream",
          "text": [
            "Epoch 10/50: 100%|██████████| 475/475 [03:41<00:00,  2.14it/s]"
          ]
        },
        {
          "name": "stdout",
          "output_type": "stream",
          "text": [
            "Epoch [10/50] Average Training Loss - Swin: 0.0963, EfficientNet: 0.2135\n"
          ]
        },
        {
          "name": "stderr",
          "output_type": "stream",
          "text": [
            "\n"
          ]
        },
        {
          "name": "stdout",
          "output_type": "stream",
          "text": [
            "Validation Loss - Swin: 0.2718, EfficientNet: 0.3102\n",
            "Validation Accuracy - Swin: 91.10%, EfficientNet: 87.70%, Ensemble: 91.60%\n",
            "Best model saved at epoch 10 with ensemble validation accuracy 91.60%\n"
          ]
        },
        {
          "name": "stderr",
          "output_type": "stream",
          "text": [
            "Epoch 11/50: 100%|██████████| 475/475 [03:42<00:00,  2.14it/s]"
          ]
        },
        {
          "name": "stdout",
          "output_type": "stream",
          "text": [
            "Epoch [11/50] Average Training Loss - Swin: 0.2114, EfficientNet: 0.3131\n"
          ]
        },
        {
          "name": "stderr",
          "output_type": "stream",
          "text": [
            "\n"
          ]
        },
        {
          "name": "stdout",
          "output_type": "stream",
          "text": [
            "Validation Loss - Swin: 0.2596, EfficientNet: 0.3273\n",
            "Validation Accuracy - Swin: 89.36%, EfficientNet: 85.64%, Ensemble: 89.20%\n",
            "No improvement in ensemble validation accuracy.\n"
          ]
        },
        {
          "name": "stderr",
          "output_type": "stream",
          "text": [
            "Epoch 12/50: 100%|██████████| 475/475 [03:38<00:00,  2.17it/s]"
          ]
        },
        {
          "name": "stdout",
          "output_type": "stream",
          "text": [
            "Epoch [12/50] Average Training Loss - Swin: 0.1979, EfficientNet: 0.2731\n"
          ]
        },
        {
          "name": "stderr",
          "output_type": "stream",
          "text": [
            "\n"
          ]
        },
        {
          "name": "stdout",
          "output_type": "stream",
          "text": [
            "Validation Loss - Swin: 0.3149, EfficientNet: 0.3379\n",
            "Validation Accuracy - Swin: 89.23%, EfficientNet: 87.28%, Ensemble: 90.23%\n",
            "No improvement in ensemble validation accuracy.\n"
          ]
        },
        {
          "name": "stderr",
          "output_type": "stream",
          "text": [
            "Epoch 13/50: 100%|██████████| 475/475 [03:38<00:00,  2.17it/s]"
          ]
        },
        {
          "name": "stdout",
          "output_type": "stream",
          "text": [
            "Epoch [13/50] Average Training Loss - Swin: 0.1871, EfficientNet: 0.2395\n"
          ]
        },
        {
          "name": "stderr",
          "output_type": "stream",
          "text": [
            "\n"
          ]
        },
        {
          "name": "stdout",
          "output_type": "stream",
          "text": [
            "Validation Loss - Swin: 0.2798, EfficientNet: 0.3074\n",
            "Validation Accuracy - Swin: 89.57%, EfficientNet: 88.22%, Ensemble: 90.25%\n",
            "No improvement in ensemble validation accuracy.\n"
          ]
        },
        {
          "name": "stderr",
          "output_type": "stream",
          "text": [
            "Epoch 14/50: 100%|██████████| 475/475 [03:38<00:00,  2.17it/s]"
          ]
        },
        {
          "name": "stdout",
          "output_type": "stream",
          "text": [
            "Epoch [14/50] Average Training Loss - Swin: 0.1679, EfficientNet: 0.2053\n"
          ]
        },
        {
          "name": "stderr",
          "output_type": "stream",
          "text": [
            "\n"
          ]
        },
        {
          "name": "stdout",
          "output_type": "stream",
          "text": [
            "Validation Loss - Swin: 0.2724, EfficientNet: 0.3043\n",
            "Validation Accuracy - Swin: 89.30%, EfficientNet: 88.12%, Ensemble: 90.25%\n",
            "No improvement in ensemble validation accuracy.\n"
          ]
        },
        {
          "name": "stderr",
          "output_type": "stream",
          "text": [
            "Epoch 15/50: 100%|██████████| 475/475 [03:38<00:00,  2.17it/s]"
          ]
        },
        {
          "name": "stdout",
          "output_type": "stream",
          "text": [
            "Epoch [15/50] Average Training Loss - Swin: 0.1524, EfficientNet: 0.1868\n"
          ]
        },
        {
          "name": "stderr",
          "output_type": "stream",
          "text": [
            "\n"
          ]
        },
        {
          "name": "stdout",
          "output_type": "stream",
          "text": [
            "Validation Loss - Swin: 0.2705, EfficientNet: 0.3405\n",
            "Validation Accuracy - Swin: 90.65%, EfficientNet: 88.62%, Ensemble: 91.31%\n",
            "No improvement in ensemble validation accuracy.\n"
          ]
        },
        {
          "name": "stderr",
          "output_type": "stream",
          "text": [
            "Epoch 16/50: 100%|██████████| 475/475 [03:38<00:00,  2.17it/s]"
          ]
        },
        {
          "name": "stdout",
          "output_type": "stream",
          "text": [
            "Epoch [16/50] Average Training Loss - Swin: 0.1421, EfficientNet: 0.1607\n"
          ]
        },
        {
          "name": "stderr",
          "output_type": "stream",
          "text": [
            "\n"
          ]
        },
        {
          "name": "stdout",
          "output_type": "stream",
          "text": [
            "Validation Loss - Swin: 0.2525, EfficientNet: 0.3324\n",
            "Validation Accuracy - Swin: 90.28%, EfficientNet: 89.09%, Ensemble: 90.86%\n",
            "No improvement in ensemble validation accuracy.\n"
          ]
        },
        {
          "name": "stderr",
          "output_type": "stream",
          "text": [
            "Epoch 17/50: 100%|██████████| 475/475 [03:38<00:00,  2.17it/s]"
          ]
        },
        {
          "name": "stdout",
          "output_type": "stream",
          "text": [
            "Epoch [17/50] Average Training Loss - Swin: 0.1288, EfficientNet: 0.1434\n"
          ]
        },
        {
          "name": "stderr",
          "output_type": "stream",
          "text": [
            "\n"
          ]
        },
        {
          "name": "stdout",
          "output_type": "stream",
          "text": [
            "Validation Loss - Swin: 0.2670, EfficientNet: 0.3275\n",
            "Validation Accuracy - Swin: 90.46%, EfficientNet: 88.99%, Ensemble: 92.02%\n",
            "Best model saved at epoch 17 with ensemble validation accuracy 92.02%\n"
          ]
        },
        {
          "name": "stderr",
          "output_type": "stream",
          "text": [
            "Epoch 18/50: 100%|██████████| 475/475 [03:40<00:00,  2.15it/s]"
          ]
        },
        {
          "name": "stdout",
          "output_type": "stream",
          "text": [
            "Epoch [18/50] Average Training Loss - Swin: 0.1088, EfficientNet: 0.1170\n"
          ]
        },
        {
          "name": "stderr",
          "output_type": "stream",
          "text": [
            "\n"
          ]
        },
        {
          "name": "stdout",
          "output_type": "stream",
          "text": [
            "Validation Loss - Swin: 0.3213, EfficientNet: 0.3435\n",
            "Validation Accuracy - Swin: 90.23%, EfficientNet: 88.94%, Ensemble: 91.86%\n",
            "No improvement in ensemble validation accuracy.\n"
          ]
        },
        {
          "name": "stderr",
          "output_type": "stream",
          "text": [
            "Epoch 19/50: 100%|██████████| 475/475 [03:38<00:00,  2.17it/s]"
          ]
        },
        {
          "name": "stdout",
          "output_type": "stream",
          "text": [
            "Epoch [19/50] Average Training Loss - Swin: 0.0949, EfficientNet: 0.1047\n"
          ]
        },
        {
          "name": "stderr",
          "output_type": "stream",
          "text": [
            "\n"
          ]
        },
        {
          "name": "stdout",
          "output_type": "stream",
          "text": [
            "Validation Loss - Swin: 0.3093, EfficientNet: 0.3530\n",
            "Validation Accuracy - Swin: 90.67%, EfficientNet: 89.73%, Ensemble: 91.54%\n",
            "No improvement in ensemble validation accuracy.\n"
          ]
        },
        {
          "name": "stderr",
          "output_type": "stream",
          "text": [
            "Epoch 20/50: 100%|██████████| 475/475 [03:38<00:00,  2.17it/s]"
          ]
        },
        {
          "name": "stdout",
          "output_type": "stream",
          "text": [
            "Epoch [20/50] Average Training Loss - Swin: 0.0806, EfficientNet: 0.0864\n"
          ]
        },
        {
          "name": "stderr",
          "output_type": "stream",
          "text": [
            "\n"
          ]
        },
        {
          "name": "stdout",
          "output_type": "stream",
          "text": [
            "Validation Loss - Swin: 0.3550, EfficientNet: 0.4225\n",
            "Validation Accuracy - Swin: 90.91%, EfficientNet: 90.02%, Ensemble: 92.12%\n",
            "Best model saved at epoch 20 with ensemble validation accuracy 92.12%\n"
          ]
        },
        {
          "name": "stderr",
          "output_type": "stream",
          "text": [
            "Epoch 21/50: 100%|██████████| 475/475 [03:42<00:00,  2.14it/s]"
          ]
        },
        {
          "name": "stdout",
          "output_type": "stream",
          "text": [
            "Epoch [21/50] Average Training Loss - Swin: 0.0703, EfficientNet: 0.0757\n"
          ]
        },
        {
          "name": "stderr",
          "output_type": "stream",
          "text": [
            "\n"
          ]
        },
        {
          "name": "stdout",
          "output_type": "stream",
          "text": [
            "Validation Loss - Swin: 0.3185, EfficientNet: 0.3770\n",
            "Validation Accuracy - Swin: 91.41%, EfficientNet: 90.09%, Ensemble: 92.02%\n",
            "No improvement in ensemble validation accuracy.\n"
          ]
        },
        {
          "name": "stderr",
          "output_type": "stream",
          "text": [
            "Epoch 22/50: 100%|██████████| 475/475 [03:38<00:00,  2.17it/s]"
          ]
        },
        {
          "name": "stdout",
          "output_type": "stream",
          "text": [
            "Epoch [22/50] Average Training Loss - Swin: 0.0600, EfficientNet: 0.0622\n"
          ]
        },
        {
          "name": "stderr",
          "output_type": "stream",
          "text": [
            "\n"
          ]
        },
        {
          "name": "stdout",
          "output_type": "stream",
          "text": [
            "Validation Loss - Swin: 0.3161, EfficientNet: 0.3946\n",
            "Validation Accuracy - Swin: 91.94%, EfficientNet: 90.83%, Ensemble: 92.18%\n",
            "Best model saved at epoch 22 with ensemble validation accuracy 92.18%\n"
          ]
        },
        {
          "name": "stderr",
          "output_type": "stream",
          "text": [
            "Epoch 23/50: 100%|██████████| 475/475 [03:42<00:00,  2.14it/s]"
          ]
        },
        {
          "name": "stdout",
          "output_type": "stream",
          "text": [
            "Epoch [23/50] Average Training Loss - Swin: 0.0467, EfficientNet: 0.0556\n"
          ]
        },
        {
          "name": "stderr",
          "output_type": "stream",
          "text": [
            "\n"
          ]
        },
        {
          "name": "stdout",
          "output_type": "stream",
          "text": [
            "Validation Loss - Swin: 0.3703, EfficientNet: 0.3858\n",
            "Validation Accuracy - Swin: 91.31%, EfficientNet: 90.36%, Ensemble: 92.49%\n",
            "Best model saved at epoch 23 with ensemble validation accuracy 92.49%\n"
          ]
        },
        {
          "name": "stderr",
          "output_type": "stream",
          "text": [
            "Epoch 24/50: 100%|██████████| 475/475 [03:42<00:00,  2.14it/s]"
          ]
        },
        {
          "name": "stdout",
          "output_type": "stream",
          "text": [
            "Epoch [24/50] Average Training Loss - Swin: 0.0397, EfficientNet: 0.0496\n"
          ]
        },
        {
          "name": "stderr",
          "output_type": "stream",
          "text": [
            "\n"
          ]
        },
        {
          "name": "stdout",
          "output_type": "stream",
          "text": [
            "Validation Loss - Swin: 0.3773, EfficientNet: 0.4156\n",
            "Validation Accuracy - Swin: 91.81%, EfficientNet: 90.52%, Ensemble: 92.60%\n",
            "Best model saved at epoch 24 with ensemble validation accuracy 92.60%\n"
          ]
        },
        {
          "name": "stderr",
          "output_type": "stream",
          "text": [
            "Epoch 25/50: 100%|██████████| 475/475 [03:42<00:00,  2.14it/s]"
          ]
        },
        {
          "name": "stdout",
          "output_type": "stream",
          "text": [
            "Epoch [25/50] Average Training Loss - Swin: 0.0363, EfficientNet: 0.0437\n"
          ]
        },
        {
          "name": "stderr",
          "output_type": "stream",
          "text": [
            "\n"
          ]
        },
        {
          "name": "stdout",
          "output_type": "stream",
          "text": [
            "Validation Loss - Swin: 0.3291, EfficientNet: 0.4234\n",
            "Validation Accuracy - Swin: 91.68%, EfficientNet: 90.60%, Ensemble: 92.39%\n",
            "No improvement in ensemble validation accuracy.\n"
          ]
        },
        {
          "name": "stderr",
          "output_type": "stream",
          "text": [
            "Epoch 26/50: 100%|██████████| 475/475 [03:38<00:00,  2.17it/s]"
          ]
        },
        {
          "name": "stdout",
          "output_type": "stream",
          "text": [
            "Epoch [26/50] Average Training Loss - Swin: 0.0231, EfficientNet: 0.0357\n"
          ]
        },
        {
          "name": "stderr",
          "output_type": "stream",
          "text": [
            "\n"
          ]
        },
        {
          "name": "stdout",
          "output_type": "stream",
          "text": [
            "Validation Loss - Swin: 0.3728, EfficientNet: 0.4455\n",
            "Validation Accuracy - Swin: 91.73%, EfficientNet: 90.78%, Ensemble: 92.62%\n",
            "Best model saved at epoch 26 with ensemble validation accuracy 92.62%\n"
          ]
        },
        {
          "name": "stderr",
          "output_type": "stream",
          "text": [
            "Epoch 27/50: 100%|██████████| 475/475 [03:42<00:00,  2.14it/s]"
          ]
        },
        {
          "name": "stdout",
          "output_type": "stream",
          "text": [
            "Epoch [27/50] Average Training Loss - Swin: 0.0210, EfficientNet: 0.0344\n"
          ]
        },
        {
          "name": "stderr",
          "output_type": "stream",
          "text": [
            "\n"
          ]
        },
        {
          "name": "stdout",
          "output_type": "stream",
          "text": [
            "Validation Loss - Swin: 0.3995, EfficientNet: 0.4560\n",
            "Validation Accuracy - Swin: 92.18%, EfficientNet: 90.94%, Ensemble: 92.91%\n",
            "Best model saved at epoch 27 with ensemble validation accuracy 92.91%\n"
          ]
        },
        {
          "name": "stderr",
          "output_type": "stream",
          "text": [
            "Epoch 28/50: 100%|██████████| 475/475 [03:42<00:00,  2.14it/s]"
          ]
        },
        {
          "name": "stdout",
          "output_type": "stream",
          "text": [
            "Epoch [28/50] Average Training Loss - Swin: 0.0213, EfficientNet: 0.0295\n"
          ]
        },
        {
          "name": "stderr",
          "output_type": "stream",
          "text": [
            "\n"
          ]
        },
        {
          "name": "stdout",
          "output_type": "stream",
          "text": [
            "Validation Loss - Swin: 0.3855, EfficientNet: 0.4420\n",
            "Validation Accuracy - Swin: 92.47%, EfficientNet: 90.83%, Ensemble: 92.70%\n",
            "No improvement in ensemble validation accuracy.\n"
          ]
        },
        {
          "name": "stderr",
          "output_type": "stream",
          "text": [
            "Epoch 29/50: 100%|██████████| 475/475 [03:38<00:00,  2.17it/s]"
          ]
        },
        {
          "name": "stdout",
          "output_type": "stream",
          "text": [
            "Epoch [29/50] Average Training Loss - Swin: 0.0161, EfficientNet: 0.0256\n"
          ]
        },
        {
          "name": "stderr",
          "output_type": "stream",
          "text": [
            "\n"
          ]
        },
        {
          "name": "stdout",
          "output_type": "stream",
          "text": [
            "Validation Loss - Swin: 0.3957, EfficientNet: 0.4360\n",
            "Validation Accuracy - Swin: 92.39%, EfficientNet: 91.02%, Ensemble: 93.02%\n",
            "Best model saved at epoch 29 with ensemble validation accuracy 93.02%\n"
          ]
        },
        {
          "name": "stderr",
          "output_type": "stream",
          "text": [
            "Epoch 30/50: 100%|██████████| 475/475 [03:42<00:00,  2.14it/s]"
          ]
        },
        {
          "name": "stdout",
          "output_type": "stream",
          "text": [
            "Epoch [30/50] Average Training Loss - Swin: 0.0156, EfficientNet: 0.0241\n"
          ]
        },
        {
          "name": "stderr",
          "output_type": "stream",
          "text": [
            "\n"
          ]
        },
        {
          "name": "stdout",
          "output_type": "stream",
          "text": [
            "Validation Loss - Swin: 0.3951, EfficientNet: 0.4415\n",
            "Validation Accuracy - Swin: 92.41%, EfficientNet: 91.12%, Ensemble: 92.94%\n",
            "No improvement in ensemble validation accuracy.\n"
          ]
        },
        {
          "name": "stderr",
          "output_type": "stream",
          "text": [
            "Epoch 31/50: 100%|██████████| 475/475 [03:38<00:00,  2.17it/s]"
          ]
        },
        {
          "name": "stdout",
          "output_type": "stream",
          "text": [
            "Epoch [31/50] Average Training Loss - Swin: 0.1349, EfficientNet: 0.1232\n"
          ]
        },
        {
          "name": "stderr",
          "output_type": "stream",
          "text": [
            "\n"
          ]
        },
        {
          "name": "stdout",
          "output_type": "stream",
          "text": [
            "Validation Loss - Swin: 0.3362, EfficientNet: 0.4045\n",
            "Validation Accuracy - Swin: 89.17%, EfficientNet: 88.59%, Ensemble: 91.39%\n",
            "No improvement in ensemble validation accuracy.\n"
          ]
        },
        {
          "name": "stderr",
          "output_type": "stream",
          "text": [
            "Epoch 32/50: 100%|██████████| 475/475 [03:38<00:00,  2.17it/s]"
          ]
        },
        {
          "name": "stdout",
          "output_type": "stream",
          "text": [
            "Epoch [32/50] Average Training Loss - Swin: 0.1172, EfficientNet: 0.1132\n"
          ]
        },
        {
          "name": "stderr",
          "output_type": "stream",
          "text": [
            "\n"
          ]
        },
        {
          "name": "stdout",
          "output_type": "stream",
          "text": [
            "Validation Loss - Swin: 0.3140, EfficientNet: 0.4275\n",
            "Validation Accuracy - Swin: 89.91%, EfficientNet: 88.94%, Ensemble: 91.60%\n",
            "No improvement in ensemble validation accuracy.\n"
          ]
        },
        {
          "name": "stderr",
          "output_type": "stream",
          "text": [
            "Epoch 33/50: 100%|██████████| 475/475 [03:38<00:00,  2.17it/s]"
          ]
        },
        {
          "name": "stdout",
          "output_type": "stream",
          "text": [
            "Epoch [33/50] Average Training Loss - Swin: 0.1090, EfficientNet: 0.0949\n"
          ]
        },
        {
          "name": "stderr",
          "output_type": "stream",
          "text": [
            "\n"
          ]
        },
        {
          "name": "stdout",
          "output_type": "stream",
          "text": [
            "Validation Loss - Swin: 0.3269, EfficientNet: 0.4686\n",
            "Validation Accuracy - Swin: 89.96%, EfficientNet: 89.20%, Ensemble: 91.52%\n",
            "No improvement in ensemble validation accuracy.\n"
          ]
        },
        {
          "name": "stderr",
          "output_type": "stream",
          "text": [
            "Epoch 34/50: 100%|██████████| 475/475 [03:39<00:00,  2.17it/s]"
          ]
        },
        {
          "name": "stdout",
          "output_type": "stream",
          "text": [
            "Epoch [34/50] Average Training Loss - Swin: 0.0995, EfficientNet: 0.0843\n"
          ]
        },
        {
          "name": "stderr",
          "output_type": "stream",
          "text": [
            "\n"
          ]
        },
        {
          "name": "stdout",
          "output_type": "stream",
          "text": [
            "Validation Loss - Swin: 0.3273, EfficientNet: 0.4781\n",
            "Validation Accuracy - Swin: 89.83%, EfficientNet: 89.78%, Ensemble: 91.02%\n",
            "No improvement in ensemble validation accuracy.\n"
          ]
        },
        {
          "name": "stderr",
          "output_type": "stream",
          "text": [
            "Epoch 35/50: 100%|██████████| 475/475 [03:38<00:00,  2.17it/s]"
          ]
        },
        {
          "name": "stdout",
          "output_type": "stream",
          "text": [
            "Epoch [35/50] Average Training Loss - Swin: 0.0993, EfficientNet: 0.0768\n"
          ]
        },
        {
          "name": "stderr",
          "output_type": "stream",
          "text": [
            "\n"
          ]
        },
        {
          "name": "stdout",
          "output_type": "stream",
          "text": [
            "Validation Loss - Swin: 0.3089, EfficientNet: 0.4113\n",
            "Validation Accuracy - Swin: 91.33%, EfficientNet: 89.57%, Ensemble: 92.12%\n",
            "No improvement in ensemble validation accuracy.\n"
          ]
        },
        {
          "name": "stderr",
          "output_type": "stream",
          "text": [
            "Epoch 36/50: 100%|██████████| 475/475 [03:38<00:00,  2.17it/s]"
          ]
        },
        {
          "name": "stdout",
          "output_type": "stream",
          "text": [
            "Epoch [36/50] Average Training Loss - Swin: 0.0899, EfficientNet: 0.0738\n"
          ]
        },
        {
          "name": "stderr",
          "output_type": "stream",
          "text": [
            "\n"
          ]
        },
        {
          "name": "stdout",
          "output_type": "stream",
          "text": [
            "Validation Loss - Swin: 0.3487, EfficientNet: 0.4119\n",
            "Validation Accuracy - Swin: 90.86%, EfficientNet: 89.78%, Ensemble: 91.91%\n",
            "No improvement in ensemble validation accuracy.\n"
          ]
        },
        {
          "name": "stderr",
          "output_type": "stream",
          "text": [
            "Epoch 37/50: 100%|██████████| 475/475 [03:39<00:00,  2.17it/s]"
          ]
        },
        {
          "name": "stdout",
          "output_type": "stream",
          "text": [
            "Epoch [37/50] Average Training Loss - Swin: 0.0907, EfficientNet: 0.0702\n"
          ]
        },
        {
          "name": "stderr",
          "output_type": "stream",
          "text": [
            "\n"
          ]
        },
        {
          "name": "stdout",
          "output_type": "stream",
          "text": [
            "Validation Loss - Swin: 0.2826, EfficientNet: 0.4553\n",
            "Validation Accuracy - Swin: 90.70%, EfficientNet: 89.41%, Ensemble: 91.57%\n",
            "No improvement in ensemble validation accuracy.\n"
          ]
        },
        {
          "name": "stderr",
          "output_type": "stream",
          "text": [
            "Epoch 38/50: 100%|██████████| 475/475 [03:38<00:00,  2.17it/s]"
          ]
        },
        {
          "name": "stdout",
          "output_type": "stream",
          "text": [
            "Epoch [38/50] Average Training Loss - Swin: 0.0740, EfficientNet: 0.0678\n"
          ]
        },
        {
          "name": "stderr",
          "output_type": "stream",
          "text": [
            "\n"
          ]
        },
        {
          "name": "stdout",
          "output_type": "stream",
          "text": [
            "Validation Loss - Swin: 0.2920, EfficientNet: 0.4688\n",
            "Validation Accuracy - Swin: 91.10%, EfficientNet: 89.33%, Ensemble: 92.04%\n",
            "No improvement in ensemble validation accuracy.\n"
          ]
        },
        {
          "name": "stderr",
          "output_type": "stream",
          "text": [
            "Epoch 39/50: 100%|██████████| 475/475 [03:39<00:00,  2.17it/s]"
          ]
        },
        {
          "name": "stdout",
          "output_type": "stream",
          "text": [
            "Epoch [39/50] Average Training Loss - Swin: 0.0709, EfficientNet: 0.0649\n"
          ]
        },
        {
          "name": "stderr",
          "output_type": "stream",
          "text": [
            "\n"
          ]
        },
        {
          "name": "stdout",
          "output_type": "stream",
          "text": [
            "Validation Loss - Swin: 0.3570, EfficientNet: 0.4382\n",
            "Validation Accuracy - Swin: 90.91%, EfficientNet: 90.38%, Ensemble: 92.23%\n",
            "No improvement in ensemble validation accuracy.\n"
          ]
        },
        {
          "name": "stderr",
          "output_type": "stream",
          "text": [
            "Epoch 40/50: 100%|██████████| 475/475 [03:38<00:00,  2.17it/s]"
          ]
        },
        {
          "name": "stdout",
          "output_type": "stream",
          "text": [
            "Epoch [40/50] Average Training Loss - Swin: 0.0749, EfficientNet: 0.0575\n"
          ]
        },
        {
          "name": "stderr",
          "output_type": "stream",
          "text": [
            "\n"
          ]
        },
        {
          "name": "stdout",
          "output_type": "stream",
          "text": [
            "Validation Loss - Swin: 0.3365, EfficientNet: 0.4180\n",
            "Validation Accuracy - Swin: 90.36%, EfficientNet: 89.49%, Ensemble: 91.83%\n",
            "No improvement in ensemble validation accuracy.\n"
          ]
        },
        {
          "name": "stderr",
          "output_type": "stream",
          "text": [
            "Epoch 41/50: 100%|██████████| 475/475 [03:38<00:00,  2.17it/s]"
          ]
        },
        {
          "name": "stdout",
          "output_type": "stream",
          "text": [
            "Epoch [41/50] Average Training Loss - Swin: 0.0610, EfficientNet: 0.0498\n"
          ]
        },
        {
          "name": "stderr",
          "output_type": "stream",
          "text": [
            "\n"
          ]
        },
        {
          "name": "stdout",
          "output_type": "stream",
          "text": [
            "Validation Loss - Swin: 0.3432, EfficientNet: 0.4522\n",
            "Validation Accuracy - Swin: 89.96%, EfficientNet: 90.52%, Ensemble: 91.36%\n",
            "No improvement in ensemble validation accuracy.\n"
          ]
        },
        {
          "name": "stderr",
          "output_type": "stream",
          "text": [
            "Epoch 42/50: 100%|██████████| 475/475 [03:38<00:00,  2.17it/s]"
          ]
        },
        {
          "name": "stdout",
          "output_type": "stream",
          "text": [
            "Epoch [42/50] Average Training Loss - Swin: 0.0614, EfficientNet: 0.0476\n"
          ]
        },
        {
          "name": "stderr",
          "output_type": "stream",
          "text": [
            "\n"
          ]
        },
        {
          "name": "stdout",
          "output_type": "stream",
          "text": [
            "Validation Loss - Swin: 0.4420, EfficientNet: 0.5005\n",
            "Validation Accuracy - Swin: 89.99%, EfficientNet: 89.88%, Ensemble: 92.02%\n",
            "No improvement in ensemble validation accuracy.\n"
          ]
        },
        {
          "name": "stderr",
          "output_type": "stream",
          "text": [
            "Epoch 43/50: 100%|██████████| 475/475 [03:38<00:00,  2.17it/s]"
          ]
        },
        {
          "name": "stdout",
          "output_type": "stream",
          "text": [
            "Epoch [43/50] Average Training Loss - Swin: 0.0568, EfficientNet: 0.0467\n"
          ]
        },
        {
          "name": "stderr",
          "output_type": "stream",
          "text": [
            "\n"
          ]
        },
        {
          "name": "stdout",
          "output_type": "stream",
          "text": [
            "Validation Loss - Swin: 0.3888, EfficientNet: 0.4712\n",
            "Validation Accuracy - Swin: 91.15%, EfficientNet: 89.86%, Ensemble: 92.28%\n",
            "No improvement in ensemble validation accuracy.\n"
          ]
        },
        {
          "name": "stderr",
          "output_type": "stream",
          "text": [
            "Epoch 44/50: 100%|██████████| 475/475 [03:38<00:00,  2.17it/s]"
          ]
        },
        {
          "name": "stdout",
          "output_type": "stream",
          "text": [
            "Epoch [44/50] Average Training Loss - Swin: 0.0490, EfficientNet: 0.0416\n"
          ]
        },
        {
          "name": "stderr",
          "output_type": "stream",
          "text": [
            "\n"
          ]
        },
        {
          "name": "stdout",
          "output_type": "stream",
          "text": [
            "Validation Loss - Swin: 0.4244, EfficientNet: 0.4563\n",
            "Validation Accuracy - Swin: 90.57%, EfficientNet: 89.88%, Ensemble: 92.26%\n",
            "No improvement in ensemble validation accuracy.\n"
          ]
        },
        {
          "name": "stderr",
          "output_type": "stream",
          "text": [
            "Epoch 45/50: 100%|██████████| 475/475 [03:38<00:00,  2.17it/s]"
          ]
        },
        {
          "name": "stdout",
          "output_type": "stream",
          "text": [
            "Epoch [45/50] Average Training Loss - Swin: 0.0489, EfficientNet: 0.0389\n"
          ]
        },
        {
          "name": "stderr",
          "output_type": "stream",
          "text": [
            "\n"
          ]
        },
        {
          "name": "stdout",
          "output_type": "stream",
          "text": [
            "Validation Loss - Swin: 0.3312, EfficientNet: 0.4588\n",
            "Validation Accuracy - Swin: 90.75%, EfficientNet: 90.33%, Ensemble: 92.07%\n",
            "No improvement in ensemble validation accuracy.\n"
          ]
        },
        {
          "name": "stderr",
          "output_type": "stream",
          "text": [
            "Epoch 46/50: 100%|██████████| 475/475 [03:38<00:00,  2.17it/s]"
          ]
        },
        {
          "name": "stdout",
          "output_type": "stream",
          "text": [
            "Epoch [46/50] Average Training Loss - Swin: 0.0476, EfficientNet: 0.0365\n"
          ]
        },
        {
          "name": "stderr",
          "output_type": "stream",
          "text": [
            "\n"
          ]
        },
        {
          "name": "stdout",
          "output_type": "stream",
          "text": [
            "Validation Loss - Swin: 0.3608, EfficientNet: 0.4704\n",
            "Validation Accuracy - Swin: 91.25%, EfficientNet: 90.49%, Ensemble: 92.15%\n",
            "No improvement in ensemble validation accuracy.\n"
          ]
        },
        {
          "name": "stderr",
          "output_type": "stream",
          "text": [
            "Epoch 47/50: 100%|██████████| 475/475 [03:38<00:00,  2.17it/s]"
          ]
        },
        {
          "name": "stdout",
          "output_type": "stream",
          "text": [
            "Epoch [47/50] Average Training Loss - Swin: 0.0380, EfficientNet: 0.0337\n"
          ]
        },
        {
          "name": "stderr",
          "output_type": "stream",
          "text": [
            "\n"
          ]
        },
        {
          "name": "stdout",
          "output_type": "stream",
          "text": [
            "Validation Loss - Swin: 0.3991, EfficientNet: 0.5099\n",
            "Validation Accuracy - Swin: 90.62%, EfficientNet: 90.60%, Ensemble: 91.99%\n",
            "No improvement in ensemble validation accuracy.\n"
          ]
        },
        {
          "name": "stderr",
          "output_type": "stream",
          "text": [
            "Epoch 48/50: 100%|██████████| 475/475 [03:38<00:00,  2.17it/s]"
          ]
        },
        {
          "name": "stdout",
          "output_type": "stream",
          "text": [
            "Epoch [48/50] Average Training Loss - Swin: 0.0390, EfficientNet: 0.0274\n"
          ]
        },
        {
          "name": "stderr",
          "output_type": "stream",
          "text": [
            "\n"
          ]
        },
        {
          "name": "stdout",
          "output_type": "stream",
          "text": [
            "Validation Loss - Swin: 0.4174, EfficientNet: 0.5264\n",
            "Validation Accuracy - Swin: 91.07%, EfficientNet: 90.25%, Ensemble: 92.10%\n",
            "No improvement in ensemble validation accuracy.\n"
          ]
        },
        {
          "name": "stderr",
          "output_type": "stream",
          "text": [
            "Epoch 49/50: 100%|██████████| 475/475 [03:38<00:00,  2.17it/s]"
          ]
        },
        {
          "name": "stdout",
          "output_type": "stream",
          "text": [
            "Epoch [49/50] Average Training Loss - Swin: 0.0344, EfficientNet: 0.0294\n"
          ]
        },
        {
          "name": "stderr",
          "output_type": "stream",
          "text": [
            "\n"
          ]
        },
        {
          "name": "stdout",
          "output_type": "stream",
          "text": [
            "Validation Loss - Swin: 0.3433, EfficientNet: 0.5154\n",
            "Validation Accuracy - Swin: 91.49%, EfficientNet: 90.70%, Ensemble: 92.15%\n",
            "No improvement in ensemble validation accuracy.\n"
          ]
        },
        {
          "name": "stderr",
          "output_type": "stream",
          "text": [
            "Epoch 50/50: 100%|██████████| 475/475 [03:38<00:00,  2.17it/s]"
          ]
        },
        {
          "name": "stdout",
          "output_type": "stream",
          "text": [
            "Epoch [50/50] Average Training Loss - Swin: 0.0329, EfficientNet: 0.0238\n"
          ]
        },
        {
          "name": "stderr",
          "output_type": "stream",
          "text": [
            "\n"
          ]
        },
        {
          "name": "stdout",
          "output_type": "stream",
          "text": [
            "Validation Loss - Swin: 0.3781, EfficientNet: 0.5065\n",
            "Validation Accuracy - Swin: 91.57%, EfficientNet: 90.73%, Ensemble: 92.12%\n",
            "No improvement in ensemble validation accuracy.\n",
            "Training completed.\n"
          ]
        },
        {
          "name": "stderr",
          "output_type": "stream",
          "text": [
            "<ipython-input-3-40997c491869>:226: FutureWarning: You are using `torch.load` with `weights_only=False` (the current default value), which uses the default pickle module implicitly. It is possible to construct malicious pickle data which will execute arbitrary code during unpickling (See https://github.com/pytorch/pytorch/blob/main/SECURITY.md#untrusted-models for more details). In a future release, the default value for `weights_only` will be flipped to `True`. This limits the functions that could be executed during unpickling. Arbitrary objects will no longer be allowed to be loaded via this mode unless they are explicitly allowlisted by the user via `torch.serialization.add_safe_globals`. We recommend you start setting `weights_only=True` for any use case where you don't have full control of the loaded file. Please open an issue on GitHub for any issues related to this experimental feature.\n",
            "  checkpoint = torch.load('best_model.pth')\n"
          ]
        },
        {
          "name": "stdout",
          "output_type": "stream",
          "text": [
            "Final Validation Accuracy - Swin: 92.39%, EfficientNet: 91.02%, Ensemble: 93.02%\n",
            "Confusion Matrix:\n",
            "[[1806  125]\n",
            " [ 140 1725]]\n"
          ]
        }
      ],
      "source": [
        "# Install necessary libraries (if not already installed)\n",
        "# !pip install --upgrade albumentations timm\n",
        "\n",
        "import os\n",
        "import torch\n",
        "import torch.nn as nn\n",
        "from torchvision.datasets import ImageFolder\n",
        "from torch.utils.data import DataLoader\n",
        "import timm\n",
        "from sklearn.metrics import confusion_matrix\n",
        "import numpy as np\n",
        "from tqdm import tqdm\n",
        "import multiprocessing\n",
        "\n",
        "import albumentations as A\n",
        "from albumentations.pytorch import ToTensorV2\n",
        "from PIL import Image\n",
        "\n",
        "# Define data directories\n",
        "train_dir = '/content/drive/MyDrive/train/'\n",
        "val_dir = '/content/drive/MyDrive/val/val/'\n",
        "\n",
        "# Robust data augmentation\n",
        "train_transforms = A.Compose([\n",
        "    A.Resize(224, 224),\n",
        "    A.OneOf([\n",
        "        A.RandomBrightnessContrast(),\n",
        "        A.ColorJitter(),\n",
        "        A.InvertImg(),\n",
        "    ], p=0.8),\n",
        "    A.OneOf([\n",
        "        A.HorizontalFlip(),\n",
        "        A.VerticalFlip(),\n",
        "        A.RandomRotate90(),\n",
        "        A.ShiftScaleRotate(shift_limit=0.1, scale_limit=0.1, rotate_limit=45),\n",
        "        A.Affine(shear=(-30, 30)),\n",
        "        A.Rotate(limit=45),\n",
        "        A.CoarseDropout(max_holes=8, max_height=8, max_width=8, fill_value=0, p=0.5),\n",
        "        A.Transpose(),\n",
        "    ], p=0.8),\n",
        "    A.Normalize(mean=(0.485, 0.456, 0.406),\n",
        "                std=(0.229, 0.224, 0.225)),\n",
        "    ToTensorV2(),\n",
        "])\n",
        "\n",
        "val_transforms = A.Compose([\n",
        "    A.Resize(224, 224),\n",
        "    A.Normalize(mean=(0.485, 0.456, 0.406),\n",
        "                std=(0.229, 0.224, 0.225)),\n",
        "    ToTensorV2(),\n",
        "])\n",
        "\n",
        "# Custom dataset to use Albumentations\n",
        "class CustomImageDataset(torch.utils.data.Dataset):\n",
        "    def __init__(self, root_dir, transform=None):\n",
        "        self.dataset = ImageFolder(root=root_dir)\n",
        "        self.transform = transform\n",
        "\n",
        "    def __getitem__(self, idx):\n",
        "        img_path, label = self.dataset.samples[idx]\n",
        "        image = np.array(Image.open(img_path).convert('RGB'))\n",
        "        if self.transform:\n",
        "            transformed = self.transform(image=image)\n",
        "            image = transformed['image']\n",
        "        return image, label\n",
        "\n",
        "    def __len__(self):\n",
        "        return len(self.dataset)\n",
        "\n",
        "# Load datasets\n",
        "train_dataset = CustomImageDataset(root_dir=train_dir, transform=train_transforms)\n",
        "val_dataset = CustomImageDataset(root_dir=val_dir, transform=val_transforms)\n",
        "\n",
        "# Verify class-to-label mapping\n",
        "print(\"Class-to-Label Mapping for Training Dataset:\")\n",
        "print(train_dataset.dataset.class_to_idx)\n",
        "\n",
        "# DataLoaders\n",
        "num_workers = multiprocessing.cpu_count() - 1\n",
        "train_loader = DataLoader(train_dataset, batch_size=32, shuffle=True, num_workers=num_workers, pin_memory=True)\n",
        "val_loader = DataLoader(val_dataset, batch_size=32, shuffle=False, num_workers=num_workers, pin_memory=True)\n",
        "\n",
        "# Define models with dropout\n",
        "device = torch.device('cuda' if torch.cuda.is_available() else 'cpu')\n",
        "\n",
        "# Swin Transformer Model with Dropout\n",
        "model_swin = timm.create_model('swin_base_patch4_window7_224', pretrained=True, num_classes=2, drop_rate=0.2)\n",
        "model_swin = model_swin.to(device)\n",
        "\n",
        "# EfficientNet Model with Dropout\n",
        "model_efficientnet = timm.create_model('tf_efficientnet_b7_ns', pretrained=True, num_classes=2, drop_rate=0.2)\n",
        "model_efficientnet = model_efficientnet.to(device)\n",
        "\n",
        "# Define loss and optimizer with weight decay\n",
        "criterion = nn.CrossEntropyLoss()\n",
        "optimizer_swin = torch.optim.AdamW(model_swin.parameters(), lr=1e-4, weight_decay=1e-5)\n",
        "optimizer_efficientnet = torch.optim.AdamW(model_efficientnet.parameters(), lr=1e-4, weight_decay=1e-5)\n",
        "\n",
        "# Modified LR schedulers - Using CosineAnnealingWarmRestarts\n",
        "scheduler_swin = torch.optim.lr_scheduler.CosineAnnealingWarmRestarts(optimizer_swin, T_0=10, T_mult=2)\n",
        "scheduler_efficientnet = torch.optim.lr_scheduler.CosineAnnealingWarmRestarts(optimizer_efficientnet, T_0=10, T_mult=2)\n",
        "\n",
        "# Training parameters\n",
        "num_epochs = 50\n",
        "\n",
        "# For weighted ensemble\n",
        "best_val_accuracy_swin = 0\n",
        "best_val_accuracy_efficientnet = 0\n",
        "best_val_accuracy_ensemble = 0\n",
        "\n",
        "for epoch in range(num_epochs):\n",
        "    model_swin.train()\n",
        "    model_efficientnet.train()\n",
        "    running_loss_swin = 0.0\n",
        "    running_loss_efficientnet = 0.0\n",
        "\n",
        "    # Training loop\n",
        "    for images, labels in tqdm(train_loader, desc=f'Epoch {epoch+1}/{num_epochs}'):\n",
        "        images = images.to(device, non_blocking=True)\n",
        "        labels = labels.to(device, non_blocking=True)\n",
        "\n",
        "        # Zero the parameter gradients\n",
        "        optimizer_swin.zero_grad()\n",
        "        optimizer_efficientnet.zero_grad()\n",
        "\n",
        "        # Forward pass\n",
        "        outputs_swin = model_swin(images)\n",
        "        outputs_efficientnet = model_efficientnet(images)\n",
        "\n",
        "        # Compute loss\n",
        "        loss_swin = criterion(outputs_swin, labels)\n",
        "        loss_efficientnet = criterion(outputs_efficientnet, labels)\n",
        "        total_loss = loss_swin + loss_efficientnet\n",
        "\n",
        "        # Backward pass and optimization\n",
        "        total_loss.backward()\n",
        "        optimizer_swin.step()\n",
        "        optimizer_efficientnet.step()\n",
        "\n",
        "        running_loss_swin += loss_swin.item()\n",
        "        running_loss_efficientnet += loss_efficientnet.item()\n",
        "\n",
        "    # Calculate average training losses\n",
        "    avg_loss_swin = running_loss_swin / len(train_loader)\n",
        "    avg_loss_efficientnet = running_loss_efficientnet / len(train_loader)\n",
        "    print(f'Epoch [{epoch+1}/{num_epochs}] Average Training Loss - Swin: {avg_loss_swin:.4f}, EfficientNet: {avg_loss_efficientnet:.4f}')\n",
        "\n",
        "    # Validation loop\n",
        "    model_swin.eval()\n",
        "    model_efficientnet.eval()\n",
        "    val_loss_swin = 0.0\n",
        "    val_loss_efficientnet = 0.0\n",
        "    correct_swin = 0\n",
        "    correct_efficientnet = 0\n",
        "    correct_ensemble = 0\n",
        "    total = 0\n",
        "    all_labels = []\n",
        "    all_preds = []\n",
        "    with torch.no_grad():\n",
        "        for images, labels in val_loader:\n",
        "            images = images.to(device, non_blocking=True)\n",
        "            labels = labels.to(device, non_blocking=True)\n",
        "            outputs_swin = model_swin(images)\n",
        "            outputs_efficientnet = model_efficientnet(images)\n",
        "\n",
        "            # Compute validation loss\n",
        "            loss_swin = criterion(outputs_swin, labels)\n",
        "            loss_efficientnet = criterion(outputs_efficientnet, labels)\n",
        "            val_loss_swin += loss_swin.item()\n",
        "            val_loss_efficientnet += loss_efficientnet.item()\n",
        "\n",
        "            # Individual model predictions\n",
        "            _, predicted_swin = torch.max(outputs_swin.data, 1)\n",
        "            _, predicted_efficientnet = torch.max(outputs_efficientnet.data, 1)\n",
        "\n",
        "            # Ensemble by averaging the outputs\n",
        "            outputs = (outputs_swin + outputs_efficientnet) / 2\n",
        "            _, predicted = torch.max(outputs.data, 1)\n",
        "\n",
        "            total += labels.size(0)\n",
        "            correct_swin += (predicted_swin == labels).sum().item()\n",
        "            correct_efficientnet += (predicted_efficientnet == labels).sum().item()\n",
        "            correct_ensemble += (predicted == labels).sum().item()\n",
        "\n",
        "            all_labels.extend(labels.cpu().numpy())\n",
        "            all_preds.extend(predicted.cpu().numpy())\n",
        "\n",
        "    # Calculate average validation losses and accuracy\n",
        "    avg_val_loss_swin = val_loss_swin / len(val_loader)\n",
        "    avg_val_loss_efficientnet = val_loss_efficientnet / len(val_loader)\n",
        "    val_accuracy_swin = 100 * correct_swin / total\n",
        "    val_accuracy_efficientnet = 100 * correct_efficientnet / total\n",
        "    val_accuracy_ensemble = 100 * correct_ensemble / total\n",
        "    print(f'Validation Loss - Swin: {avg_val_loss_swin:.4f}, EfficientNet: {avg_val_loss_efficientnet:.4f}')\n",
        "    print(f'Validation Accuracy - Swin: {val_accuracy_swin:.2f}%, EfficientNet: {val_accuracy_efficientnet:.2f}%, Ensemble: {val_accuracy_ensemble:.2f}%')\n",
        "\n",
        "    # Update learning rate schedulers with warm restarts\n",
        "    scheduler_swin.step(epoch + 1)           # step with the epoch count\n",
        "    scheduler_efficientnet.step(epoch + 1)   # step with the epoch count\n",
        "\n",
        "    # Save the model based on best ensemble validation accuracy\n",
        "    if val_accuracy_ensemble > best_val_accuracy_ensemble:\n",
        "        best_val_accuracy_ensemble = val_accuracy_ensemble\n",
        "        # Save the best model\n",
        "        torch.save({\n",
        "            'epoch': epoch + 1,\n",
        "            'model_swin_state_dict': model_swin.state_dict(),\n",
        "            'model_efficientnet_state_dict': model_efficientnet.state_dict(),\n",
        "            'optimizer_swin_state_dict': optimizer_swin.state_dict(),\n",
        "            'optimizer_efficientnet_state_dict': optimizer_efficientnet.state_dict(),\n",
        "            'val_accuracy_ensemble': best_val_accuracy_ensemble,\n",
        "            'best_val_accuracy_swin': val_accuracy_swin,\n",
        "            'best_val_accuracy_efficientnet': val_accuracy_efficientnet,\n",
        "        }, 'best_model.pth')\n",
        "        print(f'Best model saved at epoch {epoch+1} with ensemble validation accuracy {best_val_accuracy_ensemble:.2f}%')\n",
        "\n",
        "        # Update best validation accuracies\n",
        "        best_val_accuracy_swin = val_accuracy_swin\n",
        "        best_val_accuracy_efficientnet = val_accuracy_efficientnet\n",
        "    else:\n",
        "        print('No improvement in ensemble validation accuracy.')\n",
        "\n",
        "print('Training completed.')\n",
        "\n",
        "# Load the best model\n",
        "checkpoint = torch.load('best_model.pth')\n",
        "model_swin.load_state_dict(checkpoint['model_swin_state_dict'])\n",
        "model_efficientnet.load_state_dict(checkpoint['model_efficientnet_state_dict'])\n",
        "best_val_accuracy_swin = checkpoint['best_val_accuracy_swin']\n",
        "best_val_accuracy_efficientnet = checkpoint['best_val_accuracy_efficientnet']\n",
        "\n",
        "# Evaluate on the validation set with weighted ensemble\n",
        "model_swin.eval()\n",
        "model_efficientnet.eval()\n",
        "all_labels = []\n",
        "all_preds = []\n",
        "correct_swin = 0\n",
        "correct_efficientnet = 0\n",
        "correct_ensemble = 0\n",
        "total = 0\n",
        "with torch.no_grad():\n",
        "    for images, labels in val_loader:\n",
        "        images = images.to(device, non_blocking=True)\n",
        "        labels = labels.to(device, non_blocking=True)\n",
        "        outputs_swin = model_swin(images)\n",
        "        outputs_efficientnet = model_efficientnet(images)\n",
        "\n",
        "        # Individual model predictions\n",
        "        _, predicted_swin = torch.max(outputs_swin.data, 1)\n",
        "        _, predicted_efficientnet = torch.max(outputs_efficientnet.data, 1)\n",
        "\n",
        "        # Ensemble by weighted averaging based on best validation accuracies\n",
        "        weight_swin = best_val_accuracy_swin / (best_val_accuracy_swin + best_val_accuracy_efficientnet)\n",
        "        weight_efficientnet = best_val_accuracy_efficientnet / (best_val_accuracy_swin + best_val_accuracy_efficientnet)\n",
        "        outputs = (weight_swin * outputs_swin + weight_efficientnet * outputs_efficientnet)\n",
        "\n",
        "        _, predicted = torch.max(outputs.data, 1)\n",
        "\n",
        "        total += labels.size(0)\n",
        "        correct_swin += (predicted_swin == labels).sum().item()\n",
        "        correct_efficientnet += (predicted_efficientnet == labels).sum().item()\n",
        "        correct_ensemble += (predicted == labels).sum().item()\n",
        "\n",
        "        all_labels.extend(labels.cpu().numpy())\n",
        "        all_preds.extend(predicted.cpu().numpy())\n",
        "\n",
        "# Compute final accuracies\n",
        "final_accuracy_swin = 100 * correct_swin / total\n",
        "final_accuracy_efficientnet = 100 * correct_efficientnet / total\n",
        "final_accuracy_ensemble = 100 * correct_ensemble / total\n",
        "print(f'Final Validation Accuracy - Swin: {final_accuracy_swin:.2f}%, EfficientNet: {final_accuracy_efficientnet:.2f}%, Ensemble: {final_accuracy_ensemble:.2f}%')\n",
        "\n",
        "# Compute confusion matrix\n",
        "cm = confusion_matrix(all_labels, all_preds)\n",
        "print('Confusion Matrix:')\n",
        "print(cm)\n"
      ]
    },
    {
      "cell_type": "markdown",
      "metadata": {
        "id": "WAetRcJPpXnd"
      },
      "source": [
        "# Three Class Problem"
      ]
    },
    {
      "cell_type": "code",
      "execution_count": null,
      "metadata": {
        "colab": {
          "base_uri": "https://localhost:8080/"
        },
        "id": "JKilCXPgpZ20",
        "outputId": "2d117503-fa84-43ea-d1ea-b664389f3ef0"
      },
      "outputs": [
        {
          "output_type": "stream",
          "name": "stdout",
          "text": [
            "Mounted at /content/drive\n"
          ]
        }
      ],
      "source": [
        "from google.colab import drive\n",
        "drive.mount('/content/drive')"
      ]
    },
    {
      "cell_type": "code",
      "execution_count": null,
      "metadata": {
        "colab": {
          "base_uri": "https://localhost:8080/",
          "height": 1000,
          "referenced_widgets": [
            "fea6ec2e783f4613a261181feb22c9c4",
            "3a5023a32de944e3afc25e168d6b037d",
            "c0f1c5b82742413da4a7d281c359a519",
            "42c15919cec34cf9868108bccafe8388",
            "89cfd916b2ae4cbbbb27ca6862b4eefd",
            "9edaf03f693544b08fbe1f72c30cc2a8",
            "c65a1ba396fc4f3b90163e25ff036a98",
            "cd4e31186c314200b906f2abd2f67810",
            "28ac09995acf4a3eacf7daa8e4c272c5",
            "dc11a633abb74b75a7c22d5a38b69a02",
            "b9e72a265f3443ab849f5785823560dd",
            "7ca68a1ccdd74138a2629d15cb4a8d06",
            "49c069a74653489896b920956feec88a",
            "ae913402c69a4dceb8c563f4f836f90a",
            "0ad08d3367ad46f5a9af018e9c596c6c",
            "e3838be003534798bce3b8c2cc928175",
            "8159d161389f4e53ac736a1411645a8e",
            "4dc458bd796c4934b58c6c66b9ed700f",
            "012d5b03a666499a856a880cfe7e18d0",
            "c3d11f3653624923b4b124eb1716949f",
            "ccd44e680d654dfaadf7611f5a2d171c",
            "3f869e5011d94c29b71ea705a3b11853"
          ]
        },
        "id": "zrYdmzwOrGki",
        "outputId": "5b2f13f5-cdec-4a04-ba9d-6d31aafee3b0"
      },
      "outputs": [
        {
          "output_type": "stream",
          "name": "stdout",
          "text": [
            "Class-to-Label Mapping for Training Dataset (original):\n",
            "{'bcc': 0, 'mel': 1, 'scc': 2}\n",
            "Our desired mapping is mel=0, bcc=1, scc=2.\n"
          ]
        },
        {
          "output_type": "stream",
          "name": "stderr",
          "text": [
            "/usr/local/lib/python3.10/dist-packages/huggingface_hub/utils/_auth.py:94: UserWarning: \n",
            "The secret `HF_TOKEN` does not exist in your Colab secrets.\n",
            "To authenticate with the Hugging Face Hub, create a token in your settings tab (https://huggingface.co/settings/tokens), set it as secret in your Google Colab and restart your session.\n",
            "You will be able to reuse this secret in all of your notebooks.\n",
            "Please note that authentication is recommended but still optional to access public models or datasets.\n",
            "  warnings.warn(\n"
          ]
        },
        {
          "output_type": "display_data",
          "data": {
            "text/plain": [
              "model.safetensors:   0%|          | 0.00/353M [00:00<?, ?B/s]"
            ],
            "application/vnd.jupyter.widget-view+json": {
              "version_major": 2,
              "version_minor": 0,
              "model_id": "fea6ec2e783f4613a261181feb22c9c4"
            }
          },
          "metadata": {}
        },
        {
          "output_type": "display_data",
          "data": {
            "text/plain": [
              "model.safetensors:   0%|          | 0.00/78.1M [00:00<?, ?B/s]"
            ],
            "application/vnd.jupyter.widget-view+json": {
              "version_major": 2,
              "version_minor": 0,
              "model_id": "7ca68a1ccdd74138a2629d15cb4a8d06"
            }
          },
          "metadata": {}
        },
        {
          "output_type": "stream",
          "name": "stderr",
          "text": [
            "Epoch 1/100: 100%|██████████| 159/159 [00:56<00:00,  2.80it/s]"
          ]
        },
        {
          "output_type": "stream",
          "name": "stdout",
          "text": [
            "Epoch [1/100] Training Loss - Swin: 0.7073, RegNetY: 0.8471\n"
          ]
        },
        {
          "output_type": "stream",
          "name": "stderr",
          "text": [
            "\n"
          ]
        },
        {
          "output_type": "stream",
          "name": "stdout",
          "text": [
            "Validation Loss - Swin: 0.3999, RegNetY: 0.5178, Total: 0.9178\n",
            "Validation Accuracy - Swin: 85.98%, RegNetY: 79.13%, Ensemble: 85.28%, Kappa (Ensemble): 0.7393\n",
            "Best model saved at epoch 1 with ensemble validation accuracy 85.28%\n",
            "Model also copied to: /content/drive/MyDrive/Three_Class/trained_models/best_model.pth\n"
          ]
        },
        {
          "output_type": "stream",
          "name": "stderr",
          "text": [
            "Epoch 2/100: 100%|██████████| 159/159 [00:56<00:00,  2.82it/s]"
          ]
        },
        {
          "output_type": "stream",
          "name": "stdout",
          "text": [
            "Epoch [2/100] Training Loss - Swin: 0.4402, RegNetY: 0.5319\n"
          ]
        },
        {
          "output_type": "stream",
          "name": "stderr",
          "text": [
            "\n"
          ]
        },
        {
          "output_type": "stream",
          "name": "stdout",
          "text": [
            "Validation Loss - Swin: 0.4331, RegNetY: 0.4122, Total: 0.8453\n",
            "Validation Accuracy - Swin: 84.65%, RegNetY: 83.62%, Ensemble: 87.32%, Kappa (Ensemble): 0.7801\n",
            "Best model saved at epoch 2 with ensemble validation accuracy 87.32%\n",
            "Model also copied to: /content/drive/MyDrive/Three_Class/trained_models/best_model.pth\n"
          ]
        },
        {
          "output_type": "stream",
          "name": "stderr",
          "text": [
            "Epoch 3/100: 100%|██████████| 159/159 [00:55<00:00,  2.88it/s]"
          ]
        },
        {
          "output_type": "stream",
          "name": "stdout",
          "text": [
            "Epoch [3/100] Training Loss - Swin: 0.3261, RegNetY: 0.4137\n"
          ]
        },
        {
          "output_type": "stream",
          "name": "stderr",
          "text": [
            "\n"
          ]
        },
        {
          "output_type": "stream",
          "name": "stdout",
          "text": [
            "Validation Loss - Swin: 0.3815, RegNetY: 0.4428, Total: 0.8243\n",
            "Validation Accuracy - Swin: 85.83%, RegNetY: 82.91%, Ensemble: 88.03%, Kappa (Ensemble): 0.7903\n",
            "Best model saved at epoch 3 with ensemble validation accuracy 88.03%\n",
            "Model also copied to: /content/drive/MyDrive/Three_Class/trained_models/best_model.pth\n"
          ]
        },
        {
          "output_type": "stream",
          "name": "stderr",
          "text": [
            "Epoch 4/100: 100%|██████████| 159/159 [00:55<00:00,  2.85it/s]"
          ]
        },
        {
          "output_type": "stream",
          "name": "stdout",
          "text": [
            "Epoch [4/100] Training Loss - Swin: 0.2663, RegNetY: 0.3163\n"
          ]
        },
        {
          "output_type": "stream",
          "name": "stderr",
          "text": [
            "\n"
          ]
        },
        {
          "output_type": "stream",
          "name": "stdout",
          "text": [
            "Validation Loss - Swin: 0.3262, RegNetY: 0.3015, Total: 0.6277\n",
            "Validation Accuracy - Swin: 88.43%, RegNetY: 88.35%, Ensemble: 91.26%, Kappa (Ensemble): 0.8447\n",
            "Best model saved at epoch 4 with ensemble validation accuracy 91.26%\n",
            "Model also copied to: /content/drive/MyDrive/Three_Class/trained_models/best_model.pth\n"
          ]
        },
        {
          "output_type": "stream",
          "name": "stderr",
          "text": [
            "Epoch 5/100: 100%|██████████| 159/159 [00:55<00:00,  2.87it/s]"
          ]
        },
        {
          "output_type": "stream",
          "name": "stdout",
          "text": [
            "Epoch [5/100] Training Loss - Swin: 0.2107, RegNetY: 0.2919\n"
          ]
        },
        {
          "output_type": "stream",
          "name": "stderr",
          "text": [
            "\n"
          ]
        },
        {
          "output_type": "stream",
          "name": "stdout",
          "text": [
            "Validation Loss - Swin: 0.2362, RegNetY: 0.3512, Total: 0.5874\n",
            "Validation Accuracy - Swin: 91.65%, RegNetY: 86.85%, Ensemble: 92.91%, Kappa (Ensemble): 0.8751\n",
            "Best model saved at epoch 5 with ensemble validation accuracy 92.91%\n",
            "Model also copied to: /content/drive/MyDrive/Three_Class/trained_models/best_model.pth\n"
          ]
        },
        {
          "output_type": "stream",
          "name": "stderr",
          "text": [
            "Epoch 6/100: 100%|██████████| 159/159 [00:55<00:00,  2.88it/s]"
          ]
        },
        {
          "output_type": "stream",
          "name": "stdout",
          "text": [
            "Epoch [6/100] Training Loss - Swin: 0.1736, RegNetY: 0.2270\n"
          ]
        },
        {
          "output_type": "stream",
          "name": "stderr",
          "text": [
            "\n"
          ]
        },
        {
          "output_type": "stream",
          "name": "stdout",
          "text": [
            "Validation Loss - Swin: 0.2448, RegNetY: 0.2983, Total: 0.5431\n",
            "Validation Accuracy - Swin: 91.97%, RegNetY: 88.90%, Ensemble: 92.91%, Kappa (Ensemble): 0.8723\n",
            "No improvement in ensemble validation accuracy.\n"
          ]
        },
        {
          "output_type": "stream",
          "name": "stderr",
          "text": [
            "Epoch 7/100: 100%|██████████| 159/159 [00:52<00:00,  3.01it/s]"
          ]
        },
        {
          "output_type": "stream",
          "name": "stdout",
          "text": [
            "Epoch [7/100] Training Loss - Swin: 0.1378, RegNetY: 0.1994\n"
          ]
        },
        {
          "output_type": "stream",
          "name": "stderr",
          "text": [
            "\n"
          ]
        },
        {
          "output_type": "stream",
          "name": "stdout",
          "text": [
            "Validation Loss - Swin: 0.2453, RegNetY: 0.2672, Total: 0.5125\n",
            "Validation Accuracy - Swin: 92.13%, RegNetY: 90.39%, Ensemble: 93.39%, Kappa (Ensemble): 0.8825\n",
            "Best model saved at epoch 7 with ensemble validation accuracy 93.39%\n",
            "Model also copied to: /content/drive/MyDrive/Three_Class/trained_models/best_model.pth\n"
          ]
        },
        {
          "output_type": "stream",
          "name": "stderr",
          "text": [
            "Epoch 8/100: 100%|██████████| 159/159 [00:55<00:00,  2.86it/s]"
          ]
        },
        {
          "output_type": "stream",
          "name": "stdout",
          "text": [
            "Epoch [8/100] Training Loss - Swin: 0.1343, RegNetY: 0.1778\n"
          ]
        },
        {
          "output_type": "stream",
          "name": "stderr",
          "text": [
            "\n"
          ]
        },
        {
          "output_type": "stream",
          "name": "stdout",
          "text": [
            "Validation Loss - Swin: 0.2009, RegNetY: 0.2307, Total: 0.4316\n",
            "Validation Accuracy - Swin: 93.31%, RegNetY: 91.50%, Ensemble: 94.09%, Kappa (Ensemble): 0.8941\n",
            "Best model saved at epoch 8 with ensemble validation accuracy 94.09%\n",
            "Model also copied to: /content/drive/MyDrive/Three_Class/trained_models/best_model.pth\n"
          ]
        },
        {
          "output_type": "stream",
          "name": "stderr",
          "text": [
            "Epoch 9/100: 100%|██████████| 159/159 [00:55<00:00,  2.87it/s]"
          ]
        },
        {
          "output_type": "stream",
          "name": "stdout",
          "text": [
            "Epoch [9/100] Training Loss - Swin: 0.1372, RegNetY: 0.1737\n"
          ]
        },
        {
          "output_type": "stream",
          "name": "stderr",
          "text": [
            "\n"
          ]
        },
        {
          "output_type": "stream",
          "name": "stdout",
          "text": [
            "Validation Loss - Swin: 0.1935, RegNetY: 0.2149, Total: 0.4085\n",
            "Validation Accuracy - Swin: 93.07%, RegNetY: 92.60%, Ensemble: 95.35%, Kappa (Ensemble): 0.9168\n",
            "Best model saved at epoch 9 with ensemble validation accuracy 95.35%\n",
            "Model also copied to: /content/drive/MyDrive/Three_Class/trained_models/best_model.pth\n"
          ]
        },
        {
          "output_type": "stream",
          "name": "stderr",
          "text": [
            "Epoch 10/100: 100%|██████████| 159/159 [00:55<00:00,  2.85it/s]"
          ]
        },
        {
          "output_type": "stream",
          "name": "stdout",
          "text": [
            "Epoch [10/100] Training Loss - Swin: 0.0990, RegNetY: 0.1377\n"
          ]
        },
        {
          "output_type": "stream",
          "name": "stderr",
          "text": [
            "\n"
          ]
        },
        {
          "output_type": "stream",
          "name": "stdout",
          "text": [
            "Validation Loss - Swin: 0.2238, RegNetY: 0.2240, Total: 0.4477\n",
            "Validation Accuracy - Swin: 92.76%, RegNetY: 92.60%, Ensemble: 94.02%, Kappa (Ensemble): 0.8919\n",
            "No improvement in ensemble validation accuracy.\n"
          ]
        },
        {
          "output_type": "stream",
          "name": "stderr",
          "text": [
            "Epoch 11/100: 100%|██████████| 159/159 [00:52<00:00,  3.00it/s]"
          ]
        },
        {
          "output_type": "stream",
          "name": "stdout",
          "text": [
            "Epoch [11/100] Training Loss - Swin: 0.0940, RegNetY: 0.1336\n"
          ]
        },
        {
          "output_type": "stream",
          "name": "stderr",
          "text": [
            "\n"
          ]
        },
        {
          "output_type": "stream",
          "name": "stdout",
          "text": [
            "Validation Loss - Swin: 0.2309, RegNetY: 0.1972, Total: 0.4281\n",
            "Validation Accuracy - Swin: 93.62%, RegNetY: 93.78%, Ensemble: 95.35%, Kappa (Ensemble): 0.9166\n",
            "No improvement in ensemble validation accuracy.\n"
          ]
        },
        {
          "output_type": "stream",
          "name": "stderr",
          "text": [
            "Epoch 12/100: 100%|██████████| 159/159 [00:53<00:00,  3.00it/s]"
          ]
        },
        {
          "output_type": "stream",
          "name": "stdout",
          "text": [
            "Epoch [12/100] Training Loss - Swin: 0.0962, RegNetY: 0.1248\n"
          ]
        },
        {
          "output_type": "stream",
          "name": "stderr",
          "text": [
            "\n"
          ]
        },
        {
          "output_type": "stream",
          "name": "stdout",
          "text": [
            "Validation Loss - Swin: 0.2144, RegNetY: 0.2195, Total: 0.4339\n",
            "Validation Accuracy - Swin: 93.15%, RegNetY: 93.23%, Ensemble: 94.80%, Kappa (Ensemble): 0.9063\n",
            "No improvement in ensemble validation accuracy.\n"
          ]
        },
        {
          "output_type": "stream",
          "name": "stderr",
          "text": [
            "Epoch 13/100: 100%|██████████| 159/159 [00:52<00:00,  3.01it/s]"
          ]
        },
        {
          "output_type": "stream",
          "name": "stdout",
          "text": [
            "Epoch [13/100] Training Loss - Swin: 0.0710, RegNetY: 0.1107\n"
          ]
        },
        {
          "output_type": "stream",
          "name": "stderr",
          "text": [
            "\n"
          ]
        },
        {
          "output_type": "stream",
          "name": "stdout",
          "text": [
            "Validation Loss - Swin: 0.2165, RegNetY: 0.2395, Total: 0.4559\n",
            "Validation Accuracy - Swin: 93.70%, RegNetY: 92.68%, Ensemble: 95.12%, Kappa (Ensemble): 0.9120\n",
            "No improvement in ensemble validation accuracy.\n"
          ]
        },
        {
          "output_type": "stream",
          "name": "stderr",
          "text": [
            "Epoch 14/100: 100%|██████████| 159/159 [00:52<00:00,  3.00it/s]"
          ]
        },
        {
          "output_type": "stream",
          "name": "stdout",
          "text": [
            "Epoch [14/100] Training Loss - Swin: 0.0609, RegNetY: 0.0946\n"
          ]
        },
        {
          "output_type": "stream",
          "name": "stderr",
          "text": [
            "\n"
          ]
        },
        {
          "output_type": "stream",
          "name": "stdout",
          "text": [
            "Validation Loss - Swin: 0.1804, RegNetY: 0.2028, Total: 0.3832\n",
            "Validation Accuracy - Swin: 94.41%, RegNetY: 94.25%, Ensemble: 96.14%, Kappa (Ensemble): 0.9309\n",
            "Best model saved at epoch 14 with ensemble validation accuracy 96.14%\n",
            "Model also copied to: /content/drive/MyDrive/Three_Class/trained_models/best_model.pth\n"
          ]
        },
        {
          "output_type": "stream",
          "name": "stderr",
          "text": [
            "Epoch 15/100: 100%|██████████| 159/159 [00:55<00:00,  2.89it/s]"
          ]
        },
        {
          "output_type": "stream",
          "name": "stdout",
          "text": [
            "Epoch [15/100] Training Loss - Swin: 0.0612, RegNetY: 0.0880\n"
          ]
        },
        {
          "output_type": "stream",
          "name": "stderr",
          "text": [
            "\n"
          ]
        },
        {
          "output_type": "stream",
          "name": "stdout",
          "text": [
            "Validation Loss - Swin: 0.2029, RegNetY: 0.2121, Total: 0.4150\n",
            "Validation Accuracy - Swin: 94.57%, RegNetY: 93.62%, Ensemble: 95.43%, Kappa (Ensemble): 0.9177\n",
            "No improvement in ensemble validation accuracy.\n"
          ]
        },
        {
          "output_type": "stream",
          "name": "stderr",
          "text": [
            "Epoch 16/100: 100%|██████████| 159/159 [00:52<00:00,  3.00it/s]"
          ]
        },
        {
          "output_type": "stream",
          "name": "stdout",
          "text": [
            "Epoch [16/100] Training Loss - Swin: 0.0694, RegNetY: 0.0862\n"
          ]
        },
        {
          "output_type": "stream",
          "name": "stderr",
          "text": [
            "\n"
          ]
        },
        {
          "output_type": "stream",
          "name": "stdout",
          "text": [
            "Validation Loss - Swin: 0.2167, RegNetY: 0.2257, Total: 0.4424\n",
            "Validation Accuracy - Swin: 94.96%, RegNetY: 93.78%, Ensemble: 95.43%, Kappa (Ensemble): 0.9180\n",
            "No improvement in ensemble validation accuracy.\n"
          ]
        },
        {
          "output_type": "stream",
          "name": "stderr",
          "text": [
            "Epoch 17/100: 100%|██████████| 159/159 [00:52<00:00,  3.00it/s]"
          ]
        },
        {
          "output_type": "stream",
          "name": "stdout",
          "text": [
            "Epoch [17/100] Training Loss - Swin: 0.0592, RegNetY: 0.0744\n"
          ]
        },
        {
          "output_type": "stream",
          "name": "stderr",
          "text": [
            "\n"
          ]
        },
        {
          "output_type": "stream",
          "name": "stdout",
          "text": [
            "Validation Loss - Swin: 0.1860, RegNetY: 0.2396, Total: 0.4255\n",
            "Validation Accuracy - Swin: 94.49%, RegNetY: 93.78%, Ensemble: 95.12%, Kappa (Ensemble): 0.9123\n",
            "No improvement in ensemble validation accuracy.\n"
          ]
        },
        {
          "output_type": "stream",
          "name": "stderr",
          "text": [
            "Epoch 18/100: 100%|██████████| 159/159 [00:52<00:00,  3.00it/s]"
          ]
        },
        {
          "output_type": "stream",
          "name": "stdout",
          "text": [
            "Epoch [18/100] Training Loss - Swin: 0.0450, RegNetY: 0.0755\n"
          ]
        },
        {
          "output_type": "stream",
          "name": "stderr",
          "text": [
            "\n"
          ]
        },
        {
          "output_type": "stream",
          "name": "stdout",
          "text": [
            "Validation Loss - Swin: 0.2532, RegNetY: 0.2124, Total: 0.4656\n",
            "Validation Accuracy - Swin: 94.57%, RegNetY: 94.33%, Ensemble: 95.83%, Kappa (Ensemble): 0.9244\n",
            "No improvement in ensemble validation accuracy.\n"
          ]
        },
        {
          "output_type": "stream",
          "name": "stderr",
          "text": [
            "Epoch 19/100: 100%|██████████| 159/159 [00:52<00:00,  3.00it/s]"
          ]
        },
        {
          "output_type": "stream",
          "name": "stdout",
          "text": [
            "Epoch [19/100] Training Loss - Swin: 0.0606, RegNetY: 0.0724\n"
          ]
        },
        {
          "output_type": "stream",
          "name": "stderr",
          "text": [
            "\n"
          ]
        },
        {
          "output_type": "stream",
          "name": "stdout",
          "text": [
            "Validation Loss - Swin: 0.1679, RegNetY: 0.2039, Total: 0.3718\n",
            "Validation Accuracy - Swin: 95.59%, RegNetY: 93.62%, Ensemble: 95.98%, Kappa (Ensemble): 0.9277\n",
            "No improvement in ensemble validation accuracy.\n"
          ]
        },
        {
          "output_type": "stream",
          "name": "stderr",
          "text": [
            "Epoch 20/100: 100%|██████████| 159/159 [00:52<00:00,  3.00it/s]"
          ]
        },
        {
          "output_type": "stream",
          "name": "stdout",
          "text": [
            "Epoch [20/100] Training Loss - Swin: 0.0447, RegNetY: 0.0738\n"
          ]
        },
        {
          "output_type": "stream",
          "name": "stderr",
          "text": [
            "\n"
          ]
        },
        {
          "output_type": "stream",
          "name": "stdout",
          "text": [
            "Validation Loss - Swin: 0.2218, RegNetY: 0.1980, Total: 0.4199\n",
            "Validation Accuracy - Swin: 93.70%, RegNetY: 93.94%, Ensemble: 96.14%, Kappa (Ensemble): 0.9305\n",
            "No improvement in ensemble validation accuracy.\n"
          ]
        },
        {
          "output_type": "stream",
          "name": "stderr",
          "text": [
            "Epoch 21/100: 100%|██████████| 159/159 [00:53<00:00,  3.00it/s]"
          ]
        },
        {
          "output_type": "stream",
          "name": "stdout",
          "text": [
            "Epoch [21/100] Training Loss - Swin: 0.0431, RegNetY: 0.0516\n"
          ]
        },
        {
          "output_type": "stream",
          "name": "stderr",
          "text": [
            "\n"
          ]
        },
        {
          "output_type": "stream",
          "name": "stdout",
          "text": [
            "Validation Loss - Swin: 0.1790, RegNetY: 0.2141, Total: 0.3931\n",
            "Validation Accuracy - Swin: 95.51%, RegNetY: 94.25%, Ensemble: 95.43%, Kappa (Ensemble): 0.9175\n",
            "No improvement in ensemble validation accuracy.\n"
          ]
        },
        {
          "output_type": "stream",
          "name": "stderr",
          "text": [
            "Epoch 22/100: 100%|██████████| 159/159 [00:52<00:00,  3.00it/s]"
          ]
        },
        {
          "output_type": "stream",
          "name": "stdout",
          "text": [
            "Epoch [22/100] Training Loss - Swin: 0.0304, RegNetY: 0.0585\n"
          ]
        },
        {
          "output_type": "stream",
          "name": "stderr",
          "text": [
            "\n"
          ]
        },
        {
          "output_type": "stream",
          "name": "stdout",
          "text": [
            "Validation Loss - Swin: 0.2278, RegNetY: 0.2158, Total: 0.4436\n",
            "Validation Accuracy - Swin: 94.72%, RegNetY: 94.25%, Ensemble: 96.06%, Kappa (Ensemble): 0.9290\n",
            "No improvement in ensemble validation accuracy.\n"
          ]
        },
        {
          "output_type": "stream",
          "name": "stderr",
          "text": [
            "Epoch 23/100: 100%|██████████| 159/159 [00:52<00:00,  3.01it/s]"
          ]
        },
        {
          "output_type": "stream",
          "name": "stdout",
          "text": [
            "Epoch [23/100] Training Loss - Swin: 0.0248, RegNetY: 0.0499\n"
          ]
        },
        {
          "output_type": "stream",
          "name": "stderr",
          "text": [
            "\n"
          ]
        },
        {
          "output_type": "stream",
          "name": "stdout",
          "text": [
            "Validation Loss - Swin: 0.2481, RegNetY: 0.2242, Total: 0.4723\n",
            "Validation Accuracy - Swin: 94.49%, RegNetY: 94.09%, Ensemble: 95.83%, Kappa (Ensemble): 0.9248\n",
            "No improvement in ensemble validation accuracy.\n"
          ]
        },
        {
          "output_type": "stream",
          "name": "stderr",
          "text": [
            "Epoch 24/100: 100%|██████████| 159/159 [00:53<00:00,  3.00it/s]"
          ]
        },
        {
          "output_type": "stream",
          "name": "stdout",
          "text": [
            "Epoch [24/100] Training Loss - Swin: 0.0412, RegNetY: 0.0544\n"
          ]
        },
        {
          "output_type": "stream",
          "name": "stderr",
          "text": [
            "\n"
          ]
        },
        {
          "output_type": "stream",
          "name": "stdout",
          "text": [
            "Validation Loss - Swin: 0.1974, RegNetY: 0.2104, Total: 0.4078\n",
            "Validation Accuracy - Swin: 94.80%, RegNetY: 94.72%, Ensemble: 96.14%, Kappa (Ensemble): 0.9303\n",
            "No improvement in ensemble validation accuracy.\n"
          ]
        },
        {
          "output_type": "stream",
          "name": "stderr",
          "text": [
            "Epoch 25/100: 100%|██████████| 159/159 [00:53<00:00,  2.99it/s]"
          ]
        },
        {
          "output_type": "stream",
          "name": "stdout",
          "text": [
            "Epoch [25/100] Training Loss - Swin: 0.0322, RegNetY: 0.0456\n"
          ]
        },
        {
          "output_type": "stream",
          "name": "stderr",
          "text": [
            "\n"
          ]
        },
        {
          "output_type": "stream",
          "name": "stdout",
          "text": [
            "Validation Loss - Swin: 0.1812, RegNetY: 0.1945, Total: 0.3758\n",
            "Validation Accuracy - Swin: 94.88%, RegNetY: 94.41%, Ensemble: 96.85%, Kappa (Ensemble): 0.9433\n",
            "Best model saved at epoch 25 with ensemble validation accuracy 96.85%\n",
            "Model also copied to: /content/drive/MyDrive/Three_Class/trained_models/best_model.pth\n"
          ]
        },
        {
          "output_type": "stream",
          "name": "stderr",
          "text": [
            "Epoch 26/100: 100%|██████████| 159/159 [00:55<00:00,  2.86it/s]"
          ]
        },
        {
          "output_type": "stream",
          "name": "stdout",
          "text": [
            "Epoch [26/100] Training Loss - Swin: 0.0204, RegNetY: 0.0391\n"
          ]
        },
        {
          "output_type": "stream",
          "name": "stderr",
          "text": [
            "\n"
          ]
        },
        {
          "output_type": "stream",
          "name": "stdout",
          "text": [
            "Validation Loss - Swin: 0.1725, RegNetY: 0.2133, Total: 0.3858\n",
            "Validation Accuracy - Swin: 96.06%, RegNetY: 94.41%, Ensemble: 96.69%, Kappa (Ensemble): 0.9405\n",
            "No improvement in ensemble validation accuracy.\n"
          ]
        },
        {
          "output_type": "stream",
          "name": "stderr",
          "text": [
            "Epoch 27/100: 100%|██████████| 159/159 [00:52<00:00,  3.00it/s]"
          ]
        },
        {
          "output_type": "stream",
          "name": "stdout",
          "text": [
            "Epoch [27/100] Training Loss - Swin: 0.0155, RegNetY: 0.0359\n"
          ]
        },
        {
          "output_type": "stream",
          "name": "stderr",
          "text": [
            "\n"
          ]
        },
        {
          "output_type": "stream",
          "name": "stdout",
          "text": [
            "Validation Loss - Swin: 0.1846, RegNetY: 0.2169, Total: 0.4015\n",
            "Validation Accuracy - Swin: 96.06%, RegNetY: 94.72%, Ensemble: 96.69%, Kappa (Ensemble): 0.9402\n",
            "No improvement in ensemble validation accuracy.\n"
          ]
        },
        {
          "output_type": "stream",
          "name": "stderr",
          "text": [
            "Epoch 28/100: 100%|██████████| 159/159 [00:52<00:00,  3.00it/s]"
          ]
        },
        {
          "output_type": "stream",
          "name": "stdout",
          "text": [
            "Epoch [28/100] Training Loss - Swin: 0.0262, RegNetY: 0.0379\n"
          ]
        },
        {
          "output_type": "stream",
          "name": "stderr",
          "text": [
            "\n"
          ]
        },
        {
          "output_type": "stream",
          "name": "stdout",
          "text": [
            "Validation Loss - Swin: 0.1725, RegNetY: 0.2025, Total: 0.3750\n",
            "Validation Accuracy - Swin: 96.22%, RegNetY: 94.57%, Ensemble: 96.69%, Kappa (Ensemble): 0.9406\n",
            "No improvement in ensemble validation accuracy.\n"
          ]
        },
        {
          "output_type": "stream",
          "name": "stderr",
          "text": [
            "Epoch 29/100: 100%|██████████| 159/159 [00:53<00:00,  3.00it/s]"
          ]
        },
        {
          "output_type": "stream",
          "name": "stdout",
          "text": [
            "Epoch [29/100] Training Loss - Swin: 0.0135, RegNetY: 0.0361\n"
          ]
        },
        {
          "output_type": "stream",
          "name": "stderr",
          "text": [
            "\n"
          ]
        },
        {
          "output_type": "stream",
          "name": "stdout",
          "text": [
            "Validation Loss - Swin: 0.2000, RegNetY: 0.2060, Total: 0.4060\n",
            "Validation Accuracy - Swin: 95.12%, RegNetY: 94.65%, Ensemble: 96.22%, Kappa (Ensemble): 0.9318\n",
            "No improvement in ensemble validation accuracy.\n"
          ]
        },
        {
          "output_type": "stream",
          "name": "stderr",
          "text": [
            "Epoch 30/100: 100%|██████████| 159/159 [00:52<00:00,  3.00it/s]"
          ]
        },
        {
          "output_type": "stream",
          "name": "stdout",
          "text": [
            "Epoch [30/100] Training Loss - Swin: 0.0182, RegNetY: 0.0428\n"
          ]
        },
        {
          "output_type": "stream",
          "name": "stderr",
          "text": [
            "\n"
          ]
        },
        {
          "output_type": "stream",
          "name": "stdout",
          "text": [
            "Validation Loss - Swin: 0.1807, RegNetY: 0.1985, Total: 0.3792\n",
            "Validation Accuracy - Swin: 96.14%, RegNetY: 95.59%, Ensemble: 96.61%, Kappa (Ensemble): 0.9390\n",
            "No improvement in ensemble validation accuracy.\n"
          ]
        },
        {
          "output_type": "stream",
          "name": "stderr",
          "text": [
            "Epoch 31/100: 100%|██████████| 159/159 [00:52<00:00,  3.00it/s]"
          ]
        },
        {
          "output_type": "stream",
          "name": "stdout",
          "text": [
            "Epoch [31/100] Training Loss - Swin: 0.0134, RegNetY: 0.0325\n"
          ]
        },
        {
          "output_type": "stream",
          "name": "stderr",
          "text": [
            "\n"
          ]
        },
        {
          "output_type": "stream",
          "name": "stdout",
          "text": [
            "Validation Loss - Swin: 0.1613, RegNetY: 0.1936, Total: 0.3550\n",
            "Validation Accuracy - Swin: 95.91%, RegNetY: 95.12%, Ensemble: 96.77%, Kappa (Ensemble): 0.9420\n",
            "No improvement in ensemble validation accuracy.\n"
          ]
        },
        {
          "output_type": "stream",
          "name": "stderr",
          "text": [
            "Epoch 32/100: 100%|██████████| 159/159 [00:52<00:00,  3.00it/s]"
          ]
        },
        {
          "output_type": "stream",
          "name": "stdout",
          "text": [
            "Epoch [32/100] Training Loss - Swin: 0.0136, RegNetY: 0.0264\n"
          ]
        },
        {
          "output_type": "stream",
          "name": "stderr",
          "text": [
            "\n"
          ]
        },
        {
          "output_type": "stream",
          "name": "stdout",
          "text": [
            "Validation Loss - Swin: 0.1840, RegNetY: 0.2003, Total: 0.3843\n",
            "Validation Accuracy - Swin: 95.59%, RegNetY: 95.20%, Ensemble: 96.38%, Kappa (Ensemble): 0.9346\n",
            "No improvement in ensemble validation accuracy.\n"
          ]
        },
        {
          "output_type": "stream",
          "name": "stderr",
          "text": [
            "Epoch 33/100: 100%|██████████| 159/159 [00:53<00:00,  2.99it/s]"
          ]
        },
        {
          "output_type": "stream",
          "name": "stdout",
          "text": [
            "Epoch [33/100] Training Loss - Swin: 0.0130, RegNetY: 0.0274\n"
          ]
        },
        {
          "output_type": "stream",
          "name": "stderr",
          "text": [
            "\n"
          ]
        },
        {
          "output_type": "stream",
          "name": "stdout",
          "text": [
            "Validation Loss - Swin: 0.2103, RegNetY: 0.1942, Total: 0.4045\n",
            "Validation Accuracy - Swin: 95.59%, RegNetY: 94.72%, Ensemble: 96.30%, Kappa (Ensemble): 0.9331\n",
            "No improvement in ensemble validation accuracy.\n"
          ]
        },
        {
          "output_type": "stream",
          "name": "stderr",
          "text": [
            "Epoch 34/100: 100%|██████████| 159/159 [00:53<00:00,  3.00it/s]"
          ]
        },
        {
          "output_type": "stream",
          "name": "stdout",
          "text": [
            "Epoch [34/100] Training Loss - Swin: 0.0073, RegNetY: 0.0225\n"
          ]
        },
        {
          "output_type": "stream",
          "name": "stderr",
          "text": [
            "\n"
          ]
        },
        {
          "output_type": "stream",
          "name": "stdout",
          "text": [
            "Validation Loss - Swin: 0.1883, RegNetY: 0.1891, Total: 0.3774\n",
            "Validation Accuracy - Swin: 95.83%, RegNetY: 95.35%, Ensemble: 96.54%, Kappa (Ensemble): 0.9375\n",
            "No improvement in ensemble validation accuracy.\n"
          ]
        },
        {
          "output_type": "stream",
          "name": "stderr",
          "text": [
            "Epoch 35/100: 100%|██████████| 159/159 [00:53<00:00,  2.99it/s]"
          ]
        },
        {
          "output_type": "stream",
          "name": "stdout",
          "text": [
            "Epoch [35/100] Training Loss - Swin: 0.0094, RegNetY: 0.0306\n"
          ]
        },
        {
          "output_type": "stream",
          "name": "stderr",
          "text": [
            "\n"
          ]
        },
        {
          "output_type": "stream",
          "name": "stdout",
          "text": [
            "Validation Loss - Swin: 0.1676, RegNetY: 0.1978, Total: 0.3655\n",
            "Validation Accuracy - Swin: 95.67%, RegNetY: 95.35%, Ensemble: 96.61%, Kappa (Ensemble): 0.9391\n",
            "No improvement in ensemble validation accuracy.\n"
          ]
        },
        {
          "output_type": "stream",
          "name": "stderr",
          "text": [
            "Epoch 36/100: 100%|██████████| 159/159 [00:52<00:00,  3.00it/s]"
          ]
        },
        {
          "output_type": "stream",
          "name": "stdout",
          "text": [
            "Epoch [36/100] Training Loss - Swin: 0.0129, RegNetY: 0.0199\n"
          ]
        },
        {
          "output_type": "stream",
          "name": "stderr",
          "text": [
            "\n"
          ]
        },
        {
          "output_type": "stream",
          "name": "stdout",
          "text": [
            "Validation Loss - Swin: 0.1568, RegNetY: 0.2025, Total: 0.3593\n",
            "Validation Accuracy - Swin: 95.83%, RegNetY: 94.96%, Ensemble: 96.61%, Kappa (Ensemble): 0.9391\n",
            "No improvement in ensemble validation accuracy.\n"
          ]
        },
        {
          "output_type": "stream",
          "name": "stderr",
          "text": [
            "Epoch 37/100: 100%|██████████| 159/159 [00:52<00:00,  3.00it/s]"
          ]
        },
        {
          "output_type": "stream",
          "name": "stdout",
          "text": [
            "Epoch [37/100] Training Loss - Swin: 0.0102, RegNetY: 0.0318\n"
          ]
        },
        {
          "output_type": "stream",
          "name": "stderr",
          "text": [
            "\n"
          ]
        },
        {
          "output_type": "stream",
          "name": "stdout",
          "text": [
            "Validation Loss - Swin: 0.1812, RegNetY: 0.2014, Total: 0.3826\n",
            "Validation Accuracy - Swin: 95.83%, RegNetY: 95.04%, Ensemble: 96.77%, Kappa (Ensemble): 0.9417\n",
            "No improvement in ensemble validation accuracy.\n"
          ]
        },
        {
          "output_type": "stream",
          "name": "stderr",
          "text": [
            "Epoch 38/100: 100%|██████████| 159/159 [00:52<00:00,  3.00it/s]"
          ]
        },
        {
          "output_type": "stream",
          "name": "stdout",
          "text": [
            "Epoch [38/100] Training Loss - Swin: 0.0069, RegNetY: 0.0239\n"
          ]
        },
        {
          "output_type": "stream",
          "name": "stderr",
          "text": [
            "\n"
          ]
        },
        {
          "output_type": "stream",
          "name": "stdout",
          "text": [
            "Validation Loss - Swin: 0.1629, RegNetY: 0.1964, Total: 0.3593\n",
            "Validation Accuracy - Swin: 96.14%, RegNetY: 95.04%, Ensemble: 96.69%, Kappa (Ensemble): 0.9405\n",
            "No improvement in ensemble validation accuracy.\n"
          ]
        },
        {
          "output_type": "stream",
          "name": "stderr",
          "text": [
            "Epoch 39/100: 100%|██████████| 159/159 [00:52<00:00,  3.00it/s]"
          ]
        },
        {
          "output_type": "stream",
          "name": "stdout",
          "text": [
            "Epoch [39/100] Training Loss - Swin: 0.0055, RegNetY: 0.0229\n"
          ]
        },
        {
          "output_type": "stream",
          "name": "stderr",
          "text": [
            "\n"
          ]
        },
        {
          "output_type": "stream",
          "name": "stdout",
          "text": [
            "Validation Loss - Swin: 0.1805, RegNetY: 0.2085, Total: 0.3890\n",
            "Validation Accuracy - Swin: 95.91%, RegNetY: 94.72%, Ensemble: 96.46%, Kappa (Ensemble): 0.9360\n",
            "No improvement in ensemble validation accuracy.\n"
          ]
        },
        {
          "output_type": "stream",
          "name": "stderr",
          "text": [
            "Epoch 40/100: 100%|██████████| 159/159 [00:52<00:00,  3.01it/s]"
          ]
        },
        {
          "output_type": "stream",
          "name": "stdout",
          "text": [
            "Epoch [40/100] Training Loss - Swin: 0.0042, RegNetY: 0.0199\n"
          ]
        },
        {
          "output_type": "stream",
          "name": "stderr",
          "text": [
            "\n"
          ]
        },
        {
          "output_type": "stream",
          "name": "stdout",
          "text": [
            "Validation Loss - Swin: 0.1828, RegNetY: 0.2130, Total: 0.3958\n",
            "Validation Accuracy - Swin: 95.83%, RegNetY: 95.20%, Ensemble: 96.54%, Kappa (Ensemble): 0.9374\n",
            "No improvement in ensemble validation accuracy.\n"
          ]
        },
        {
          "output_type": "stream",
          "name": "stderr",
          "text": [
            "Epoch 41/100: 100%|██████████| 159/159 [00:52<00:00,  3.00it/s]"
          ]
        },
        {
          "output_type": "stream",
          "name": "stdout",
          "text": [
            "Epoch [41/100] Training Loss - Swin: 0.0041, RegNetY: 0.0264\n"
          ]
        },
        {
          "output_type": "stream",
          "name": "stderr",
          "text": [
            "\n"
          ]
        },
        {
          "output_type": "stream",
          "name": "stdout",
          "text": [
            "Validation Loss - Swin: 0.2203, RegNetY: 0.2041, Total: 0.4244\n",
            "Validation Accuracy - Swin: 95.51%, RegNetY: 95.28%, Ensemble: 96.30%, Kappa (Ensemble): 0.9330\n",
            "No improvement in ensemble validation accuracy.\n"
          ]
        },
        {
          "output_type": "stream",
          "name": "stderr",
          "text": [
            "Epoch 42/100: 100%|██████████| 159/159 [00:53<00:00,  3.00it/s]"
          ]
        },
        {
          "output_type": "stream",
          "name": "stdout",
          "text": [
            "Epoch [42/100] Training Loss - Swin: 0.0018, RegNetY: 0.0186\n"
          ]
        },
        {
          "output_type": "stream",
          "name": "stderr",
          "text": [
            "\n"
          ]
        },
        {
          "output_type": "stream",
          "name": "stdout",
          "text": [
            "Validation Loss - Swin: 0.1869, RegNetY: 0.2080, Total: 0.3949\n",
            "Validation Accuracy - Swin: 96.22%, RegNetY: 94.96%, Ensemble: 96.54%, Kappa (Ensemble): 0.9374\n",
            "No improvement in ensemble validation accuracy.\n"
          ]
        },
        {
          "output_type": "stream",
          "name": "stderr",
          "text": [
            "Epoch 43/100: 100%|██████████| 159/159 [00:53<00:00,  3.00it/s]"
          ]
        },
        {
          "output_type": "stream",
          "name": "stdout",
          "text": [
            "Epoch [43/100] Training Loss - Swin: 0.0050, RegNetY: 0.0188\n"
          ]
        },
        {
          "output_type": "stream",
          "name": "stderr",
          "text": [
            "\n"
          ]
        },
        {
          "output_type": "stream",
          "name": "stdout",
          "text": [
            "Validation Loss - Swin: 0.1957, RegNetY: 0.2086, Total: 0.4043\n",
            "Validation Accuracy - Swin: 96.14%, RegNetY: 95.20%, Ensemble: 96.38%, Kappa (Ensemble): 0.9342\n",
            "No improvement in ensemble validation accuracy.\n"
          ]
        },
        {
          "output_type": "stream",
          "name": "stderr",
          "text": [
            "Epoch 44/100: 100%|██████████| 159/159 [00:52<00:00,  3.01it/s]"
          ]
        },
        {
          "output_type": "stream",
          "name": "stdout",
          "text": [
            "Epoch [44/100] Training Loss - Swin: 0.0067, RegNetY: 0.0283\n"
          ]
        },
        {
          "output_type": "stream",
          "name": "stderr",
          "text": [
            "\n"
          ]
        },
        {
          "output_type": "stream",
          "name": "stdout",
          "text": [
            "Validation Loss - Swin: 0.1923, RegNetY: 0.2079, Total: 0.4002\n",
            "Validation Accuracy - Swin: 95.91%, RegNetY: 95.12%, Ensemble: 96.38%, Kappa (Ensemble): 0.9343\n",
            "No improvement in ensemble validation accuracy.\n"
          ]
        },
        {
          "output_type": "stream",
          "name": "stderr",
          "text": [
            "Epoch 45/100: 100%|██████████| 159/159 [00:53<00:00,  2.98it/s]"
          ]
        },
        {
          "output_type": "stream",
          "name": "stdout",
          "text": [
            "Epoch [45/100] Training Loss - Swin: 0.0060, RegNetY: 0.0207\n"
          ]
        },
        {
          "output_type": "stream",
          "name": "stderr",
          "text": [
            "\n"
          ]
        },
        {
          "output_type": "stream",
          "name": "stdout",
          "text": [
            "Validation Loss - Swin: 0.2034, RegNetY: 0.2050, Total: 0.4084\n",
            "Validation Accuracy - Swin: 95.67%, RegNetY: 94.80%, Ensemble: 96.38%, Kappa (Ensemble): 0.9344\n",
            "No improvement in ensemble validation accuracy.\n"
          ]
        },
        {
          "output_type": "stream",
          "name": "stderr",
          "text": [
            "Epoch 46/100: 100%|██████████| 159/159 [00:53<00:00,  3.00it/s]"
          ]
        },
        {
          "output_type": "stream",
          "name": "stdout",
          "text": [
            "Epoch [46/100] Training Loss - Swin: 0.0019, RegNetY: 0.0155\n"
          ]
        },
        {
          "output_type": "stream",
          "name": "stderr",
          "text": [
            "\n"
          ]
        },
        {
          "output_type": "stream",
          "name": "stdout",
          "text": [
            "Validation Loss - Swin: 0.1868, RegNetY: 0.2021, Total: 0.3889\n",
            "Validation Accuracy - Swin: 95.59%, RegNetY: 95.20%, Ensemble: 96.69%, Kappa (Ensemble): 0.9402\n",
            "No improvement in ensemble validation accuracy.\n"
          ]
        },
        {
          "output_type": "stream",
          "name": "stderr",
          "text": [
            "Epoch 47/100: 100%|██████████| 159/159 [00:53<00:00,  3.00it/s]"
          ]
        },
        {
          "output_type": "stream",
          "name": "stdout",
          "text": [
            "Epoch [47/100] Training Loss - Swin: 0.0029, RegNetY: 0.0216\n"
          ]
        },
        {
          "output_type": "stream",
          "name": "stderr",
          "text": [
            "\n"
          ]
        },
        {
          "output_type": "stream",
          "name": "stdout",
          "text": [
            "Validation Loss - Swin: 0.1840, RegNetY: 0.2046, Total: 0.3886\n",
            "Validation Accuracy - Swin: 95.67%, RegNetY: 95.28%, Ensemble: 96.85%, Kappa (Ensemble): 0.9431\n",
            "No improvement in ensemble validation accuracy.\n"
          ]
        },
        {
          "output_type": "stream",
          "name": "stderr",
          "text": [
            "Epoch 48/100: 100%|██████████| 159/159 [00:52<00:00,  3.00it/s]"
          ]
        },
        {
          "output_type": "stream",
          "name": "stdout",
          "text": [
            "Epoch [48/100] Training Loss - Swin: 0.0013, RegNetY: 0.0217\n"
          ]
        },
        {
          "output_type": "stream",
          "name": "stderr",
          "text": [
            "\n"
          ]
        },
        {
          "output_type": "stream",
          "name": "stdout",
          "text": [
            "Validation Loss - Swin: 0.1802, RegNetY: 0.1970, Total: 0.3772\n",
            "Validation Accuracy - Swin: 95.83%, RegNetY: 95.43%, Ensemble: 96.69%, Kappa (Ensemble): 0.9402\n",
            "No improvement in ensemble validation accuracy.\n"
          ]
        },
        {
          "output_type": "stream",
          "name": "stderr",
          "text": [
            "Epoch 49/100: 100%|██████████| 159/159 [00:53<00:00,  3.00it/s]"
          ]
        },
        {
          "output_type": "stream",
          "name": "stdout",
          "text": [
            "Epoch [49/100] Training Loss - Swin: 0.0034, RegNetY: 0.0189\n"
          ]
        },
        {
          "output_type": "stream",
          "name": "stderr",
          "text": [
            "\n"
          ]
        },
        {
          "output_type": "stream",
          "name": "stdout",
          "text": [
            "Validation Loss - Swin: 0.1793, RegNetY: 0.1984, Total: 0.3777\n",
            "Validation Accuracy - Swin: 95.75%, RegNetY: 95.12%, Ensemble: 96.69%, Kappa (Ensemble): 0.9402\n",
            "No improvement in ensemble validation accuracy.\n"
          ]
        },
        {
          "output_type": "stream",
          "name": "stderr",
          "text": [
            "Epoch 50/100: 100%|██████████| 159/159 [00:52<00:00,  3.00it/s]"
          ]
        },
        {
          "output_type": "stream",
          "name": "stdout",
          "text": [
            "Epoch [50/100] Training Loss - Swin: 0.0044, RegNetY: 0.0250\n"
          ]
        },
        {
          "output_type": "stream",
          "name": "stderr",
          "text": [
            "\n"
          ]
        },
        {
          "output_type": "stream",
          "name": "stdout",
          "text": [
            "Validation Loss - Swin: 0.1797, RegNetY: 0.1995, Total: 0.3792\n",
            "Validation Accuracy - Swin: 95.83%, RegNetY: 95.35%, Ensemble: 96.61%, Kappa (Ensemble): 0.9387\n",
            "No improvement in ensemble validation accuracy.\n"
          ]
        },
        {
          "output_type": "stream",
          "name": "stderr",
          "text": [
            "Epoch 51/100: 100%|██████████| 159/159 [00:53<00:00,  3.00it/s]"
          ]
        },
        {
          "output_type": "stream",
          "name": "stdout",
          "text": [
            "Epoch [51/100] Training Loss - Swin: 0.0033, RegNetY: 0.0191\n"
          ]
        },
        {
          "output_type": "stream",
          "name": "stderr",
          "text": [
            "\n"
          ]
        },
        {
          "output_type": "stream",
          "name": "stdout",
          "text": [
            "Validation Loss - Swin: 0.1797, RegNetY: 0.1983, Total: 0.3780\n",
            "Validation Accuracy - Swin: 95.83%, RegNetY: 95.35%, Ensemble: 96.69%, Kappa (Ensemble): 0.9402\n",
            "No improvement in ensemble validation accuracy.\n"
          ]
        },
        {
          "output_type": "stream",
          "name": "stderr",
          "text": [
            "Epoch 52/100: 100%|██████████| 159/159 [00:53<00:00,  3.00it/s]"
          ]
        },
        {
          "output_type": "stream",
          "name": "stdout",
          "text": [
            "Epoch [52/100] Training Loss - Swin: 0.0025, RegNetY: 0.0180\n"
          ]
        },
        {
          "output_type": "stream",
          "name": "stderr",
          "text": [
            "\n"
          ]
        },
        {
          "output_type": "stream",
          "name": "stdout",
          "text": [
            "Validation Loss - Swin: 0.1798, RegNetY: 0.2015, Total: 0.3813\n",
            "Validation Accuracy - Swin: 95.83%, RegNetY: 95.12%, Ensemble: 96.77%, Kappa (Ensemble): 0.9416\n",
            "No improvement in ensemble validation accuracy.\n"
          ]
        },
        {
          "output_type": "stream",
          "name": "stderr",
          "text": [
            "Epoch 53/100: 100%|██████████| 159/159 [00:53<00:00,  3.00it/s]"
          ]
        },
        {
          "output_type": "stream",
          "name": "stdout",
          "text": [
            "Epoch [53/100] Training Loss - Swin: 0.0060, RegNetY: 0.0165\n"
          ]
        },
        {
          "output_type": "stream",
          "name": "stderr",
          "text": [
            "\n"
          ]
        },
        {
          "output_type": "stream",
          "name": "stdout",
          "text": [
            "Validation Loss - Swin: 0.1773, RegNetY: 0.1998, Total: 0.3772\n",
            "Validation Accuracy - Swin: 95.75%, RegNetY: 95.67%, Ensemble: 96.69%, Kappa (Ensemble): 0.9402\n",
            "No improvement in ensemble validation accuracy.\n"
          ]
        },
        {
          "output_type": "stream",
          "name": "stderr",
          "text": [
            "Epoch 54/100: 100%|██████████| 159/159 [00:52<00:00,  3.00it/s]"
          ]
        },
        {
          "output_type": "stream",
          "name": "stdout",
          "text": [
            "Epoch [54/100] Training Loss - Swin: 0.0013, RegNetY: 0.0192\n"
          ]
        },
        {
          "output_type": "stream",
          "name": "stderr",
          "text": [
            "\n"
          ]
        },
        {
          "output_type": "stream",
          "name": "stdout",
          "text": [
            "Validation Loss - Swin: 0.1789, RegNetY: 0.2029, Total: 0.3818\n",
            "Validation Accuracy - Swin: 95.67%, RegNetY: 95.20%, Ensemble: 96.46%, Kappa (Ensemble): 0.9358\n",
            "No improvement in ensemble validation accuracy.\n"
          ]
        },
        {
          "output_type": "stream",
          "name": "stderr",
          "text": [
            "Epoch 55/100: 100%|██████████| 159/159 [00:53<00:00,  2.98it/s]"
          ]
        },
        {
          "output_type": "stream",
          "name": "stdout",
          "text": [
            "Epoch [55/100] Training Loss - Swin: 0.0019, RegNetY: 0.0163\n"
          ]
        },
        {
          "output_type": "stream",
          "name": "stderr",
          "text": [
            "\n"
          ]
        },
        {
          "output_type": "stream",
          "name": "stdout",
          "text": [
            "Validation Loss - Swin: 0.1728, RegNetY: 0.1950, Total: 0.3678\n",
            "Validation Accuracy - Swin: 95.98%, RegNetY: 95.28%, Ensemble: 96.69%, Kappa (Ensemble): 0.9402\n",
            "No improvement in ensemble validation accuracy.\n"
          ]
        },
        {
          "output_type": "stream",
          "name": "stderr",
          "text": [
            "Epoch 56/100: 100%|██████████| 159/159 [00:53<00:00,  3.00it/s]"
          ]
        },
        {
          "output_type": "stream",
          "name": "stdout",
          "text": [
            "Epoch [56/100] Training Loss - Swin: 0.0028, RegNetY: 0.0173\n"
          ]
        },
        {
          "output_type": "stream",
          "name": "stderr",
          "text": [
            "\n"
          ]
        },
        {
          "output_type": "stream",
          "name": "stdout",
          "text": [
            "Validation Loss - Swin: 0.1812, RegNetY: 0.2040, Total: 0.3852\n",
            "Validation Accuracy - Swin: 95.91%, RegNetY: 95.20%, Ensemble: 96.69%, Kappa (Ensemble): 0.9402\n",
            "No improvement in ensemble validation accuracy.\n"
          ]
        },
        {
          "output_type": "stream",
          "name": "stderr",
          "text": [
            "Epoch 57/100: 100%|██████████| 159/159 [00:53<00:00,  3.00it/s]"
          ]
        },
        {
          "output_type": "stream",
          "name": "stdout",
          "text": [
            "Epoch [57/100] Training Loss - Swin: 0.0015, RegNetY: 0.0196\n"
          ]
        },
        {
          "output_type": "stream",
          "name": "stderr",
          "text": [
            "\n"
          ]
        },
        {
          "output_type": "stream",
          "name": "stdout",
          "text": [
            "Validation Loss - Swin: 0.1867, RegNetY: 0.2030, Total: 0.3897\n",
            "Validation Accuracy - Swin: 96.22%, RegNetY: 95.59%, Ensemble: 96.46%, Kappa (Ensemble): 0.9358\n",
            "No improvement in ensemble validation accuracy.\n"
          ]
        },
        {
          "output_type": "stream",
          "name": "stderr",
          "text": [
            "Epoch 58/100: 100%|██████████| 159/159 [00:52<00:00,  3.00it/s]"
          ]
        },
        {
          "output_type": "stream",
          "name": "stdout",
          "text": [
            "Epoch [58/100] Training Loss - Swin: 0.0030, RegNetY: 0.0205\n"
          ]
        },
        {
          "output_type": "stream",
          "name": "stderr",
          "text": [
            "\n"
          ]
        },
        {
          "output_type": "stream",
          "name": "stdout",
          "text": [
            "Validation Loss - Swin: 0.2016, RegNetY: 0.2028, Total: 0.4044\n",
            "Validation Accuracy - Swin: 95.91%, RegNetY: 95.43%, Ensemble: 96.22%, Kappa (Ensemble): 0.9314\n",
            "No improvement in ensemble validation accuracy.\n"
          ]
        },
        {
          "output_type": "stream",
          "name": "stderr",
          "text": [
            "Epoch 59/100: 100%|██████████| 159/159 [00:52<00:00,  3.00it/s]"
          ]
        },
        {
          "output_type": "stream",
          "name": "stdout",
          "text": [
            "Epoch [59/100] Training Loss - Swin: 0.0031, RegNetY: 0.0188\n"
          ]
        },
        {
          "output_type": "stream",
          "name": "stderr",
          "text": [
            "\n"
          ]
        },
        {
          "output_type": "stream",
          "name": "stdout",
          "text": [
            "Validation Loss - Swin: 0.2070, RegNetY: 0.2067, Total: 0.4137\n",
            "Validation Accuracy - Swin: 95.91%, RegNetY: 95.04%, Ensemble: 96.38%, Kappa (Ensemble): 0.9343\n",
            "No improvement in ensemble validation accuracy.\n"
          ]
        },
        {
          "output_type": "stream",
          "name": "stderr",
          "text": [
            "Epoch 60/100: 100%|██████████| 159/159 [00:53<00:00,  2.99it/s]"
          ]
        },
        {
          "output_type": "stream",
          "name": "stdout",
          "text": [
            "Epoch [60/100] Training Loss - Swin: 0.0038, RegNetY: 0.0186\n"
          ]
        },
        {
          "output_type": "stream",
          "name": "stderr",
          "text": [
            "\n"
          ]
        },
        {
          "output_type": "stream",
          "name": "stdout",
          "text": [
            "Validation Loss - Swin: 0.1915, RegNetY: 0.2045, Total: 0.3960\n",
            "Validation Accuracy - Swin: 96.14%, RegNetY: 95.12%, Ensemble: 96.46%, Kappa (Ensemble): 0.9357\n",
            "No improvement in ensemble validation accuracy.\n"
          ]
        },
        {
          "output_type": "stream",
          "name": "stderr",
          "text": [
            "Epoch 61/100: 100%|██████████| 159/159 [00:53<00:00,  3.00it/s]"
          ]
        },
        {
          "output_type": "stream",
          "name": "stdout",
          "text": [
            "Epoch [61/100] Training Loss - Swin: 0.0013, RegNetY: 0.0150\n"
          ]
        },
        {
          "output_type": "stream",
          "name": "stderr",
          "text": [
            "\n"
          ]
        },
        {
          "output_type": "stream",
          "name": "stdout",
          "text": [
            "Validation Loss - Swin: 0.1904, RegNetY: 0.2085, Total: 0.3989\n",
            "Validation Accuracy - Swin: 95.98%, RegNetY: 95.04%, Ensemble: 96.54%, Kappa (Ensemble): 0.9373\n",
            "No improvement in ensemble validation accuracy.\n"
          ]
        },
        {
          "output_type": "stream",
          "name": "stderr",
          "text": [
            "Epoch 62/100: 100%|██████████| 159/159 [00:53<00:00,  3.00it/s]"
          ]
        },
        {
          "output_type": "stream",
          "name": "stdout",
          "text": [
            "Epoch [62/100] Training Loss - Swin: 0.0049, RegNetY: 0.0211\n"
          ]
        },
        {
          "output_type": "stream",
          "name": "stderr",
          "text": [
            "\n"
          ]
        },
        {
          "output_type": "stream",
          "name": "stdout",
          "text": [
            "Validation Loss - Swin: 0.1965, RegNetY: 0.2048, Total: 0.4013\n",
            "Validation Accuracy - Swin: 96.06%, RegNetY: 95.35%, Ensemble: 96.46%, Kappa (Ensemble): 0.9361\n",
            "No improvement in ensemble validation accuracy.\n"
          ]
        },
        {
          "output_type": "stream",
          "name": "stderr",
          "text": [
            "Epoch 63/100: 100%|██████████| 159/159 [00:53<00:00,  3.00it/s]"
          ]
        },
        {
          "output_type": "stream",
          "name": "stdout",
          "text": [
            "Epoch [63/100] Training Loss - Swin: 0.0069, RegNetY: 0.0160\n"
          ]
        },
        {
          "output_type": "stream",
          "name": "stderr",
          "text": [
            "\n"
          ]
        },
        {
          "output_type": "stream",
          "name": "stdout",
          "text": [
            "Validation Loss - Swin: 0.1746, RegNetY: 0.2099, Total: 0.3846\n",
            "Validation Accuracy - Swin: 96.30%, RegNetY: 94.88%, Ensemble: 96.85%, Kappa (Ensemble): 0.9432\n",
            "No improvement in ensemble validation accuracy.\n"
          ]
        },
        {
          "output_type": "stream",
          "name": "stderr",
          "text": [
            "Epoch 64/100: 100%|██████████| 159/159 [00:52<00:00,  3.00it/s]"
          ]
        },
        {
          "output_type": "stream",
          "name": "stdout",
          "text": [
            "Epoch [64/100] Training Loss - Swin: 0.0080, RegNetY: 0.0145\n"
          ]
        },
        {
          "output_type": "stream",
          "name": "stderr",
          "text": [
            "\n"
          ]
        },
        {
          "output_type": "stream",
          "name": "stdout",
          "text": [
            "Validation Loss - Swin: 0.1996, RegNetY: 0.1993, Total: 0.3989\n",
            "Validation Accuracy - Swin: 96.14%, RegNetY: 95.35%, Ensemble: 96.54%, Kappa (Ensemble): 0.9374\n",
            "No improvement in ensemble validation accuracy.\n"
          ]
        },
        {
          "output_type": "stream",
          "name": "stderr",
          "text": [
            "Epoch 65/100: 100%|██████████| 159/159 [00:53<00:00,  2.99it/s]"
          ]
        },
        {
          "output_type": "stream",
          "name": "stdout",
          "text": [
            "Epoch [65/100] Training Loss - Swin: 0.0058, RegNetY: 0.0193\n"
          ]
        },
        {
          "output_type": "stream",
          "name": "stderr",
          "text": [
            "\n"
          ]
        },
        {
          "output_type": "stream",
          "name": "stdout",
          "text": [
            "Validation Loss - Swin: 0.2121, RegNetY: 0.2068, Total: 0.4189\n",
            "Validation Accuracy - Swin: 95.75%, RegNetY: 94.72%, Ensemble: 96.77%, Kappa (Ensemble): 0.9415\n",
            "No improvement in ensemble validation accuracy.\n"
          ]
        },
        {
          "output_type": "stream",
          "name": "stderr",
          "text": [
            "Epoch 66/100: 100%|██████████| 159/159 [00:53<00:00,  2.99it/s]"
          ]
        },
        {
          "output_type": "stream",
          "name": "stdout",
          "text": [
            "Epoch [66/100] Training Loss - Swin: 0.0090, RegNetY: 0.0209\n"
          ]
        },
        {
          "output_type": "stream",
          "name": "stderr",
          "text": [
            "\n"
          ]
        },
        {
          "output_type": "stream",
          "name": "stdout",
          "text": [
            "Validation Loss - Swin: 0.1982, RegNetY: 0.1930, Total: 0.3912\n",
            "Validation Accuracy - Swin: 95.98%, RegNetY: 95.43%, Ensemble: 96.85%, Kappa (Ensemble): 0.9434\n",
            "No improvement in ensemble validation accuracy.\n"
          ]
        },
        {
          "output_type": "stream",
          "name": "stderr",
          "text": [
            "Epoch 67/100: 100%|██████████| 159/159 [00:52<00:00,  3.00it/s]"
          ]
        },
        {
          "output_type": "stream",
          "name": "stdout",
          "text": [
            "Epoch [67/100] Training Loss - Swin: 0.0126, RegNetY: 0.0182\n"
          ]
        },
        {
          "output_type": "stream",
          "name": "stderr",
          "text": [
            "\n"
          ]
        },
        {
          "output_type": "stream",
          "name": "stdout",
          "text": [
            "Validation Loss - Swin: 0.2308, RegNetY: 0.1891, Total: 0.4199\n",
            "Validation Accuracy - Swin: 95.67%, RegNetY: 95.43%, Ensemble: 96.06%, Kappa (Ensemble): 0.9287\n",
            "No improvement in ensemble validation accuracy.\n"
          ]
        },
        {
          "output_type": "stream",
          "name": "stderr",
          "text": [
            "Epoch 68/100: 100%|██████████| 159/159 [00:53<00:00,  3.00it/s]"
          ]
        },
        {
          "output_type": "stream",
          "name": "stdout",
          "text": [
            "Epoch [68/100] Training Loss - Swin: 0.0136, RegNetY: 0.0236\n"
          ]
        },
        {
          "output_type": "stream",
          "name": "stderr",
          "text": [
            "\n"
          ]
        },
        {
          "output_type": "stream",
          "name": "stdout",
          "text": [
            "Validation Loss - Swin: 0.1629, RegNetY: 0.1960, Total: 0.3589\n",
            "Validation Accuracy - Swin: 95.83%, RegNetY: 95.12%, Ensemble: 96.61%, Kappa (Ensemble): 0.9388\n",
            "No improvement in ensemble validation accuracy.\n"
          ]
        },
        {
          "output_type": "stream",
          "name": "stderr",
          "text": [
            "Epoch 69/100: 100%|██████████| 159/159 [00:53<00:00,  3.00it/s]"
          ]
        },
        {
          "output_type": "stream",
          "name": "stdout",
          "text": [
            "Epoch [69/100] Training Loss - Swin: 0.0125, RegNetY: 0.0213\n"
          ]
        },
        {
          "output_type": "stream",
          "name": "stderr",
          "text": [
            "\n"
          ]
        },
        {
          "output_type": "stream",
          "name": "stdout",
          "text": [
            "Validation Loss - Swin: 0.1696, RegNetY: 0.2106, Total: 0.3802\n",
            "Validation Accuracy - Swin: 96.14%, RegNetY: 94.80%, Ensemble: 96.38%, Kappa (Ensemble): 0.9348\n",
            "No improvement in ensemble validation accuracy.\n"
          ]
        },
        {
          "output_type": "stream",
          "name": "stderr",
          "text": [
            "Epoch 70/100: 100%|██████████| 159/159 [00:53<00:00,  3.00it/s]"
          ]
        },
        {
          "output_type": "stream",
          "name": "stdout",
          "text": [
            "Epoch [70/100] Training Loss - Swin: 0.0171, RegNetY: 0.0179\n"
          ]
        },
        {
          "output_type": "stream",
          "name": "stderr",
          "text": [
            "\n"
          ]
        },
        {
          "output_type": "stream",
          "name": "stdout",
          "text": [
            "Validation Loss - Swin: 0.1701, RegNetY: 0.2217, Total: 0.3917\n",
            "Validation Accuracy - Swin: 95.75%, RegNetY: 94.88%, Ensemble: 96.54%, Kappa (Ensemble): 0.9374\n",
            "No improvement in ensemble validation accuracy.\n"
          ]
        },
        {
          "output_type": "stream",
          "name": "stderr",
          "text": [
            "Epoch 71/100: 100%|██████████| 159/159 [00:53<00:00,  3.00it/s]"
          ]
        },
        {
          "output_type": "stream",
          "name": "stdout",
          "text": [
            "Epoch [71/100] Training Loss - Swin: 0.0177, RegNetY: 0.0196\n"
          ]
        },
        {
          "output_type": "stream",
          "name": "stderr",
          "text": [
            "\n"
          ]
        },
        {
          "output_type": "stream",
          "name": "stdout",
          "text": [
            "Validation Loss - Swin: 0.1960, RegNetY: 0.1785, Total: 0.3745\n",
            "Validation Accuracy - Swin: 95.35%, RegNetY: 95.91%, Ensemble: 96.46%, Kappa (Ensemble): 0.9359\n",
            "No improvement in ensemble validation accuracy.\n"
          ]
        },
        {
          "output_type": "stream",
          "name": "stderr",
          "text": [
            "Epoch 72/100: 100%|██████████| 159/159 [00:53<00:00,  3.00it/s]"
          ]
        },
        {
          "output_type": "stream",
          "name": "stdout",
          "text": [
            "Epoch [72/100] Training Loss - Swin: 0.0242, RegNetY: 0.0236\n"
          ]
        },
        {
          "output_type": "stream",
          "name": "stderr",
          "text": [
            "\n"
          ]
        },
        {
          "output_type": "stream",
          "name": "stdout",
          "text": [
            "Validation Loss - Swin: 0.1996, RegNetY: 0.2178, Total: 0.4174\n",
            "Validation Accuracy - Swin: 94.96%, RegNetY: 94.80%, Ensemble: 96.06%, Kappa (Ensemble): 0.9284\n",
            "No improvement in ensemble validation accuracy.\n"
          ]
        },
        {
          "output_type": "stream",
          "name": "stderr",
          "text": [
            "Epoch 73/100: 100%|██████████| 159/159 [00:53<00:00,  3.00it/s]"
          ]
        },
        {
          "output_type": "stream",
          "name": "stdout",
          "text": [
            "Epoch [73/100] Training Loss - Swin: 0.0191, RegNetY: 0.0250\n"
          ]
        },
        {
          "output_type": "stream",
          "name": "stderr",
          "text": [
            "\n"
          ]
        },
        {
          "output_type": "stream",
          "name": "stdout",
          "text": [
            "Validation Loss - Swin: 0.2078, RegNetY: 0.2018, Total: 0.4096\n",
            "Validation Accuracy - Swin: 94.96%, RegNetY: 94.96%, Ensemble: 95.51%, Kappa (Ensemble): 0.9185\n",
            "No improvement in ensemble validation accuracy.\n"
          ]
        },
        {
          "output_type": "stream",
          "name": "stderr",
          "text": [
            "Epoch 74/100: 100%|██████████| 159/159 [00:52<00:00,  3.00it/s]"
          ]
        },
        {
          "output_type": "stream",
          "name": "stdout",
          "text": [
            "Epoch [74/100] Training Loss - Swin: 0.0193, RegNetY: 0.0257\n"
          ]
        },
        {
          "output_type": "stream",
          "name": "stderr",
          "text": [
            "\n"
          ]
        },
        {
          "output_type": "stream",
          "name": "stdout",
          "text": [
            "Validation Loss - Swin: 0.2294, RegNetY: 0.2084, Total: 0.4377\n",
            "Validation Accuracy - Swin: 94.65%, RegNetY: 95.51%, Ensemble: 95.83%, Kappa (Ensemble): 0.9242\n",
            "No improvement in ensemble validation accuracy.\n"
          ]
        },
        {
          "output_type": "stream",
          "name": "stderr",
          "text": [
            "Epoch 75/100: 100%|██████████| 159/159 [00:52<00:00,  3.00it/s]"
          ]
        },
        {
          "output_type": "stream",
          "name": "stdout",
          "text": [
            "Epoch [75/100] Training Loss - Swin: 0.0256, RegNetY: 0.0221\n"
          ]
        },
        {
          "output_type": "stream",
          "name": "stderr",
          "text": [
            "\n"
          ]
        },
        {
          "output_type": "stream",
          "name": "stdout",
          "text": [
            "Validation Loss - Swin: 0.2237, RegNetY: 0.2127, Total: 0.4364\n",
            "Validation Accuracy - Swin: 95.12%, RegNetY: 94.25%, Ensemble: 96.61%, Kappa (Ensemble): 0.9393\n",
            "No improvement in ensemble validation accuracy.\n"
          ]
        },
        {
          "output_type": "stream",
          "name": "stderr",
          "text": [
            "Epoch 76/100: 100%|██████████| 159/159 [00:53<00:00,  2.99it/s]"
          ]
        },
        {
          "output_type": "stream",
          "name": "stdout",
          "text": [
            "Epoch [76/100] Training Loss - Swin: 0.0205, RegNetY: 0.0286\n"
          ]
        },
        {
          "output_type": "stream",
          "name": "stderr",
          "text": [
            "\n"
          ]
        },
        {
          "output_type": "stream",
          "name": "stdout",
          "text": [
            "Validation Loss - Swin: 0.2301, RegNetY: 0.2274, Total: 0.4576\n",
            "Validation Accuracy - Swin: 93.94%, RegNetY: 94.25%, Ensemble: 96.06%, Kappa (Ensemble): 0.9290\n",
            "No improvement in ensemble validation accuracy.\n"
          ]
        },
        {
          "output_type": "stream",
          "name": "stderr",
          "text": [
            "Epoch 77/100: 100%|██████████| 159/159 [00:52<00:00,  3.00it/s]"
          ]
        },
        {
          "output_type": "stream",
          "name": "stdout",
          "text": [
            "Epoch [77/100] Training Loss - Swin: 0.0308, RegNetY: 0.0362\n"
          ]
        },
        {
          "output_type": "stream",
          "name": "stderr",
          "text": [
            "\n"
          ]
        },
        {
          "output_type": "stream",
          "name": "stdout",
          "text": [
            "Validation Loss - Swin: 0.1868, RegNetY: 0.2313, Total: 0.4182\n",
            "Validation Accuracy - Swin: 95.12%, RegNetY: 94.65%, Ensemble: 96.06%, Kappa (Ensemble): 0.9291\n",
            "No improvement in ensemble validation accuracy.\n"
          ]
        },
        {
          "output_type": "stream",
          "name": "stderr",
          "text": [
            "Epoch 78/100: 100%|██████████| 159/159 [00:53<00:00,  3.00it/s]"
          ]
        },
        {
          "output_type": "stream",
          "name": "stdout",
          "text": [
            "Epoch [78/100] Training Loss - Swin: 0.0308, RegNetY: 0.0294\n"
          ]
        },
        {
          "output_type": "stream",
          "name": "stderr",
          "text": [
            "\n"
          ]
        },
        {
          "output_type": "stream",
          "name": "stdout",
          "text": [
            "Validation Loss - Swin: 0.2533, RegNetY: 0.2229, Total: 0.4762\n",
            "Validation Accuracy - Swin: 93.31%, RegNetY: 94.80%, Ensemble: 96.22%, Kappa (Ensemble): 0.9323\n",
            "No improvement in ensemble validation accuracy.\n"
          ]
        },
        {
          "output_type": "stream",
          "name": "stderr",
          "text": [
            "Epoch 79/100: 100%|██████████| 159/159 [00:53<00:00,  3.00it/s]"
          ]
        },
        {
          "output_type": "stream",
          "name": "stdout",
          "text": [
            "Epoch [79/100] Training Loss - Swin: 0.0261, RegNetY: 0.0309\n"
          ]
        },
        {
          "output_type": "stream",
          "name": "stderr",
          "text": [
            "\n"
          ]
        },
        {
          "output_type": "stream",
          "name": "stdout",
          "text": [
            "Validation Loss - Swin: 0.1767, RegNetY: 0.2103, Total: 0.3870\n",
            "Validation Accuracy - Swin: 95.28%, RegNetY: 94.41%, Ensemble: 96.38%, Kappa (Ensemble): 0.9348\n",
            "No improvement in ensemble validation accuracy.\n"
          ]
        },
        {
          "output_type": "stream",
          "name": "stderr",
          "text": [
            "Epoch 80/100: 100%|██████████| 159/159 [00:52<00:00,  3.00it/s]"
          ]
        },
        {
          "output_type": "stream",
          "name": "stdout",
          "text": [
            "Epoch [80/100] Training Loss - Swin: 0.0318, RegNetY: 0.0406\n"
          ]
        },
        {
          "output_type": "stream",
          "name": "stderr",
          "text": [
            "\n"
          ]
        },
        {
          "output_type": "stream",
          "name": "stdout",
          "text": [
            "Validation Loss - Swin: 0.2275, RegNetY: 0.2193, Total: 0.4468\n",
            "Validation Accuracy - Swin: 93.31%, RegNetY: 93.39%, Ensemble: 95.75%, Kappa (Ensemble): 0.9241\n",
            "No improvement in ensemble validation accuracy.\n"
          ]
        },
        {
          "output_type": "stream",
          "name": "stderr",
          "text": [
            "Epoch 81/100: 100%|██████████| 159/159 [00:52<00:00,  3.00it/s]"
          ]
        },
        {
          "output_type": "stream",
          "name": "stdout",
          "text": [
            "Epoch [81/100] Training Loss - Swin: 0.0259, RegNetY: 0.0261\n"
          ]
        },
        {
          "output_type": "stream",
          "name": "stderr",
          "text": [
            "\n"
          ]
        },
        {
          "output_type": "stream",
          "name": "stdout",
          "text": [
            "Validation Loss - Swin: 0.1918, RegNetY: 0.2208, Total: 0.4126\n",
            "Validation Accuracy - Swin: 95.67%, RegNetY: 94.57%, Ensemble: 96.46%, Kappa (Ensemble): 0.9360\n",
            "No improvement in ensemble validation accuracy.\n"
          ]
        },
        {
          "output_type": "stream",
          "name": "stderr",
          "text": [
            "Epoch 82/100: 100%|██████████| 159/159 [00:53<00:00,  2.99it/s]"
          ]
        },
        {
          "output_type": "stream",
          "name": "stdout",
          "text": [
            "Epoch [82/100] Training Loss - Swin: 0.0468, RegNetY: 0.0379\n"
          ]
        },
        {
          "output_type": "stream",
          "name": "stderr",
          "text": [
            "\n"
          ]
        },
        {
          "output_type": "stream",
          "name": "stdout",
          "text": [
            "Validation Loss - Swin: 0.2074, RegNetY: 0.2373, Total: 0.4447\n",
            "Validation Accuracy - Swin: 94.09%, RegNetY: 93.94%, Ensemble: 95.59%, Kappa (Ensemble): 0.9204\n",
            "No improvement in ensemble validation accuracy.\n"
          ]
        },
        {
          "output_type": "stream",
          "name": "stderr",
          "text": [
            "Epoch 83/100: 100%|██████████| 159/159 [00:53<00:00,  3.00it/s]"
          ]
        },
        {
          "output_type": "stream",
          "name": "stdout",
          "text": [
            "Epoch [83/100] Training Loss - Swin: 0.0438, RegNetY: 0.0315\n"
          ]
        },
        {
          "output_type": "stream",
          "name": "stderr",
          "text": [
            "\n"
          ]
        },
        {
          "output_type": "stream",
          "name": "stdout",
          "text": [
            "Validation Loss - Swin: 0.1764, RegNetY: 0.2279, Total: 0.4043\n",
            "Validation Accuracy - Swin: 95.83%, RegNetY: 94.02%, Ensemble: 96.14%, Kappa (Ensemble): 0.9303\n",
            "No improvement in ensemble validation accuracy.\n"
          ]
        },
        {
          "output_type": "stream",
          "name": "stderr",
          "text": [
            "Epoch 84/100: 100%|██████████| 159/159 [00:53<00:00,  3.00it/s]"
          ]
        },
        {
          "output_type": "stream",
          "name": "stdout",
          "text": [
            "Epoch [84/100] Training Loss - Swin: 0.0460, RegNetY: 0.0364\n"
          ]
        },
        {
          "output_type": "stream",
          "name": "stderr",
          "text": [
            "\n"
          ]
        },
        {
          "output_type": "stream",
          "name": "stdout",
          "text": [
            "Validation Loss - Swin: 0.3353, RegNetY: 0.2323, Total: 0.5676\n",
            "Validation Accuracy - Swin: 93.54%, RegNetY: 94.02%, Ensemble: 95.28%, Kappa (Ensemble): 0.9140\n",
            "No improvement in ensemble validation accuracy.\n"
          ]
        },
        {
          "output_type": "stream",
          "name": "stderr",
          "text": [
            "Epoch 85/100: 100%|██████████| 159/159 [00:52<00:00,  3.01it/s]"
          ]
        },
        {
          "output_type": "stream",
          "name": "stdout",
          "text": [
            "Epoch [85/100] Training Loss - Swin: 0.0459, RegNetY: 0.0317\n"
          ]
        },
        {
          "output_type": "stream",
          "name": "stderr",
          "text": [
            "\n"
          ]
        },
        {
          "output_type": "stream",
          "name": "stdout",
          "text": [
            "Validation Loss - Swin: 0.1716, RegNetY: 0.2506, Total: 0.4222\n",
            "Validation Accuracy - Swin: 95.28%, RegNetY: 93.78%, Ensemble: 95.67%, Kappa (Ensemble): 0.9218\n",
            "No improvement in ensemble validation accuracy.\n"
          ]
        },
        {
          "output_type": "stream",
          "name": "stderr",
          "text": [
            "Epoch 86/100: 100%|██████████| 159/159 [00:52<00:00,  3.00it/s]"
          ]
        },
        {
          "output_type": "stream",
          "name": "stdout",
          "text": [
            "Epoch [86/100] Training Loss - Swin: 0.0251, RegNetY: 0.0256\n"
          ]
        },
        {
          "output_type": "stream",
          "name": "stderr",
          "text": [
            "\n"
          ]
        },
        {
          "output_type": "stream",
          "name": "stdout",
          "text": [
            "Validation Loss - Swin: 0.1902, RegNetY: 0.2210, Total: 0.4112\n",
            "Validation Accuracy - Swin: 95.91%, RegNetY: 94.65%, Ensemble: 96.22%, Kappa (Ensemble): 0.9315\n",
            "No improvement in ensemble validation accuracy.\n"
          ]
        },
        {
          "output_type": "stream",
          "name": "stderr",
          "text": [
            "Epoch 87/100: 100%|██████████| 159/159 [00:53<00:00,  2.99it/s]"
          ]
        },
        {
          "output_type": "stream",
          "name": "stdout",
          "text": [
            "Epoch [87/100] Training Loss - Swin: 0.0507, RegNetY: 0.0258\n"
          ]
        },
        {
          "output_type": "stream",
          "name": "stderr",
          "text": [
            "\n"
          ]
        },
        {
          "output_type": "stream",
          "name": "stdout",
          "text": [
            "Validation Loss - Swin: 0.1902, RegNetY: 0.2586, Total: 0.4487\n",
            "Validation Accuracy - Swin: 94.65%, RegNetY: 94.17%, Ensemble: 95.98%, Kappa (Ensemble): 0.9273\n",
            "No improvement in ensemble validation accuracy.\n"
          ]
        },
        {
          "output_type": "stream",
          "name": "stderr",
          "text": [
            "Epoch 88/100: 100%|██████████| 159/159 [00:52<00:00,  3.00it/s]"
          ]
        },
        {
          "output_type": "stream",
          "name": "stdout",
          "text": [
            "Epoch [88/100] Training Loss - Swin: 0.0408, RegNetY: 0.0414\n"
          ]
        },
        {
          "output_type": "stream",
          "name": "stderr",
          "text": [
            "\n"
          ]
        },
        {
          "output_type": "stream",
          "name": "stdout",
          "text": [
            "Validation Loss - Swin: 0.1736, RegNetY: 0.2289, Total: 0.4025\n",
            "Validation Accuracy - Swin: 95.12%, RegNetY: 93.86%, Ensemble: 95.59%, Kappa (Ensemble): 0.9205\n",
            "No improvement in ensemble validation accuracy.\n"
          ]
        },
        {
          "output_type": "stream",
          "name": "stderr",
          "text": [
            "Epoch 89/100: 100%|██████████| 159/159 [00:52<00:00,  3.00it/s]"
          ]
        },
        {
          "output_type": "stream",
          "name": "stdout",
          "text": [
            "Epoch [89/100] Training Loss - Swin: 0.0551, RegNetY: 0.0354\n"
          ]
        },
        {
          "output_type": "stream",
          "name": "stderr",
          "text": [
            "\n"
          ]
        },
        {
          "output_type": "stream",
          "name": "stdout",
          "text": [
            "Validation Loss - Swin: 0.1994, RegNetY: 0.2048, Total: 0.4042\n",
            "Validation Accuracy - Swin: 94.49%, RegNetY: 94.57%, Ensemble: 96.30%, Kappa (Ensemble): 0.9328\n",
            "No improvement in ensemble validation accuracy.\n"
          ]
        },
        {
          "output_type": "stream",
          "name": "stderr",
          "text": [
            "Epoch 90/100: 100%|██████████| 159/159 [00:52<00:00,  3.00it/s]"
          ]
        },
        {
          "output_type": "stream",
          "name": "stdout",
          "text": [
            "Epoch [90/100] Training Loss - Swin: 0.0384, RegNetY: 0.0297\n"
          ]
        },
        {
          "output_type": "stream",
          "name": "stderr",
          "text": [
            "\n"
          ]
        },
        {
          "output_type": "stream",
          "name": "stdout",
          "text": [
            "Validation Loss - Swin: 0.2708, RegNetY: 0.2353, Total: 0.5061\n",
            "Validation Accuracy - Swin: 93.78%, RegNetY: 94.57%, Ensemble: 95.43%, Kappa (Ensemble): 0.9171\n",
            "No improvement in ensemble validation accuracy.\n"
          ]
        },
        {
          "output_type": "stream",
          "name": "stderr",
          "text": [
            "Epoch 91/100: 100%|██████████| 159/159 [00:52<00:00,  3.00it/s]"
          ]
        },
        {
          "output_type": "stream",
          "name": "stdout",
          "text": [
            "Epoch [91/100] Training Loss - Swin: 0.0486, RegNetY: 0.0398\n"
          ]
        },
        {
          "output_type": "stream",
          "name": "stderr",
          "text": [
            "\n"
          ]
        },
        {
          "output_type": "stream",
          "name": "stdout",
          "text": [
            "Validation Loss - Swin: 0.3068, RegNetY: 0.2774, Total: 0.5842\n",
            "Validation Accuracy - Swin: 93.07%, RegNetY: 92.83%, Ensemble: 95.20%, Kappa (Ensemble): 0.9126\n",
            "No improvement in ensemble validation accuracy.\n"
          ]
        },
        {
          "output_type": "stream",
          "name": "stderr",
          "text": [
            "Epoch 92/100: 100%|██████████| 159/159 [00:53<00:00,  3.00it/s]"
          ]
        },
        {
          "output_type": "stream",
          "name": "stdout",
          "text": [
            "Epoch [92/100] Training Loss - Swin: 0.0455, RegNetY: 0.0341\n"
          ]
        },
        {
          "output_type": "stream",
          "name": "stderr",
          "text": [
            "\n"
          ]
        },
        {
          "output_type": "stream",
          "name": "stdout",
          "text": [
            "Validation Loss - Swin: 0.2284, RegNetY: 0.2609, Total: 0.4893\n",
            "Validation Accuracy - Swin: 94.41%, RegNetY: 93.70%, Ensemble: 95.20%, Kappa (Ensemble): 0.9129\n",
            "No improvement in ensemble validation accuracy.\n"
          ]
        },
        {
          "output_type": "stream",
          "name": "stderr",
          "text": [
            "Epoch 93/100: 100%|██████████| 159/159 [00:53<00:00,  2.99it/s]"
          ]
        },
        {
          "output_type": "stream",
          "name": "stdout",
          "text": [
            "Epoch [93/100] Training Loss - Swin: 0.0479, RegNetY: 0.0396\n"
          ]
        },
        {
          "output_type": "stream",
          "name": "stderr",
          "text": [
            "\n"
          ]
        },
        {
          "output_type": "stream",
          "name": "stdout",
          "text": [
            "Validation Loss - Swin: 0.2135, RegNetY: 0.2528, Total: 0.4664\n",
            "Validation Accuracy - Swin: 94.41%, RegNetY: 94.02%, Ensemble: 95.67%, Kappa (Ensemble): 0.9225\n",
            "No improvement in ensemble validation accuracy.\n"
          ]
        },
        {
          "output_type": "stream",
          "name": "stderr",
          "text": [
            "Epoch 94/100: 100%|██████████| 159/159 [00:52<00:00,  3.00it/s]"
          ]
        },
        {
          "output_type": "stream",
          "name": "stdout",
          "text": [
            "Epoch [94/100] Training Loss - Swin: 0.0346, RegNetY: 0.0325\n"
          ]
        },
        {
          "output_type": "stream",
          "name": "stderr",
          "text": [
            "\n"
          ]
        },
        {
          "output_type": "stream",
          "name": "stdout",
          "text": [
            "Validation Loss - Swin: 0.2201, RegNetY: 0.2368, Total: 0.4568\n",
            "Validation Accuracy - Swin: 94.17%, RegNetY: 94.09%, Ensemble: 95.67%, Kappa (Ensemble): 0.9218\n",
            "No improvement in ensemble validation accuracy.\n"
          ]
        },
        {
          "output_type": "stream",
          "name": "stderr",
          "text": [
            "Epoch 95/100: 100%|██████████| 159/159 [00:53<00:00,  3.00it/s]"
          ]
        },
        {
          "output_type": "stream",
          "name": "stdout",
          "text": [
            "Epoch [95/100] Training Loss - Swin: 0.0480, RegNetY: 0.0268\n"
          ]
        },
        {
          "output_type": "stream",
          "name": "stderr",
          "text": [
            "\n"
          ]
        },
        {
          "output_type": "stream",
          "name": "stdout",
          "text": [
            "Validation Loss - Swin: 0.1758, RegNetY: 0.2352, Total: 0.4109\n",
            "Validation Accuracy - Swin: 95.04%, RegNetY: 94.65%, Ensemble: 96.38%, Kappa (Ensemble): 0.9349\n",
            "No improvement in ensemble validation accuracy.\n"
          ]
        },
        {
          "output_type": "stream",
          "name": "stderr",
          "text": [
            "Epoch 96/100: 100%|██████████| 159/159 [00:53<00:00,  3.00it/s]"
          ]
        },
        {
          "output_type": "stream",
          "name": "stdout",
          "text": [
            "Epoch [96/100] Training Loss - Swin: 0.0450, RegNetY: 0.0329\n"
          ]
        },
        {
          "output_type": "stream",
          "name": "stderr",
          "text": [
            "\n"
          ]
        },
        {
          "output_type": "stream",
          "name": "stdout",
          "text": [
            "Validation Loss - Swin: 0.1711, RegNetY: 0.2501, Total: 0.4212\n",
            "Validation Accuracy - Swin: 95.20%, RegNetY: 93.94%, Ensemble: 96.06%, Kappa (Ensemble): 0.9295\n",
            "No improvement in ensemble validation accuracy.\n"
          ]
        },
        {
          "output_type": "stream",
          "name": "stderr",
          "text": [
            "Epoch 97/100: 100%|██████████| 159/159 [00:53<00:00,  3.00it/s]"
          ]
        },
        {
          "output_type": "stream",
          "name": "stdout",
          "text": [
            "Epoch [97/100] Training Loss - Swin: 0.0467, RegNetY: 0.0356\n"
          ]
        },
        {
          "output_type": "stream",
          "name": "stderr",
          "text": [
            "\n"
          ]
        },
        {
          "output_type": "stream",
          "name": "stdout",
          "text": [
            "Validation Loss - Swin: 0.1890, RegNetY: 0.2493, Total: 0.4383\n",
            "Validation Accuracy - Swin: 95.35%, RegNetY: 94.17%, Ensemble: 95.83%, Kappa (Ensemble): 0.9250\n",
            "No improvement in ensemble validation accuracy.\n"
          ]
        },
        {
          "output_type": "stream",
          "name": "stderr",
          "text": [
            "Epoch 98/100: 100%|██████████| 159/159 [00:53<00:00,  2.99it/s]"
          ]
        },
        {
          "output_type": "stream",
          "name": "stdout",
          "text": [
            "Epoch [98/100] Training Loss - Swin: 0.0400, RegNetY: 0.0508\n"
          ]
        },
        {
          "output_type": "stream",
          "name": "stderr",
          "text": [
            "\n"
          ]
        },
        {
          "output_type": "stream",
          "name": "stdout",
          "text": [
            "Validation Loss - Swin: 0.2945, RegNetY: 0.2258, Total: 0.5203\n",
            "Validation Accuracy - Swin: 92.99%, RegNetY: 94.72%, Ensemble: 94.49%, Kappa (Ensemble): 0.9004\n",
            "No improvement in ensemble validation accuracy.\n"
          ]
        },
        {
          "output_type": "stream",
          "name": "stderr",
          "text": [
            "Epoch 99/100: 100%|██████████| 159/159 [00:52<00:00,  3.00it/s]"
          ]
        },
        {
          "output_type": "stream",
          "name": "stdout",
          "text": [
            "Epoch [99/100] Training Loss - Swin: 0.0475, RegNetY: 0.0345\n"
          ]
        },
        {
          "output_type": "stream",
          "name": "stderr",
          "text": [
            "\n"
          ]
        },
        {
          "output_type": "stream",
          "name": "stdout",
          "text": [
            "Validation Loss - Swin: 0.2078, RegNetY: 0.2139, Total: 0.4217\n",
            "Validation Accuracy - Swin: 93.86%, RegNetY: 94.49%, Ensemble: 96.30%, Kappa (Ensemble): 0.9330\n",
            "No improvement in ensemble validation accuracy.\n"
          ]
        },
        {
          "output_type": "stream",
          "name": "stderr",
          "text": [
            "Epoch 100/100: 100%|██████████| 159/159 [00:53<00:00,  2.99it/s]"
          ]
        },
        {
          "output_type": "stream",
          "name": "stdout",
          "text": [
            "Epoch [100/100] Training Loss - Swin: 0.0309, RegNetY: 0.0354\n"
          ]
        },
        {
          "output_type": "stream",
          "name": "stderr",
          "text": [
            "\n"
          ]
        },
        {
          "output_type": "stream",
          "name": "stdout",
          "text": [
            "Validation Loss - Swin: 0.2674, RegNetY: 0.2491, Total: 0.5165\n",
            "Validation Accuracy - Swin: 93.62%, RegNetY: 94.57%, Ensemble: 95.20%, Kappa (Ensemble): 0.9125\n",
            "No improvement in ensemble validation accuracy.\n",
            "Training completed.\n"
          ]
        },
        {
          "output_type": "stream",
          "name": "stderr",
          "text": [
            "<ipython-input-3-7976b97a4d9a>:295: FutureWarning: You are using `torch.load` with `weights_only=False` (the current default value), which uses the default pickle module implicitly. It is possible to construct malicious pickle data which will execute arbitrary code during unpickling (See https://github.com/pytorch/pytorch/blob/main/SECURITY.md#untrusted-models for more details). In a future release, the default value for `weights_only` will be flipped to `True`. This limits the functions that could be executed during unpickling. Arbitrary objects will no longer be allowed to be loaded via this mode unless they are explicitly allowlisted by the user via `torch.serialization.add_safe_globals`. We recommend you start setting `weights_only=True` for any use case where you don't have full control of the loaded file. Please open an issue on GitHub for any issues related to this experimental feature.\n",
            "  checkpoint = torch.load('best_model.pth', map_location=device)\n"
          ]
        },
        {
          "output_type": "stream",
          "name": "stdout",
          "text": [
            "Using weighted ensemble: Swin Weight=0.50, RegNetY Weight=0.50\n",
            "Final Validation Accuracy - Swin: 94.88%, RegNetY: 94.41%, Ensemble: 96.93%\n",
            "Confusion Matrix:\n",
            "[[659  16   3]\n",
            " [  8 488   2]\n",
            " [  3   7  84]]\n",
            "Final Kappa (Ensemble): 0.9447\n"
          ]
        }
      ],
      "source": [
        "# Install necessary libraries (if not already installed)\n",
        "# !pip install --upgrade albumentations timm\n",
        "\n",
        "import os\n",
        "import torch\n",
        "import torch.nn as nn\n",
        "from torchvision.datasets import ImageFolder\n",
        "from torch.utils.data import DataLoader, WeightedRandomSampler\n",
        "import timm\n",
        "from sklearn.metrics import confusion_matrix, cohen_kappa_score\n",
        "import numpy as np\n",
        "from tqdm import tqdm\n",
        "import multiprocessing\n",
        "\n",
        "import albumentations as A\n",
        "from albumentations.pytorch import ToTensorV2\n",
        "from PIL import Image\n",
        "\n",
        "# ADDED for copying file to Drive\n",
        "import shutil\n",
        "\n",
        "#######################################\n",
        "# Data Directories and Class Mapping\n",
        "#######################################\n",
        "# Data directories:\n",
        "train_dir = '/content/drive/MyDrive/Three_Class/train_3/train_3/'\n",
        "val_dir = '/content/drive/MyDrive/Three_Class/val_3/val_3/'\n",
        "\n",
        "# Desired mapping: mel=0, bcc=1, scc=2\n",
        "# Alphabetical order: bcc, mel, scc → original indexing: bcc=0, mel=1, scc=2\n",
        "# We must remap:\n",
        "# mel (original 1) → 0\n",
        "# bcc (original 0) → 1\n",
        "# scc (original 2) → 2\n",
        "original_to_desired = {0: 1, 1: 0, 2: 2}\n",
        "\n",
        "#######################################\n",
        "# Data Transforms\n",
        "#######################################\n",
        "train_transforms = A.Compose([\n",
        "    A.Resize(224, 224),\n",
        "    A.OneOf([\n",
        "        A.RandomBrightnessContrast(),\n",
        "        A.ColorJitter(),\n",
        "        A.InvertImg(),\n",
        "    ], p=0.8),\n",
        "    A.OneOf([\n",
        "        A.HorizontalFlip(),\n",
        "        A.VerticalFlip(),\n",
        "        A.RandomRotate90(),\n",
        "        A.ShiftScaleRotate(shift_limit=0.1, scale_limit=0.1, rotate_limit=45),\n",
        "        A.Affine(shear=(-30, 30)),\n",
        "        A.Rotate(limit=45),\n",
        "        A.CoarseDropout(max_holes=8, max_height=8, max_width=8, fill_value=0, p=0.5),\n",
        "        A.Transpose(),\n",
        "    ], p=0.8),\n",
        "    A.Normalize(mean=(0.485, 0.456, 0.406),\n",
        "                std=(0.229, 0.224, 0.225)),\n",
        "    ToTensorV2(),\n",
        "])\n",
        "\n",
        "val_transforms = A.Compose([\n",
        "    A.Resize(224, 224),\n",
        "    A.Normalize(mean=(0.485, 0.456, 0.406),\n",
        "                std=(0.229, 0.224, 0.225)),\n",
        "    ToTensorV2(),\n",
        "])\n",
        "\n",
        "#######################################\n",
        "# Custom Dataset\n",
        "#######################################\n",
        "class CustomImageDataset(torch.utils.data.Dataset):\n",
        "    def __init__(self, root_dir, transform=None, label_map=None):\n",
        "        self.dataset = ImageFolder(root=root_dir)\n",
        "        self.transform = transform\n",
        "        self.label_map = label_map  # Dictionary for remapping labels\n",
        "\n",
        "    def __getitem__(self, idx):\n",
        "        img_path, label = self.dataset.samples[idx]\n",
        "        image = np.array(Image.open(img_path).convert('RGB'))\n",
        "        if self.transform:\n",
        "            transformed = self.transform(image=image)\n",
        "            image = transformed['image']\n",
        "\n",
        "        # Remap label using original_to_desired mapping if provided\n",
        "        if self.label_map is not None:\n",
        "            label = self.label_map[label]\n",
        "\n",
        "        return image, label\n",
        "\n",
        "    def __len__(self):\n",
        "        return len(self.dataset)\n",
        "\n",
        "#######################################\n",
        "# Load Datasets\n",
        "#######################################\n",
        "train_dataset = CustomImageDataset(root_dir=train_dir, transform=train_transforms, label_map=original_to_desired)\n",
        "val_dataset = CustomImageDataset(root_dir=val_dir, transform=val_transforms, label_map=original_to_desired)\n",
        "\n",
        "print(\"Class-to-Label Mapping for Training Dataset (original):\")\n",
        "print(train_dataset.dataset.class_to_idx)\n",
        "print(\"Our desired mapping is mel=0, bcc=1, scc=2.\")\n",
        "\n",
        "#######################################\n",
        "# Handle Class Imbalance with WeightedRandomSampler\n",
        "#######################################\n",
        "# We now compute class frequencies from the train_dataset\n",
        "all_train_labels = [train_dataset[i][1] for i in range(len(train_dataset))]\n",
        "class_counts = np.bincount(all_train_labels)\n",
        "# class_counts[i] = number of samples for class i\n",
        "# Example: mel=0, bcc=1, scc=2\n",
        "\n",
        "class_weights = 1.0 / class_counts\n",
        "# Create a weight for each sample based on its class\n",
        "sample_weights = [class_weights[label] for label in all_train_labels]\n",
        "\n",
        "sampler = WeightedRandomSampler(weights=sample_weights, num_samples=len(sample_weights), replacement=True)\n",
        "\n",
        "#######################################\n",
        "# DataLoaders\n",
        "#######################################\n",
        "num_workers = multiprocessing.cpu_count() - 1\n",
        "train_loader = DataLoader(train_dataset, batch_size=32, sampler=sampler, num_workers=num_workers, pin_memory=True)\n",
        "val_loader = DataLoader(val_dataset, batch_size=32, shuffle=False, num_workers=num_workers, pin_memory=True)\n",
        "\n",
        "#######################################\n",
        "# Model Setup\n",
        "#######################################\n",
        "device = torch.device('cuda' if torch.cuda.is_available() else 'cpu')\n",
        "\n",
        "# Modify num_classes=3 for mel, bcc, scc classification\n",
        "model_swin = timm.create_model('swin_base_patch4_window7_224', pretrained=True, num_classes=3, drop_rate=0.2)\n",
        "model_swin = model_swin.to(device)\n",
        "\n",
        "model_regnet = timm.create_model('regnety_032', pretrained=True, num_classes=3, drop_rate=0.2)\n",
        "model_regnet = model_regnet.to(device)\n",
        "\n",
        "# Define loss and optimizer\n",
        "criterion = nn.CrossEntropyLoss()\n",
        "optimizer_swin = torch.optim.AdamW(model_swin.parameters(), lr=1e-4, weight_decay=1e-5)\n",
        "optimizer_regnet = torch.optim.AdamW(model_regnet.parameters(), lr=1e-4, weight_decay=1e-5)\n",
        "\n",
        "# Learning rate schedulers\n",
        "scheduler_swin = torch.optim.lr_scheduler.CosineAnnealingLR(optimizer_swin, T_max=50)\n",
        "scheduler_regnet = torch.optim.lr_scheduler.CosineAnnealingLR(optimizer_regnet, T_max=50)\n",
        "\n",
        "num_epochs = 100\n",
        "\n",
        "best_val_accuracy_swin = 0\n",
        "best_val_accuracy_regnet = 0\n",
        "best_val_accuracy_ensemble = 0\n",
        "\n",
        "#######################################\n",
        "# Drive folder to copy model\n",
        "#######################################\n",
        "# Change this path to your desired Google Drive folder:\n",
        "drive_folder = '/content/drive/MyDrive/Three_Class/trained_models'\n",
        "os.makedirs(drive_folder, exist_ok=True)  # Create folder if it doesn't exist\n",
        "\n",
        "#######################################\n",
        "# Training and Validation Loop\n",
        "#######################################\n",
        "for epoch in range(num_epochs):\n",
        "    model_swin.train()\n",
        "    model_regnet.train()\n",
        "    running_loss_swin = 0.0\n",
        "    running_loss_regnet = 0.0\n",
        "\n",
        "    # Training loop\n",
        "    for images, labels in tqdm(train_loader, desc=f'Epoch {epoch+1}/{num_epochs}'):\n",
        "        images = images.to(device, non_blocking=True)\n",
        "        labels = labels.to(device, non_blocking=True)\n",
        "\n",
        "        # Zero gradients\n",
        "        optimizer_swin.zero_grad()\n",
        "        optimizer_regnet.zero_grad()\n",
        "\n",
        "        # Forward pass\n",
        "        outputs_swin = model_swin(images)\n",
        "        outputs_regnet = model_regnet(images)\n",
        "\n",
        "        # Compute loss\n",
        "        loss_swin = criterion(outputs_swin, labels)\n",
        "        loss_regnet = criterion(outputs_regnet, labels)\n",
        "        total_loss = loss_swin + loss_regnet\n",
        "\n",
        "        # Backward + Optimize\n",
        "        total_loss.backward()\n",
        "        optimizer_swin.step()\n",
        "        optimizer_regnet.step()\n",
        "\n",
        "        running_loss_swin += loss_swin.item()\n",
        "        running_loss_regnet += loss_regnet.item()\n",
        "\n",
        "    # Average training losses\n",
        "    avg_loss_swin = running_loss_swin / len(train_loader)\n",
        "    avg_loss_regnet = running_loss_regnet / len(train_loader)\n",
        "    avg_total_loss = avg_loss_swin + avg_loss_regnet\n",
        "    print(f'Epoch [{epoch+1}/{num_epochs}] Training Loss - Swin: {avg_loss_swin:.4f}, RegNetY: {avg_loss_regnet:.4f}')\n",
        "\n",
        "    # Validation\n",
        "    model_swin.eval()\n",
        "    model_regnet.eval()\n",
        "    val_loss_swin = 0.0\n",
        "    val_loss_regnet = 0.0\n",
        "    correct_swin = 0\n",
        "    correct_regnet = 0\n",
        "    correct_ensemble = 0\n",
        "    total = 0\n",
        "    all_labels = []\n",
        "    all_preds = []\n",
        "\n",
        "    with torch.no_grad():\n",
        "        for images, labels in val_loader:\n",
        "            images = images.to(device, non_blocking=True)\n",
        "            labels = labels.to(device, non_blocking=True)\n",
        "\n",
        "            outputs_swin = model_swin(images)\n",
        "            outputs_regnet = model_regnet(images)\n",
        "\n",
        "            loss_swin = criterion(outputs_swin, labels)\n",
        "            loss_regnet = criterion(outputs_regnet, labels)\n",
        "            val_loss_swin += loss_swin.item()\n",
        "            val_loss_regnet += loss_regnet.item()\n",
        "\n",
        "            # Predictions\n",
        "            _, predicted_swin = torch.max(outputs_swin, 1)\n",
        "            _, predicted_regnet = torch.max(outputs_regnet, 1)\n",
        "\n",
        "            # Simple averaging for ensemble\n",
        "            combined_outputs = (outputs_swin + outputs_regnet) / 2\n",
        "            _, predicted_ensemble = torch.max(combined_outputs, 1)\n",
        "\n",
        "            total += labels.size(0)\n",
        "            correct_swin += (predicted_swin == labels).sum().item()\n",
        "            correct_regnet += (predicted_regnet == labels).sum().item()\n",
        "            correct_ensemble += (predicted_ensemble == labels).sum().item()\n",
        "\n",
        "            all_labels.extend(labels.cpu().numpy())\n",
        "            all_preds.extend(predicted_ensemble.cpu().numpy())\n",
        "\n",
        "    # Validation metrics\n",
        "    avg_val_loss_swin = val_loss_swin / len(val_loader)\n",
        "    avg_val_loss_regnet = val_loss_regnet / len(val_loader)\n",
        "    avg_val_loss = avg_val_loss_swin + avg_val_loss_regnet\n",
        "    val_accuracy_swin = 100 * correct_swin / total\n",
        "    val_accuracy_regnet = 100 * correct_regnet / total\n",
        "    val_accuracy_ensemble = 100 * correct_ensemble / total\n",
        "\n",
        "    # Calculate validation Kappa (using the ensemble predictions)\n",
        "    val_kappa_ensemble = cohen_kappa_score(all_labels, all_preds)\n",
        "\n",
        "    print(f'Validation Loss - Swin: {avg_val_loss_swin:.4f}, '\n",
        "          f'RegNetY: {avg_val_loss_regnet:.4f}, Total: {avg_val_loss:.4f}')\n",
        "    print(f'Validation Accuracy - Swin: {val_accuracy_swin:.2f}%, '\n",
        "          f'RegNetY: {val_accuracy_regnet:.2f}%, '\n",
        "          f'Ensemble: {val_accuracy_ensemble:.2f}%, '\n",
        "          f'Kappa (Ensemble): {val_kappa_ensemble:.4f}')\n",
        "\n",
        "    # Update schedulers\n",
        "    scheduler_swin.step()\n",
        "    scheduler_regnet.step()\n",
        "\n",
        "    # Save best model based on the best ensemble accuracy\n",
        "    if val_accuracy_ensemble > best_val_accuracy_ensemble:\n",
        "        best_val_accuracy_ensemble = val_accuracy_ensemble\n",
        "        torch.save({\n",
        "            'epoch': epoch + 1,\n",
        "            'model_swin_state_dict': model_swin.state_dict(),\n",
        "            'model_regnet_state_dict': model_regnet.state_dict(),\n",
        "            'optimizer_swin_state_dict': optimizer_swin.state_dict(),\n",
        "            'optimizer_regnet_state_dict': optimizer_regnet.state_dict(),\n",
        "            'val_accuracy_ensemble': best_val_accuracy_ensemble,\n",
        "            'best_val_accuracy_swin': val_accuracy_swin,\n",
        "            'best_val_accuracy_regnet': val_accuracy_regnet,\n",
        "        }, 'best_model.pth')\n",
        "\n",
        "        # Copy the saved model to Drive\n",
        "        drive_model_path = os.path.join(drive_folder, 'best_model.pth')\n",
        "        shutil.copy('best_model.pth', drive_model_path)\n",
        "\n",
        "        print(f'Best model saved at epoch {epoch+1} with ensemble validation accuracy {best_val_accuracy_ensemble:.2f}%')\n",
        "        print(f'Model also copied to: {drive_model_path}')\n",
        "\n",
        "        best_val_accuracy_swin = val_accuracy_swin\n",
        "        best_val_accuracy_regnet = val_accuracy_regnet\n",
        "    else:\n",
        "        print('No improvement in ensemble validation accuracy.')\n",
        "\n",
        "print('Training completed.')\n",
        "\n",
        "#######################################\n",
        "# Final Evaluation with Weighted Ensemble\n",
        "#######################################\n",
        "checkpoint = torch.load('best_model.pth', map_location=device)\n",
        "model_swin.load_state_dict(checkpoint['model_swin_state_dict'])\n",
        "model_regnet.load_state_dict(checkpoint['model_regnet_state_dict'])\n",
        "best_val_accuracy_swin = checkpoint['best_val_accuracy_swin']\n",
        "best_val_accuracy_regnet = checkpoint['best_val_accuracy_regnet']\n",
        "\n",
        "model_swin.eval()\n",
        "model_regnet.eval()\n",
        "\n",
        "all_labels = []\n",
        "all_preds = []\n",
        "correct_swin = 0\n",
        "correct_regnet = 0\n",
        "correct_ensemble = 0\n",
        "total = 0\n",
        "\n",
        "# Weighted ensemble based on best validation accuracies\n",
        "weight_sum = best_val_accuracy_swin + best_val_accuracy_regnet\n",
        "if weight_sum == 0:\n",
        "    weight_swin = 0.5\n",
        "    weight_regnet = 0.5\n",
        "else:\n",
        "    weight_swin = best_val_accuracy_swin / weight_sum\n",
        "    weight_regnet = best_val_accuracy_regnet / weight_sum\n",
        "\n",
        "print(f'Using weighted ensemble: Swin Weight={weight_swin:.2f}, RegNetY Weight={weight_regnet:.2f}')\n",
        "\n",
        "with torch.no_grad():\n",
        "    for images, labels in val_loader:\n",
        "        images = images.to(device, non_blocking=True)\n",
        "        labels = labels.to(device, non_blocking=True)\n",
        "\n",
        "        outputs_swin = model_swin(images)\n",
        "        outputs_regnet = model_regnet(images)\n",
        "\n",
        "        # Individual predictions\n",
        "        _, predicted_swin = torch.max(outputs_swin, 1)\n",
        "        _, predicted_regnet = torch.max(outputs_regnet, 1)\n",
        "\n",
        "        # Weighted ensemble\n",
        "        weighted_outputs = weight_swin * outputs_swin + weight_regnet * outputs_regnet\n",
        "        _, predicted_ensemble = torch.max(weighted_outputs, 1)\n",
        "\n",
        "        total += labels.size(0)\n",
        "        correct_swin += (predicted_swin == labels).sum().item()\n",
        "        correct_regnet += (predicted_regnet == labels).sum().item()\n",
        "        correct_ensemble += (predicted_ensemble == labels).sum().item()\n",
        "\n",
        "        all_labels.extend(labels.cpu().numpy())\n",
        "        all_preds.extend(predicted_ensemble.cpu().numpy())\n",
        "\n",
        "final_accuracy_swin = 100 * correct_swin / total\n",
        "final_accuracy_regnet = 100 * correct_regnet / total\n",
        "final_accuracy_ensemble = 100 * correct_ensemble / total\n",
        "print(f'Final Validation Accuracy - Swin: {final_accuracy_swin:.2f}%, '\n",
        "      f'RegNetY: {final_accuracy_regnet:.2f}%, '\n",
        "      f'Ensemble: {final_accuracy_ensemble:.2f}%')\n",
        "\n",
        "cm = confusion_matrix(all_labels, all_preds)\n",
        "final_kappa_ensemble = cohen_kappa_score(all_labels, all_preds)\n",
        "print('Confusion Matrix:')\n",
        "print(cm)\n",
        "print(f'Final Kappa (Ensemble): {final_kappa_ensemble:.4f}')\n"
      ]
    }
  ],
  "metadata": {
    "accelerator": "GPU",
    "colab": {
      "gpuType": "A100",
      "machine_shape": "hm",
      "provenance": []
    },
    "kernelspec": {
      "display_name": "Python 3",
      "name": "python3"
    },
    "language_info": {
      "name": "python"
    },
    "widgets": {
      "application/vnd.jupyter.widget-state+json": {
        "0151542038d3417e84795e41759bf489": {
          "model_module": "@jupyter-widgets/controls",
          "model_module_version": "1.5.0",
          "model_name": "HTMLModel",
          "state": {
            "_dom_classes": [],
            "_model_module": "@jupyter-widgets/controls",
            "_model_module_version": "1.5.0",
            "_model_name": "HTMLModel",
            "_view_count": null,
            "_view_module": "@jupyter-widgets/controls",
            "_view_module_version": "1.5.0",
            "_view_name": "HTMLView",
            "description": "",
            "description_tooltip": null,
            "layout": "IPY_MODEL_ba52121123eb43a59e185043fd5ede7d",
            "placeholder": "​",
            "style": "IPY_MODEL_4a4e1cad089d4da6b3c8d0d8e45cb30f",
            "value": " 267M/267M [00:01&lt;00:00, 219MB/s]"
          }
        },
        "04017b48d5c34dabb4e03056a1ff33ab": {
          "model_module": "@jupyter-widgets/controls",
          "model_module_version": "1.5.0",
          "model_name": "DescriptionStyleModel",
          "state": {
            "_model_module": "@jupyter-widgets/controls",
            "_model_module_version": "1.5.0",
            "_model_name": "DescriptionStyleModel",
            "_view_count": null,
            "_view_module": "@jupyter-widgets/base",
            "_view_module_version": "1.2.0",
            "_view_name": "StyleView",
            "description_width": ""
          }
        },
        "111aea9e5f6e4adeacaaa85d7fe3ee65": {
          "model_module": "@jupyter-widgets/base",
          "model_module_version": "1.2.0",
          "model_name": "LayoutModel",
          "state": {
            "_model_module": "@jupyter-widgets/base",
            "_model_module_version": "1.2.0",
            "_model_name": "LayoutModel",
            "_view_count": null,
            "_view_module": "@jupyter-widgets/base",
            "_view_module_version": "1.2.0",
            "_view_name": "LayoutView",
            "align_content": null,
            "align_items": null,
            "align_self": null,
            "border": null,
            "bottom": null,
            "display": null,
            "flex": null,
            "flex_flow": null,
            "grid_area": null,
            "grid_auto_columns": null,
            "grid_auto_flow": null,
            "grid_auto_rows": null,
            "grid_column": null,
            "grid_gap": null,
            "grid_row": null,
            "grid_template_areas": null,
            "grid_template_columns": null,
            "grid_template_rows": null,
            "height": null,
            "justify_content": null,
            "justify_items": null,
            "left": null,
            "margin": null,
            "max_height": null,
            "max_width": null,
            "min_height": null,
            "min_width": null,
            "object_fit": null,
            "object_position": null,
            "order": null,
            "overflow": null,
            "overflow_x": null,
            "overflow_y": null,
            "padding": null,
            "right": null,
            "top": null,
            "visibility": null,
            "width": null
          }
        },
        "1304d97997ff44c3a288228d7a669475": {
          "model_module": "@jupyter-widgets/controls",
          "model_module_version": "1.5.0",
          "model_name": "HTMLModel",
          "state": {
            "_dom_classes": [],
            "_model_module": "@jupyter-widgets/controls",
            "_model_module_version": "1.5.0",
            "_model_name": "HTMLModel",
            "_view_count": null,
            "_view_module": "@jupyter-widgets/controls",
            "_view_module_version": "1.5.0",
            "_view_name": "HTMLView",
            "description": "",
            "description_tooltip": null,
            "layout": "IPY_MODEL_f418b91ce9a447a6b339a43ac0c782ba",
            "placeholder": "​",
            "style": "IPY_MODEL_95f225eddf3e42108f470dd02217def7",
            "value": "model.safetensors: 100%"
          }
        },
        "27751c07d7d045bc85160f5c45ab316f": {
          "model_module": "@jupyter-widgets/base",
          "model_module_version": "1.2.0",
          "model_name": "LayoutModel",
          "state": {
            "_model_module": "@jupyter-widgets/base",
            "_model_module_version": "1.2.0",
            "_model_name": "LayoutModel",
            "_view_count": null,
            "_view_module": "@jupyter-widgets/base",
            "_view_module_version": "1.2.0",
            "_view_name": "LayoutView",
            "align_content": null,
            "align_items": null,
            "align_self": null,
            "border": null,
            "bottom": null,
            "display": null,
            "flex": null,
            "flex_flow": null,
            "grid_area": null,
            "grid_auto_columns": null,
            "grid_auto_flow": null,
            "grid_auto_rows": null,
            "grid_column": null,
            "grid_gap": null,
            "grid_row": null,
            "grid_template_areas": null,
            "grid_template_columns": null,
            "grid_template_rows": null,
            "height": null,
            "justify_content": null,
            "justify_items": null,
            "left": null,
            "margin": null,
            "max_height": null,
            "max_width": null,
            "min_height": null,
            "min_width": null,
            "object_fit": null,
            "object_position": null,
            "order": null,
            "overflow": null,
            "overflow_x": null,
            "overflow_y": null,
            "padding": null,
            "right": null,
            "top": null,
            "visibility": null,
            "width": null
          }
        },
        "2be7937cec7742b3950e61321fbd5669": {
          "model_module": "@jupyter-widgets/base",
          "model_module_version": "1.2.0",
          "model_name": "LayoutModel",
          "state": {
            "_model_module": "@jupyter-widgets/base",
            "_model_module_version": "1.2.0",
            "_model_name": "LayoutModel",
            "_view_count": null,
            "_view_module": "@jupyter-widgets/base",
            "_view_module_version": "1.2.0",
            "_view_name": "LayoutView",
            "align_content": null,
            "align_items": null,
            "align_self": null,
            "border": null,
            "bottom": null,
            "display": null,
            "flex": null,
            "flex_flow": null,
            "grid_area": null,
            "grid_auto_columns": null,
            "grid_auto_flow": null,
            "grid_auto_rows": null,
            "grid_column": null,
            "grid_gap": null,
            "grid_row": null,
            "grid_template_areas": null,
            "grid_template_columns": null,
            "grid_template_rows": null,
            "height": null,
            "justify_content": null,
            "justify_items": null,
            "left": null,
            "margin": null,
            "max_height": null,
            "max_width": null,
            "min_height": null,
            "min_width": null,
            "object_fit": null,
            "object_position": null,
            "order": null,
            "overflow": null,
            "overflow_x": null,
            "overflow_y": null,
            "padding": null,
            "right": null,
            "top": null,
            "visibility": null,
            "width": null
          }
        },
        "3381a1efe483454f88d993ad0ebebdbf": {
          "model_module": "@jupyter-widgets/controls",
          "model_module_version": "1.5.0",
          "model_name": "HBoxModel",
          "state": {
            "_dom_classes": [],
            "_model_module": "@jupyter-widgets/controls",
            "_model_module_version": "1.5.0",
            "_model_name": "HBoxModel",
            "_view_count": null,
            "_view_module": "@jupyter-widgets/controls",
            "_view_module_version": "1.5.0",
            "_view_name": "HBoxView",
            "box_style": "",
            "children": [
              "IPY_MODEL_1304d97997ff44c3a288228d7a669475",
              "IPY_MODEL_a5305d45896b4025bfcd104adf0a425f",
              "IPY_MODEL_db4059cddc48480991919994cc026ffc"
            ],
            "layout": "IPY_MODEL_d00b92cf621549c0abd10a1337f76def"
          }
        },
        "3710c8b77101421b8418633967bd3cf9": {
          "model_module": "@jupyter-widgets/controls",
          "model_module_version": "1.5.0",
          "model_name": "HBoxModel",
          "state": {
            "_dom_classes": [],
            "_model_module": "@jupyter-widgets/controls",
            "_model_module_version": "1.5.0",
            "_model_name": "HBoxModel",
            "_view_count": null,
            "_view_module": "@jupyter-widgets/controls",
            "_view_module_version": "1.5.0",
            "_view_name": "HBoxView",
            "box_style": "",
            "children": [
              "IPY_MODEL_40c2b8f7b890452fa29ca835eec4fe6f",
              "IPY_MODEL_82834df8a00848178c670df36d4bbc6b",
              "IPY_MODEL_0151542038d3417e84795e41759bf489"
            ],
            "layout": "IPY_MODEL_fbb6480f6509416ca03ff1a1a07f879c"
          }
        },
        "40c2b8f7b890452fa29ca835eec4fe6f": {
          "model_module": "@jupyter-widgets/controls",
          "model_module_version": "1.5.0",
          "model_name": "HTMLModel",
          "state": {
            "_dom_classes": [],
            "_model_module": "@jupyter-widgets/controls",
            "_model_module_version": "1.5.0",
            "_model_name": "HTMLModel",
            "_view_count": null,
            "_view_module": "@jupyter-widgets/controls",
            "_view_module_version": "1.5.0",
            "_view_name": "HTMLView",
            "description": "",
            "description_tooltip": null,
            "layout": "IPY_MODEL_c0b016b93b4244f6a7bcefa6dd374a79",
            "placeholder": "​",
            "style": "IPY_MODEL_4e952d41d05e4ae0968b878094a77d78",
            "value": "model.safetensors: 100%"
          }
        },
        "4a4e1cad089d4da6b3c8d0d8e45cb30f": {
          "model_module": "@jupyter-widgets/controls",
          "model_module_version": "1.5.0",
          "model_name": "DescriptionStyleModel",
          "state": {
            "_model_module": "@jupyter-widgets/controls",
            "_model_module_version": "1.5.0",
            "_model_name": "DescriptionStyleModel",
            "_view_count": null,
            "_view_module": "@jupyter-widgets/base",
            "_view_module_version": "1.2.0",
            "_view_name": "StyleView",
            "description_width": ""
          }
        },
        "4e952d41d05e4ae0968b878094a77d78": {
          "model_module": "@jupyter-widgets/controls",
          "model_module_version": "1.5.0",
          "model_name": "DescriptionStyleModel",
          "state": {
            "_model_module": "@jupyter-widgets/controls",
            "_model_module_version": "1.5.0",
            "_model_name": "DescriptionStyleModel",
            "_view_count": null,
            "_view_module": "@jupyter-widgets/base",
            "_view_module_version": "1.2.0",
            "_view_name": "StyleView",
            "description_width": ""
          }
        },
        "6b723c40fc4845e88b2946956810c5a8": {
          "model_module": "@jupyter-widgets/controls",
          "model_module_version": "1.5.0",
          "model_name": "ProgressStyleModel",
          "state": {
            "_model_module": "@jupyter-widgets/controls",
            "_model_module_version": "1.5.0",
            "_model_name": "ProgressStyleModel",
            "_view_count": null,
            "_view_module": "@jupyter-widgets/base",
            "_view_module_version": "1.2.0",
            "_view_name": "StyleView",
            "bar_color": null,
            "description_width": ""
          }
        },
        "82834df8a00848178c670df36d4bbc6b": {
          "model_module": "@jupyter-widgets/controls",
          "model_module_version": "1.5.0",
          "model_name": "FloatProgressModel",
          "state": {
            "_dom_classes": [],
            "_model_module": "@jupyter-widgets/controls",
            "_model_module_version": "1.5.0",
            "_model_name": "FloatProgressModel",
            "_view_count": null,
            "_view_module": "@jupyter-widgets/controls",
            "_view_module_version": "1.5.0",
            "_view_name": "ProgressView",
            "bar_style": "success",
            "description": "",
            "description_tooltip": null,
            "layout": "IPY_MODEL_2be7937cec7742b3950e61321fbd5669",
            "max": 266748382,
            "min": 0,
            "orientation": "horizontal",
            "style": "IPY_MODEL_6b723c40fc4845e88b2946956810c5a8",
            "value": 266748382
          }
        },
        "95f225eddf3e42108f470dd02217def7": {
          "model_module": "@jupyter-widgets/controls",
          "model_module_version": "1.5.0",
          "model_name": "DescriptionStyleModel",
          "state": {
            "_model_module": "@jupyter-widgets/controls",
            "_model_module_version": "1.5.0",
            "_model_name": "DescriptionStyleModel",
            "_view_count": null,
            "_view_module": "@jupyter-widgets/base",
            "_view_module_version": "1.2.0",
            "_view_name": "StyleView",
            "description_width": ""
          }
        },
        "a5305d45896b4025bfcd104adf0a425f": {
          "model_module": "@jupyter-widgets/controls",
          "model_module_version": "1.5.0",
          "model_name": "FloatProgressModel",
          "state": {
            "_dom_classes": [],
            "_model_module": "@jupyter-widgets/controls",
            "_model_module_version": "1.5.0",
            "_model_name": "FloatProgressModel",
            "_view_count": null,
            "_view_module": "@jupyter-widgets/controls",
            "_view_module_version": "1.5.0",
            "_view_name": "ProgressView",
            "bar_style": "success",
            "description": "",
            "description_tooltip": null,
            "layout": "IPY_MODEL_111aea9e5f6e4adeacaaa85d7fe3ee65",
            "max": 352685652,
            "min": 0,
            "orientation": "horizontal",
            "style": "IPY_MODEL_bc9c61f087a548eea568fef7868adbf1",
            "value": 352685652
          }
        },
        "ba52121123eb43a59e185043fd5ede7d": {
          "model_module": "@jupyter-widgets/base",
          "model_module_version": "1.2.0",
          "model_name": "LayoutModel",
          "state": {
            "_model_module": "@jupyter-widgets/base",
            "_model_module_version": "1.2.0",
            "_model_name": "LayoutModel",
            "_view_count": null,
            "_view_module": "@jupyter-widgets/base",
            "_view_module_version": "1.2.0",
            "_view_name": "LayoutView",
            "align_content": null,
            "align_items": null,
            "align_self": null,
            "border": null,
            "bottom": null,
            "display": null,
            "flex": null,
            "flex_flow": null,
            "grid_area": null,
            "grid_auto_columns": null,
            "grid_auto_flow": null,
            "grid_auto_rows": null,
            "grid_column": null,
            "grid_gap": null,
            "grid_row": null,
            "grid_template_areas": null,
            "grid_template_columns": null,
            "grid_template_rows": null,
            "height": null,
            "justify_content": null,
            "justify_items": null,
            "left": null,
            "margin": null,
            "max_height": null,
            "max_width": null,
            "min_height": null,
            "min_width": null,
            "object_fit": null,
            "object_position": null,
            "order": null,
            "overflow": null,
            "overflow_x": null,
            "overflow_y": null,
            "padding": null,
            "right": null,
            "top": null,
            "visibility": null,
            "width": null
          }
        },
        "bc9c61f087a548eea568fef7868adbf1": {
          "model_module": "@jupyter-widgets/controls",
          "model_module_version": "1.5.0",
          "model_name": "ProgressStyleModel",
          "state": {
            "_model_module": "@jupyter-widgets/controls",
            "_model_module_version": "1.5.0",
            "_model_name": "ProgressStyleModel",
            "_view_count": null,
            "_view_module": "@jupyter-widgets/base",
            "_view_module_version": "1.2.0",
            "_view_name": "StyleView",
            "bar_color": null,
            "description_width": ""
          }
        },
        "c0b016b93b4244f6a7bcefa6dd374a79": {
          "model_module": "@jupyter-widgets/base",
          "model_module_version": "1.2.0",
          "model_name": "LayoutModel",
          "state": {
            "_model_module": "@jupyter-widgets/base",
            "_model_module_version": "1.2.0",
            "_model_name": "LayoutModel",
            "_view_count": null,
            "_view_module": "@jupyter-widgets/base",
            "_view_module_version": "1.2.0",
            "_view_name": "LayoutView",
            "align_content": null,
            "align_items": null,
            "align_self": null,
            "border": null,
            "bottom": null,
            "display": null,
            "flex": null,
            "flex_flow": null,
            "grid_area": null,
            "grid_auto_columns": null,
            "grid_auto_flow": null,
            "grid_auto_rows": null,
            "grid_column": null,
            "grid_gap": null,
            "grid_row": null,
            "grid_template_areas": null,
            "grid_template_columns": null,
            "grid_template_rows": null,
            "height": null,
            "justify_content": null,
            "justify_items": null,
            "left": null,
            "margin": null,
            "max_height": null,
            "max_width": null,
            "min_height": null,
            "min_width": null,
            "object_fit": null,
            "object_position": null,
            "order": null,
            "overflow": null,
            "overflow_x": null,
            "overflow_y": null,
            "padding": null,
            "right": null,
            "top": null,
            "visibility": null,
            "width": null
          }
        },
        "d00b92cf621549c0abd10a1337f76def": {
          "model_module": "@jupyter-widgets/base",
          "model_module_version": "1.2.0",
          "model_name": "LayoutModel",
          "state": {
            "_model_module": "@jupyter-widgets/base",
            "_model_module_version": "1.2.0",
            "_model_name": "LayoutModel",
            "_view_count": null,
            "_view_module": "@jupyter-widgets/base",
            "_view_module_version": "1.2.0",
            "_view_name": "LayoutView",
            "align_content": null,
            "align_items": null,
            "align_self": null,
            "border": null,
            "bottom": null,
            "display": null,
            "flex": null,
            "flex_flow": null,
            "grid_area": null,
            "grid_auto_columns": null,
            "grid_auto_flow": null,
            "grid_auto_rows": null,
            "grid_column": null,
            "grid_gap": null,
            "grid_row": null,
            "grid_template_areas": null,
            "grid_template_columns": null,
            "grid_template_rows": null,
            "height": null,
            "justify_content": null,
            "justify_items": null,
            "left": null,
            "margin": null,
            "max_height": null,
            "max_width": null,
            "min_height": null,
            "min_width": null,
            "object_fit": null,
            "object_position": null,
            "order": null,
            "overflow": null,
            "overflow_x": null,
            "overflow_y": null,
            "padding": null,
            "right": null,
            "top": null,
            "visibility": null,
            "width": null
          }
        },
        "db4059cddc48480991919994cc026ffc": {
          "model_module": "@jupyter-widgets/controls",
          "model_module_version": "1.5.0",
          "model_name": "HTMLModel",
          "state": {
            "_dom_classes": [],
            "_model_module": "@jupyter-widgets/controls",
            "_model_module_version": "1.5.0",
            "_model_name": "HTMLModel",
            "_view_count": null,
            "_view_module": "@jupyter-widgets/controls",
            "_view_module_version": "1.5.0",
            "_view_name": "HTMLView",
            "description": "",
            "description_tooltip": null,
            "layout": "IPY_MODEL_27751c07d7d045bc85160f5c45ab316f",
            "placeholder": "​",
            "style": "IPY_MODEL_04017b48d5c34dabb4e03056a1ff33ab",
            "value": " 353M/353M [00:01&lt;00:00, 218MB/s]"
          }
        },
        "f418b91ce9a447a6b339a43ac0c782ba": {
          "model_module": "@jupyter-widgets/base",
          "model_module_version": "1.2.0",
          "model_name": "LayoutModel",
          "state": {
            "_model_module": "@jupyter-widgets/base",
            "_model_module_version": "1.2.0",
            "_model_name": "LayoutModel",
            "_view_count": null,
            "_view_module": "@jupyter-widgets/base",
            "_view_module_version": "1.2.0",
            "_view_name": "LayoutView",
            "align_content": null,
            "align_items": null,
            "align_self": null,
            "border": null,
            "bottom": null,
            "display": null,
            "flex": null,
            "flex_flow": null,
            "grid_area": null,
            "grid_auto_columns": null,
            "grid_auto_flow": null,
            "grid_auto_rows": null,
            "grid_column": null,
            "grid_gap": null,
            "grid_row": null,
            "grid_template_areas": null,
            "grid_template_columns": null,
            "grid_template_rows": null,
            "height": null,
            "justify_content": null,
            "justify_items": null,
            "left": null,
            "margin": null,
            "max_height": null,
            "max_width": null,
            "min_height": null,
            "min_width": null,
            "object_fit": null,
            "object_position": null,
            "order": null,
            "overflow": null,
            "overflow_x": null,
            "overflow_y": null,
            "padding": null,
            "right": null,
            "top": null,
            "visibility": null,
            "width": null
          }
        },
        "fbb6480f6509416ca03ff1a1a07f879c": {
          "model_module": "@jupyter-widgets/base",
          "model_module_version": "1.2.0",
          "model_name": "LayoutModel",
          "state": {
            "_model_module": "@jupyter-widgets/base",
            "_model_module_version": "1.2.0",
            "_model_name": "LayoutModel",
            "_view_count": null,
            "_view_module": "@jupyter-widgets/base",
            "_view_module_version": "1.2.0",
            "_view_name": "LayoutView",
            "align_content": null,
            "align_items": null,
            "align_self": null,
            "border": null,
            "bottom": null,
            "display": null,
            "flex": null,
            "flex_flow": null,
            "grid_area": null,
            "grid_auto_columns": null,
            "grid_auto_flow": null,
            "grid_auto_rows": null,
            "grid_column": null,
            "grid_gap": null,
            "grid_row": null,
            "grid_template_areas": null,
            "grid_template_columns": null,
            "grid_template_rows": null,
            "height": null,
            "justify_content": null,
            "justify_items": null,
            "left": null,
            "margin": null,
            "max_height": null,
            "max_width": null,
            "min_height": null,
            "min_width": null,
            "object_fit": null,
            "object_position": null,
            "order": null,
            "overflow": null,
            "overflow_x": null,
            "overflow_y": null,
            "padding": null,
            "right": null,
            "top": null,
            "visibility": null,
            "width": null
          }
        },
        "fea6ec2e783f4613a261181feb22c9c4": {
          "model_module": "@jupyter-widgets/controls",
          "model_name": "HBoxModel",
          "model_module_version": "1.5.0",
          "state": {
            "_dom_classes": [],
            "_model_module": "@jupyter-widgets/controls",
            "_model_module_version": "1.5.0",
            "_model_name": "HBoxModel",
            "_view_count": null,
            "_view_module": "@jupyter-widgets/controls",
            "_view_module_version": "1.5.0",
            "_view_name": "HBoxView",
            "box_style": "",
            "children": [
              "IPY_MODEL_3a5023a32de944e3afc25e168d6b037d",
              "IPY_MODEL_c0f1c5b82742413da4a7d281c359a519",
              "IPY_MODEL_42c15919cec34cf9868108bccafe8388"
            ],
            "layout": "IPY_MODEL_89cfd916b2ae4cbbbb27ca6862b4eefd"
          }
        },
        "3a5023a32de944e3afc25e168d6b037d": {
          "model_module": "@jupyter-widgets/controls",
          "model_name": "HTMLModel",
          "model_module_version": "1.5.0",
          "state": {
            "_dom_classes": [],
            "_model_module": "@jupyter-widgets/controls",
            "_model_module_version": "1.5.0",
            "_model_name": "HTMLModel",
            "_view_count": null,
            "_view_module": "@jupyter-widgets/controls",
            "_view_module_version": "1.5.0",
            "_view_name": "HTMLView",
            "description": "",
            "description_tooltip": null,
            "layout": "IPY_MODEL_9edaf03f693544b08fbe1f72c30cc2a8",
            "placeholder": "​",
            "style": "IPY_MODEL_c65a1ba396fc4f3b90163e25ff036a98",
            "value": "model.safetensors: 100%"
          }
        },
        "c0f1c5b82742413da4a7d281c359a519": {
          "model_module": "@jupyter-widgets/controls",
          "model_name": "FloatProgressModel",
          "model_module_version": "1.5.0",
          "state": {
            "_dom_classes": [],
            "_model_module": "@jupyter-widgets/controls",
            "_model_module_version": "1.5.0",
            "_model_name": "FloatProgressModel",
            "_view_count": null,
            "_view_module": "@jupyter-widgets/controls",
            "_view_module_version": "1.5.0",
            "_view_name": "ProgressView",
            "bar_style": "success",
            "description": "",
            "description_tooltip": null,
            "layout": "IPY_MODEL_cd4e31186c314200b906f2abd2f67810",
            "max": 352685652,
            "min": 0,
            "orientation": "horizontal",
            "style": "IPY_MODEL_28ac09995acf4a3eacf7daa8e4c272c5",
            "value": 352685652
          }
        },
        "42c15919cec34cf9868108bccafe8388": {
          "model_module": "@jupyter-widgets/controls",
          "model_name": "HTMLModel",
          "model_module_version": "1.5.0",
          "state": {
            "_dom_classes": [],
            "_model_module": "@jupyter-widgets/controls",
            "_model_module_version": "1.5.0",
            "_model_name": "HTMLModel",
            "_view_count": null,
            "_view_module": "@jupyter-widgets/controls",
            "_view_module_version": "1.5.0",
            "_view_name": "HTMLView",
            "description": "",
            "description_tooltip": null,
            "layout": "IPY_MODEL_dc11a633abb74b75a7c22d5a38b69a02",
            "placeholder": "​",
            "style": "IPY_MODEL_b9e72a265f3443ab849f5785823560dd",
            "value": " 353M/353M [00:01&lt;00:00, 224MB/s]"
          }
        },
        "89cfd916b2ae4cbbbb27ca6862b4eefd": {
          "model_module": "@jupyter-widgets/base",
          "model_name": "LayoutModel",
          "model_module_version": "1.2.0",
          "state": {
            "_model_module": "@jupyter-widgets/base",
            "_model_module_version": "1.2.0",
            "_model_name": "LayoutModel",
            "_view_count": null,
            "_view_module": "@jupyter-widgets/base",
            "_view_module_version": "1.2.0",
            "_view_name": "LayoutView",
            "align_content": null,
            "align_items": null,
            "align_self": null,
            "border": null,
            "bottom": null,
            "display": null,
            "flex": null,
            "flex_flow": null,
            "grid_area": null,
            "grid_auto_columns": null,
            "grid_auto_flow": null,
            "grid_auto_rows": null,
            "grid_column": null,
            "grid_gap": null,
            "grid_row": null,
            "grid_template_areas": null,
            "grid_template_columns": null,
            "grid_template_rows": null,
            "height": null,
            "justify_content": null,
            "justify_items": null,
            "left": null,
            "margin": null,
            "max_height": null,
            "max_width": null,
            "min_height": null,
            "min_width": null,
            "object_fit": null,
            "object_position": null,
            "order": null,
            "overflow": null,
            "overflow_x": null,
            "overflow_y": null,
            "padding": null,
            "right": null,
            "top": null,
            "visibility": null,
            "width": null
          }
        },
        "9edaf03f693544b08fbe1f72c30cc2a8": {
          "model_module": "@jupyter-widgets/base",
          "model_name": "LayoutModel",
          "model_module_version": "1.2.0",
          "state": {
            "_model_module": "@jupyter-widgets/base",
            "_model_module_version": "1.2.0",
            "_model_name": "LayoutModel",
            "_view_count": null,
            "_view_module": "@jupyter-widgets/base",
            "_view_module_version": "1.2.0",
            "_view_name": "LayoutView",
            "align_content": null,
            "align_items": null,
            "align_self": null,
            "border": null,
            "bottom": null,
            "display": null,
            "flex": null,
            "flex_flow": null,
            "grid_area": null,
            "grid_auto_columns": null,
            "grid_auto_flow": null,
            "grid_auto_rows": null,
            "grid_column": null,
            "grid_gap": null,
            "grid_row": null,
            "grid_template_areas": null,
            "grid_template_columns": null,
            "grid_template_rows": null,
            "height": null,
            "justify_content": null,
            "justify_items": null,
            "left": null,
            "margin": null,
            "max_height": null,
            "max_width": null,
            "min_height": null,
            "min_width": null,
            "object_fit": null,
            "object_position": null,
            "order": null,
            "overflow": null,
            "overflow_x": null,
            "overflow_y": null,
            "padding": null,
            "right": null,
            "top": null,
            "visibility": null,
            "width": null
          }
        },
        "c65a1ba396fc4f3b90163e25ff036a98": {
          "model_module": "@jupyter-widgets/controls",
          "model_name": "DescriptionStyleModel",
          "model_module_version": "1.5.0",
          "state": {
            "_model_module": "@jupyter-widgets/controls",
            "_model_module_version": "1.5.0",
            "_model_name": "DescriptionStyleModel",
            "_view_count": null,
            "_view_module": "@jupyter-widgets/base",
            "_view_module_version": "1.2.0",
            "_view_name": "StyleView",
            "description_width": ""
          }
        },
        "cd4e31186c314200b906f2abd2f67810": {
          "model_module": "@jupyter-widgets/base",
          "model_name": "LayoutModel",
          "model_module_version": "1.2.0",
          "state": {
            "_model_module": "@jupyter-widgets/base",
            "_model_module_version": "1.2.0",
            "_model_name": "LayoutModel",
            "_view_count": null,
            "_view_module": "@jupyter-widgets/base",
            "_view_module_version": "1.2.0",
            "_view_name": "LayoutView",
            "align_content": null,
            "align_items": null,
            "align_self": null,
            "border": null,
            "bottom": null,
            "display": null,
            "flex": null,
            "flex_flow": null,
            "grid_area": null,
            "grid_auto_columns": null,
            "grid_auto_flow": null,
            "grid_auto_rows": null,
            "grid_column": null,
            "grid_gap": null,
            "grid_row": null,
            "grid_template_areas": null,
            "grid_template_columns": null,
            "grid_template_rows": null,
            "height": null,
            "justify_content": null,
            "justify_items": null,
            "left": null,
            "margin": null,
            "max_height": null,
            "max_width": null,
            "min_height": null,
            "min_width": null,
            "object_fit": null,
            "object_position": null,
            "order": null,
            "overflow": null,
            "overflow_x": null,
            "overflow_y": null,
            "padding": null,
            "right": null,
            "top": null,
            "visibility": null,
            "width": null
          }
        },
        "28ac09995acf4a3eacf7daa8e4c272c5": {
          "model_module": "@jupyter-widgets/controls",
          "model_name": "ProgressStyleModel",
          "model_module_version": "1.5.0",
          "state": {
            "_model_module": "@jupyter-widgets/controls",
            "_model_module_version": "1.5.0",
            "_model_name": "ProgressStyleModel",
            "_view_count": null,
            "_view_module": "@jupyter-widgets/base",
            "_view_module_version": "1.2.0",
            "_view_name": "StyleView",
            "bar_color": null,
            "description_width": ""
          }
        },
        "dc11a633abb74b75a7c22d5a38b69a02": {
          "model_module": "@jupyter-widgets/base",
          "model_name": "LayoutModel",
          "model_module_version": "1.2.0",
          "state": {
            "_model_module": "@jupyter-widgets/base",
            "_model_module_version": "1.2.0",
            "_model_name": "LayoutModel",
            "_view_count": null,
            "_view_module": "@jupyter-widgets/base",
            "_view_module_version": "1.2.0",
            "_view_name": "LayoutView",
            "align_content": null,
            "align_items": null,
            "align_self": null,
            "border": null,
            "bottom": null,
            "display": null,
            "flex": null,
            "flex_flow": null,
            "grid_area": null,
            "grid_auto_columns": null,
            "grid_auto_flow": null,
            "grid_auto_rows": null,
            "grid_column": null,
            "grid_gap": null,
            "grid_row": null,
            "grid_template_areas": null,
            "grid_template_columns": null,
            "grid_template_rows": null,
            "height": null,
            "justify_content": null,
            "justify_items": null,
            "left": null,
            "margin": null,
            "max_height": null,
            "max_width": null,
            "min_height": null,
            "min_width": null,
            "object_fit": null,
            "object_position": null,
            "order": null,
            "overflow": null,
            "overflow_x": null,
            "overflow_y": null,
            "padding": null,
            "right": null,
            "top": null,
            "visibility": null,
            "width": null
          }
        },
        "b9e72a265f3443ab849f5785823560dd": {
          "model_module": "@jupyter-widgets/controls",
          "model_name": "DescriptionStyleModel",
          "model_module_version": "1.5.0",
          "state": {
            "_model_module": "@jupyter-widgets/controls",
            "_model_module_version": "1.5.0",
            "_model_name": "DescriptionStyleModel",
            "_view_count": null,
            "_view_module": "@jupyter-widgets/base",
            "_view_module_version": "1.2.0",
            "_view_name": "StyleView",
            "description_width": ""
          }
        },
        "7ca68a1ccdd74138a2629d15cb4a8d06": {
          "model_module": "@jupyter-widgets/controls",
          "model_name": "HBoxModel",
          "model_module_version": "1.5.0",
          "state": {
            "_dom_classes": [],
            "_model_module": "@jupyter-widgets/controls",
            "_model_module_version": "1.5.0",
            "_model_name": "HBoxModel",
            "_view_count": null,
            "_view_module": "@jupyter-widgets/controls",
            "_view_module_version": "1.5.0",
            "_view_name": "HBoxView",
            "box_style": "",
            "children": [
              "IPY_MODEL_49c069a74653489896b920956feec88a",
              "IPY_MODEL_ae913402c69a4dceb8c563f4f836f90a",
              "IPY_MODEL_0ad08d3367ad46f5a9af018e9c596c6c"
            ],
            "layout": "IPY_MODEL_e3838be003534798bce3b8c2cc928175"
          }
        },
        "49c069a74653489896b920956feec88a": {
          "model_module": "@jupyter-widgets/controls",
          "model_name": "HTMLModel",
          "model_module_version": "1.5.0",
          "state": {
            "_dom_classes": [],
            "_model_module": "@jupyter-widgets/controls",
            "_model_module_version": "1.5.0",
            "_model_name": "HTMLModel",
            "_view_count": null,
            "_view_module": "@jupyter-widgets/controls",
            "_view_module_version": "1.5.0",
            "_view_name": "HTMLView",
            "description": "",
            "description_tooltip": null,
            "layout": "IPY_MODEL_8159d161389f4e53ac736a1411645a8e",
            "placeholder": "​",
            "style": "IPY_MODEL_4dc458bd796c4934b58c6c66b9ed700f",
            "value": "model.safetensors: 100%"
          }
        },
        "ae913402c69a4dceb8c563f4f836f90a": {
          "model_module": "@jupyter-widgets/controls",
          "model_name": "FloatProgressModel",
          "model_module_version": "1.5.0",
          "state": {
            "_dom_classes": [],
            "_model_module": "@jupyter-widgets/controls",
            "_model_module_version": "1.5.0",
            "_model_name": "FloatProgressModel",
            "_view_count": null,
            "_view_module": "@jupyter-widgets/controls",
            "_view_module_version": "1.5.0",
            "_view_name": "ProgressView",
            "bar_style": "success",
            "description": "",
            "description_tooltip": null,
            "layout": "IPY_MODEL_012d5b03a666499a856a880cfe7e18d0",
            "max": 78055620,
            "min": 0,
            "orientation": "horizontal",
            "style": "IPY_MODEL_c3d11f3653624923b4b124eb1716949f",
            "value": 78055620
          }
        },
        "0ad08d3367ad46f5a9af018e9c596c6c": {
          "model_module": "@jupyter-widgets/controls",
          "model_name": "HTMLModel",
          "model_module_version": "1.5.0",
          "state": {
            "_dom_classes": [],
            "_model_module": "@jupyter-widgets/controls",
            "_model_module_version": "1.5.0",
            "_model_name": "HTMLModel",
            "_view_count": null,
            "_view_module": "@jupyter-widgets/controls",
            "_view_module_version": "1.5.0",
            "_view_name": "HTMLView",
            "description": "",
            "description_tooltip": null,
            "layout": "IPY_MODEL_ccd44e680d654dfaadf7611f5a2d171c",
            "placeholder": "​",
            "style": "IPY_MODEL_3f869e5011d94c29b71ea705a3b11853",
            "value": " 78.1M/78.1M [00:00&lt;00:00, 162MB/s]"
          }
        },
        "e3838be003534798bce3b8c2cc928175": {
          "model_module": "@jupyter-widgets/base",
          "model_name": "LayoutModel",
          "model_module_version": "1.2.0",
          "state": {
            "_model_module": "@jupyter-widgets/base",
            "_model_module_version": "1.2.0",
            "_model_name": "LayoutModel",
            "_view_count": null,
            "_view_module": "@jupyter-widgets/base",
            "_view_module_version": "1.2.0",
            "_view_name": "LayoutView",
            "align_content": null,
            "align_items": null,
            "align_self": null,
            "border": null,
            "bottom": null,
            "display": null,
            "flex": null,
            "flex_flow": null,
            "grid_area": null,
            "grid_auto_columns": null,
            "grid_auto_flow": null,
            "grid_auto_rows": null,
            "grid_column": null,
            "grid_gap": null,
            "grid_row": null,
            "grid_template_areas": null,
            "grid_template_columns": null,
            "grid_template_rows": null,
            "height": null,
            "justify_content": null,
            "justify_items": null,
            "left": null,
            "margin": null,
            "max_height": null,
            "max_width": null,
            "min_height": null,
            "min_width": null,
            "object_fit": null,
            "object_position": null,
            "order": null,
            "overflow": null,
            "overflow_x": null,
            "overflow_y": null,
            "padding": null,
            "right": null,
            "top": null,
            "visibility": null,
            "width": null
          }
        },
        "8159d161389f4e53ac736a1411645a8e": {
          "model_module": "@jupyter-widgets/base",
          "model_name": "LayoutModel",
          "model_module_version": "1.2.0",
          "state": {
            "_model_module": "@jupyter-widgets/base",
            "_model_module_version": "1.2.0",
            "_model_name": "LayoutModel",
            "_view_count": null,
            "_view_module": "@jupyter-widgets/base",
            "_view_module_version": "1.2.0",
            "_view_name": "LayoutView",
            "align_content": null,
            "align_items": null,
            "align_self": null,
            "border": null,
            "bottom": null,
            "display": null,
            "flex": null,
            "flex_flow": null,
            "grid_area": null,
            "grid_auto_columns": null,
            "grid_auto_flow": null,
            "grid_auto_rows": null,
            "grid_column": null,
            "grid_gap": null,
            "grid_row": null,
            "grid_template_areas": null,
            "grid_template_columns": null,
            "grid_template_rows": null,
            "height": null,
            "justify_content": null,
            "justify_items": null,
            "left": null,
            "margin": null,
            "max_height": null,
            "max_width": null,
            "min_height": null,
            "min_width": null,
            "object_fit": null,
            "object_position": null,
            "order": null,
            "overflow": null,
            "overflow_x": null,
            "overflow_y": null,
            "padding": null,
            "right": null,
            "top": null,
            "visibility": null,
            "width": null
          }
        },
        "4dc458bd796c4934b58c6c66b9ed700f": {
          "model_module": "@jupyter-widgets/controls",
          "model_name": "DescriptionStyleModel",
          "model_module_version": "1.5.0",
          "state": {
            "_model_module": "@jupyter-widgets/controls",
            "_model_module_version": "1.5.0",
            "_model_name": "DescriptionStyleModel",
            "_view_count": null,
            "_view_module": "@jupyter-widgets/base",
            "_view_module_version": "1.2.0",
            "_view_name": "StyleView",
            "description_width": ""
          }
        },
        "012d5b03a666499a856a880cfe7e18d0": {
          "model_module": "@jupyter-widgets/base",
          "model_name": "LayoutModel",
          "model_module_version": "1.2.0",
          "state": {
            "_model_module": "@jupyter-widgets/base",
            "_model_module_version": "1.2.0",
            "_model_name": "LayoutModel",
            "_view_count": null,
            "_view_module": "@jupyter-widgets/base",
            "_view_module_version": "1.2.0",
            "_view_name": "LayoutView",
            "align_content": null,
            "align_items": null,
            "align_self": null,
            "border": null,
            "bottom": null,
            "display": null,
            "flex": null,
            "flex_flow": null,
            "grid_area": null,
            "grid_auto_columns": null,
            "grid_auto_flow": null,
            "grid_auto_rows": null,
            "grid_column": null,
            "grid_gap": null,
            "grid_row": null,
            "grid_template_areas": null,
            "grid_template_columns": null,
            "grid_template_rows": null,
            "height": null,
            "justify_content": null,
            "justify_items": null,
            "left": null,
            "margin": null,
            "max_height": null,
            "max_width": null,
            "min_height": null,
            "min_width": null,
            "object_fit": null,
            "object_position": null,
            "order": null,
            "overflow": null,
            "overflow_x": null,
            "overflow_y": null,
            "padding": null,
            "right": null,
            "top": null,
            "visibility": null,
            "width": null
          }
        },
        "c3d11f3653624923b4b124eb1716949f": {
          "model_module": "@jupyter-widgets/controls",
          "model_name": "ProgressStyleModel",
          "model_module_version": "1.5.0",
          "state": {
            "_model_module": "@jupyter-widgets/controls",
            "_model_module_version": "1.5.0",
            "_model_name": "ProgressStyleModel",
            "_view_count": null,
            "_view_module": "@jupyter-widgets/base",
            "_view_module_version": "1.2.0",
            "_view_name": "StyleView",
            "bar_color": null,
            "description_width": ""
          }
        },
        "ccd44e680d654dfaadf7611f5a2d171c": {
          "model_module": "@jupyter-widgets/base",
          "model_name": "LayoutModel",
          "model_module_version": "1.2.0",
          "state": {
            "_model_module": "@jupyter-widgets/base",
            "_model_module_version": "1.2.0",
            "_model_name": "LayoutModel",
            "_view_count": null,
            "_view_module": "@jupyter-widgets/base",
            "_view_module_version": "1.2.0",
            "_view_name": "LayoutView",
            "align_content": null,
            "align_items": null,
            "align_self": null,
            "border": null,
            "bottom": null,
            "display": null,
            "flex": null,
            "flex_flow": null,
            "grid_area": null,
            "grid_auto_columns": null,
            "grid_auto_flow": null,
            "grid_auto_rows": null,
            "grid_column": null,
            "grid_gap": null,
            "grid_row": null,
            "grid_template_areas": null,
            "grid_template_columns": null,
            "grid_template_rows": null,
            "height": null,
            "justify_content": null,
            "justify_items": null,
            "left": null,
            "margin": null,
            "max_height": null,
            "max_width": null,
            "min_height": null,
            "min_width": null,
            "object_fit": null,
            "object_position": null,
            "order": null,
            "overflow": null,
            "overflow_x": null,
            "overflow_y": null,
            "padding": null,
            "right": null,
            "top": null,
            "visibility": null,
            "width": null
          }
        },
        "3f869e5011d94c29b71ea705a3b11853": {
          "model_module": "@jupyter-widgets/controls",
          "model_name": "DescriptionStyleModel",
          "model_module_version": "1.5.0",
          "state": {
            "_model_module": "@jupyter-widgets/controls",
            "_model_module_version": "1.5.0",
            "_model_name": "DescriptionStyleModel",
            "_view_count": null,
            "_view_module": "@jupyter-widgets/base",
            "_view_module_version": "1.2.0",
            "_view_name": "StyleView",
            "description_width": ""
          }
        }
      }
    }
  },
  "nbformat": 4,
  "nbformat_minor": 0
}